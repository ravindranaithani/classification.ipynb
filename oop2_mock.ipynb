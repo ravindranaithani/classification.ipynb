{
  "nbformat": 4,
  "nbformat_minor": 0,
  "metadata": {
    "colab": {
      "provenance": [],
      "authorship_tag": "ABX9TyP6sic85kETldIufTMfFoKf",
      "include_colab_link": true
    },
    "kernelspec": {
      "name": "python3",
      "display_name": "Python 3"
    },
    "language_info": {
      "name": "python"
    }
  },
  "cells": [
    {
      "cell_type": "markdown",
      "metadata": {
        "id": "view-in-github",
        "colab_type": "text"
      },
      "source": [
        "<a href=\"https://colab.research.google.com/github/ravindranaithani/classification.ipynb/blob/main/oop2_mock.ipynb\" target=\"_parent\"><img src=\"https://colab.research.google.com/assets/colab-badge.svg\" alt=\"Open In Colab\"/></a>"
      ]
    },
    {
      "cell_type": "markdown",
      "source": [
        "# Mock OPP_2"
      ],
      "metadata": {
        "id": "ZcZdizzfygTQ"
      }
    },
    {
      "cell_type": "code",
      "execution_count": null,
      "metadata": {
        "id": "XQIvcBGvwcvd"
      },
      "outputs": [],
      "source": [
        "import pandas as pd\n",
        "import numpy as np\n",
        "import matplotlib.pyplot as plt\n"
      ]
    },
    {
      "cell_type": "code",
      "source": [
        "data = pd.read_csv(\"/content/V1.csv\")"
      ],
      "metadata": {
        "id": "M2kxO7aIy9VB"
      },
      "execution_count": null,
      "outputs": []
    },
    {
      "cell_type": "code",
      "source": [
        "data.shape"
      ],
      "metadata": {
        "colab": {
          "base_uri": "https://localhost:8080/"
        },
        "id": "D6gV_--_zNfX",
        "outputId": "41ce0d5d-8035-4d6b-c93e-3f078d2bb2a1"
      },
      "execution_count": null,
      "outputs": [
        {
          "output_type": "execute_result",
          "data": {
            "text/plain": [
              "(20000, 15)"
            ]
          },
          "metadata": {},
          "execution_count": 157
        }
      ]
    },
    {
      "cell_type": "code",
      "source": [
        "data.head()"
      ],
      "metadata": {
        "colab": {
          "base_uri": "https://localhost:8080/",
          "height": 328
        },
        "id": "xtfMeE4gzReQ",
        "outputId": "f1654e0f-f701-40a2-f863-5dd215cacfd7"
      },
      "execution_count": null,
      "outputs": [
        {
          "output_type": "execute_result",
          "data": {
            "text/plain": [
              "   age          workclass  fnlwgt   education  education-num  \\\n",
              "0   62   Self-emp-not-inc   26911     7th-8th              4   \n",
              "1   18            Private  208103        11th              7   \n",
              "2   25            Private  102476   Bachelors             13   \n",
              "3   33            Private  511517     HS-grad              9   \n",
              "4   36            Private  292570        11th              7   \n",
              "\n",
              "        marital-status          occupation     relationship    race      sex  \\\n",
              "0              Widowed       Other-service    Not-in-family   White   Female   \n",
              "1        Never-married       Other-service   Other-relative   White     Male   \n",
              "2        Never-married     Farming-fishing        Own-child   White     Male   \n",
              "3   Married-civ-spouse      Prof-specialty          Husband   White     Male   \n",
              "4        Never-married   Machine-op-inspct        Unmarried   White   Female   \n",
              "\n",
              "   capital-gain  capital-loss  hours-per-week  native-country IncomeGroup  \n",
              "0             0             0              66   United-States       <=50K  \n",
              "1             0             0              25   United-States       <=50K  \n",
              "2         27828             0              50   United-States        >50K  \n",
              "3             0             0              40   United-States       <=50K  \n",
              "4             0             0              40   United-States       <=50K  "
            ],
            "text/html": [
              "\n",
              "  <div id=\"df-fb3e81bd-9dec-4c09-a7b2-62bd527eb2ce\" class=\"colab-df-container\">\n",
              "    <div>\n",
              "<style scoped>\n",
              "    .dataframe tbody tr th:only-of-type {\n",
              "        vertical-align: middle;\n",
              "    }\n",
              "\n",
              "    .dataframe tbody tr th {\n",
              "        vertical-align: top;\n",
              "    }\n",
              "\n",
              "    .dataframe thead th {\n",
              "        text-align: right;\n",
              "    }\n",
              "</style>\n",
              "<table border=\"1\" class=\"dataframe\">\n",
              "  <thead>\n",
              "    <tr style=\"text-align: right;\">\n",
              "      <th></th>\n",
              "      <th>age</th>\n",
              "      <th>workclass</th>\n",
              "      <th>fnlwgt</th>\n",
              "      <th>education</th>\n",
              "      <th>education-num</th>\n",
              "      <th>marital-status</th>\n",
              "      <th>occupation</th>\n",
              "      <th>relationship</th>\n",
              "      <th>race</th>\n",
              "      <th>sex</th>\n",
              "      <th>capital-gain</th>\n",
              "      <th>capital-loss</th>\n",
              "      <th>hours-per-week</th>\n",
              "      <th>native-country</th>\n",
              "      <th>IncomeGroup</th>\n",
              "    </tr>\n",
              "  </thead>\n",
              "  <tbody>\n",
              "    <tr>\n",
              "      <th>0</th>\n",
              "      <td>62</td>\n",
              "      <td>Self-emp-not-inc</td>\n",
              "      <td>26911</td>\n",
              "      <td>7th-8th</td>\n",
              "      <td>4</td>\n",
              "      <td>Widowed</td>\n",
              "      <td>Other-service</td>\n",
              "      <td>Not-in-family</td>\n",
              "      <td>White</td>\n",
              "      <td>Female</td>\n",
              "      <td>0</td>\n",
              "      <td>0</td>\n",
              "      <td>66</td>\n",
              "      <td>United-States</td>\n",
              "      <td>&lt;=50K</td>\n",
              "    </tr>\n",
              "    <tr>\n",
              "      <th>1</th>\n",
              "      <td>18</td>\n",
              "      <td>Private</td>\n",
              "      <td>208103</td>\n",
              "      <td>11th</td>\n",
              "      <td>7</td>\n",
              "      <td>Never-married</td>\n",
              "      <td>Other-service</td>\n",
              "      <td>Other-relative</td>\n",
              "      <td>White</td>\n",
              "      <td>Male</td>\n",
              "      <td>0</td>\n",
              "      <td>0</td>\n",
              "      <td>25</td>\n",
              "      <td>United-States</td>\n",
              "      <td>&lt;=50K</td>\n",
              "    </tr>\n",
              "    <tr>\n",
              "      <th>2</th>\n",
              "      <td>25</td>\n",
              "      <td>Private</td>\n",
              "      <td>102476</td>\n",
              "      <td>Bachelors</td>\n",
              "      <td>13</td>\n",
              "      <td>Never-married</td>\n",
              "      <td>Farming-fishing</td>\n",
              "      <td>Own-child</td>\n",
              "      <td>White</td>\n",
              "      <td>Male</td>\n",
              "      <td>27828</td>\n",
              "      <td>0</td>\n",
              "      <td>50</td>\n",
              "      <td>United-States</td>\n",
              "      <td>&gt;50K</td>\n",
              "    </tr>\n",
              "    <tr>\n",
              "      <th>3</th>\n",
              "      <td>33</td>\n",
              "      <td>Private</td>\n",
              "      <td>511517</td>\n",
              "      <td>HS-grad</td>\n",
              "      <td>9</td>\n",
              "      <td>Married-civ-spouse</td>\n",
              "      <td>Prof-specialty</td>\n",
              "      <td>Husband</td>\n",
              "      <td>White</td>\n",
              "      <td>Male</td>\n",
              "      <td>0</td>\n",
              "      <td>0</td>\n",
              "      <td>40</td>\n",
              "      <td>United-States</td>\n",
              "      <td>&lt;=50K</td>\n",
              "    </tr>\n",
              "    <tr>\n",
              "      <th>4</th>\n",
              "      <td>36</td>\n",
              "      <td>Private</td>\n",
              "      <td>292570</td>\n",
              "      <td>11th</td>\n",
              "      <td>7</td>\n",
              "      <td>Never-married</td>\n",
              "      <td>Machine-op-inspct</td>\n",
              "      <td>Unmarried</td>\n",
              "      <td>White</td>\n",
              "      <td>Female</td>\n",
              "      <td>0</td>\n",
              "      <td>0</td>\n",
              "      <td>40</td>\n",
              "      <td>United-States</td>\n",
              "      <td>&lt;=50K</td>\n",
              "    </tr>\n",
              "  </tbody>\n",
              "</table>\n",
              "</div>\n",
              "    <div class=\"colab-df-buttons\">\n",
              "\n",
              "  <div class=\"colab-df-container\">\n",
              "    <button class=\"colab-df-convert\" onclick=\"convertToInteractive('df-fb3e81bd-9dec-4c09-a7b2-62bd527eb2ce')\"\n",
              "            title=\"Convert this dataframe to an interactive table.\"\n",
              "            style=\"display:none;\">\n",
              "\n",
              "  <svg xmlns=\"http://www.w3.org/2000/svg\" height=\"24px\" viewBox=\"0 -960 960 960\">\n",
              "    <path d=\"M120-120v-720h720v720H120Zm60-500h600v-160H180v160Zm220 220h160v-160H400v160Zm0 220h160v-160H400v160ZM180-400h160v-160H180v160Zm440 0h160v-160H620v160ZM180-180h160v-160H180v160Zm440 0h160v-160H620v160Z\"/>\n",
              "  </svg>\n",
              "    </button>\n",
              "\n",
              "  <style>\n",
              "    .colab-df-container {\n",
              "      display:flex;\n",
              "      gap: 12px;\n",
              "    }\n",
              "\n",
              "    .colab-df-convert {\n",
              "      background-color: #E8F0FE;\n",
              "      border: none;\n",
              "      border-radius: 50%;\n",
              "      cursor: pointer;\n",
              "      display: none;\n",
              "      fill: #1967D2;\n",
              "      height: 32px;\n",
              "      padding: 0 0 0 0;\n",
              "      width: 32px;\n",
              "    }\n",
              "\n",
              "    .colab-df-convert:hover {\n",
              "      background-color: #E2EBFA;\n",
              "      box-shadow: 0px 1px 2px rgba(60, 64, 67, 0.3), 0px 1px 3px 1px rgba(60, 64, 67, 0.15);\n",
              "      fill: #174EA6;\n",
              "    }\n",
              "\n",
              "    .colab-df-buttons div {\n",
              "      margin-bottom: 4px;\n",
              "    }\n",
              "\n",
              "    [theme=dark] .colab-df-convert {\n",
              "      background-color: #3B4455;\n",
              "      fill: #D2E3FC;\n",
              "    }\n",
              "\n",
              "    [theme=dark] .colab-df-convert:hover {\n",
              "      background-color: #434B5C;\n",
              "      box-shadow: 0px 1px 3px 1px rgba(0, 0, 0, 0.15);\n",
              "      filter: drop-shadow(0px 1px 2px rgba(0, 0, 0, 0.3));\n",
              "      fill: #FFFFFF;\n",
              "    }\n",
              "  </style>\n",
              "\n",
              "    <script>\n",
              "      const buttonEl =\n",
              "        document.querySelector('#df-fb3e81bd-9dec-4c09-a7b2-62bd527eb2ce button.colab-df-convert');\n",
              "      buttonEl.style.display =\n",
              "        google.colab.kernel.accessAllowed ? 'block' : 'none';\n",
              "\n",
              "      async function convertToInteractive(key) {\n",
              "        const element = document.querySelector('#df-fb3e81bd-9dec-4c09-a7b2-62bd527eb2ce');\n",
              "        const dataTable =\n",
              "          await google.colab.kernel.invokeFunction('convertToInteractive',\n",
              "                                                    [key], {});\n",
              "        if (!dataTable) return;\n",
              "\n",
              "        const docLinkHtml = 'Like what you see? Visit the ' +\n",
              "          '<a target=\"_blank\" href=https://colab.research.google.com/notebooks/data_table.ipynb>data table notebook</a>'\n",
              "          + ' to learn more about interactive tables.';\n",
              "        element.innerHTML = '';\n",
              "        dataTable['output_type'] = 'display_data';\n",
              "        await google.colab.output.renderOutput(dataTable, element);\n",
              "        const docLink = document.createElement('div');\n",
              "        docLink.innerHTML = docLinkHtml;\n",
              "        element.appendChild(docLink);\n",
              "      }\n",
              "    </script>\n",
              "  </div>\n",
              "\n",
              "\n",
              "<div id=\"df-25f3ad70-b391-4b2f-865d-d97d69829f19\">\n",
              "  <button class=\"colab-df-quickchart\" onclick=\"quickchart('df-25f3ad70-b391-4b2f-865d-d97d69829f19')\"\n",
              "            title=\"Suggest charts\"\n",
              "            style=\"display:none;\">\n",
              "\n",
              "<svg xmlns=\"http://www.w3.org/2000/svg\" height=\"24px\"viewBox=\"0 0 24 24\"\n",
              "     width=\"24px\">\n",
              "    <g>\n",
              "        <path d=\"M19 3H5c-1.1 0-2 .9-2 2v14c0 1.1.9 2 2 2h14c1.1 0 2-.9 2-2V5c0-1.1-.9-2-2-2zM9 17H7v-7h2v7zm4 0h-2V7h2v10zm4 0h-2v-4h2v4z\"/>\n",
              "    </g>\n",
              "</svg>\n",
              "  </button>\n",
              "\n",
              "<style>\n",
              "  .colab-df-quickchart {\n",
              "      --bg-color: #E8F0FE;\n",
              "      --fill-color: #1967D2;\n",
              "      --hover-bg-color: #E2EBFA;\n",
              "      --hover-fill-color: #174EA6;\n",
              "      --disabled-fill-color: #AAA;\n",
              "      --disabled-bg-color: #DDD;\n",
              "  }\n",
              "\n",
              "  [theme=dark] .colab-df-quickchart {\n",
              "      --bg-color: #3B4455;\n",
              "      --fill-color: #D2E3FC;\n",
              "      --hover-bg-color: #434B5C;\n",
              "      --hover-fill-color: #FFFFFF;\n",
              "      --disabled-bg-color: #3B4455;\n",
              "      --disabled-fill-color: #666;\n",
              "  }\n",
              "\n",
              "  .colab-df-quickchart {\n",
              "    background-color: var(--bg-color);\n",
              "    border: none;\n",
              "    border-radius: 50%;\n",
              "    cursor: pointer;\n",
              "    display: none;\n",
              "    fill: var(--fill-color);\n",
              "    height: 32px;\n",
              "    padding: 0;\n",
              "    width: 32px;\n",
              "  }\n",
              "\n",
              "  .colab-df-quickchart:hover {\n",
              "    background-color: var(--hover-bg-color);\n",
              "    box-shadow: 0 1px 2px rgba(60, 64, 67, 0.3), 0 1px 3px 1px rgba(60, 64, 67, 0.15);\n",
              "    fill: var(--button-hover-fill-color);\n",
              "  }\n",
              "\n",
              "  .colab-df-quickchart-complete:disabled,\n",
              "  .colab-df-quickchart-complete:disabled:hover {\n",
              "    background-color: var(--disabled-bg-color);\n",
              "    fill: var(--disabled-fill-color);\n",
              "    box-shadow: none;\n",
              "  }\n",
              "\n",
              "  .colab-df-spinner {\n",
              "    border: 2px solid var(--fill-color);\n",
              "    border-color: transparent;\n",
              "    border-bottom-color: var(--fill-color);\n",
              "    animation:\n",
              "      spin 1s steps(1) infinite;\n",
              "  }\n",
              "\n",
              "  @keyframes spin {\n",
              "    0% {\n",
              "      border-color: transparent;\n",
              "      border-bottom-color: var(--fill-color);\n",
              "      border-left-color: var(--fill-color);\n",
              "    }\n",
              "    20% {\n",
              "      border-color: transparent;\n",
              "      border-left-color: var(--fill-color);\n",
              "      border-top-color: var(--fill-color);\n",
              "    }\n",
              "    30% {\n",
              "      border-color: transparent;\n",
              "      border-left-color: var(--fill-color);\n",
              "      border-top-color: var(--fill-color);\n",
              "      border-right-color: var(--fill-color);\n",
              "    }\n",
              "    40% {\n",
              "      border-color: transparent;\n",
              "      border-right-color: var(--fill-color);\n",
              "      border-top-color: var(--fill-color);\n",
              "    }\n",
              "    60% {\n",
              "      border-color: transparent;\n",
              "      border-right-color: var(--fill-color);\n",
              "    }\n",
              "    80% {\n",
              "      border-color: transparent;\n",
              "      border-right-color: var(--fill-color);\n",
              "      border-bottom-color: var(--fill-color);\n",
              "    }\n",
              "    90% {\n",
              "      border-color: transparent;\n",
              "      border-bottom-color: var(--fill-color);\n",
              "    }\n",
              "  }\n",
              "</style>\n",
              "\n",
              "  <script>\n",
              "    async function quickchart(key) {\n",
              "      const quickchartButtonEl =\n",
              "        document.querySelector('#' + key + ' button');\n",
              "      quickchartButtonEl.disabled = true;  // To prevent multiple clicks.\n",
              "      quickchartButtonEl.classList.add('colab-df-spinner');\n",
              "      try {\n",
              "        const charts = await google.colab.kernel.invokeFunction(\n",
              "            'suggestCharts', [key], {});\n",
              "      } catch (error) {\n",
              "        console.error('Error during call to suggestCharts:', error);\n",
              "      }\n",
              "      quickchartButtonEl.classList.remove('colab-df-spinner');\n",
              "      quickchartButtonEl.classList.add('colab-df-quickchart-complete');\n",
              "    }\n",
              "    (() => {\n",
              "      let quickchartButtonEl =\n",
              "        document.querySelector('#df-25f3ad70-b391-4b2f-865d-d97d69829f19 button');\n",
              "      quickchartButtonEl.style.display =\n",
              "        google.colab.kernel.accessAllowed ? 'block' : 'none';\n",
              "    })();\n",
              "  </script>\n",
              "</div>\n",
              "    </div>\n",
              "  </div>\n"
            ]
          },
          "metadata": {},
          "execution_count": 158
        }
      ]
    },
    {
      "cell_type": "code",
      "source": [
        "data.isna().sum()"
      ],
      "metadata": {
        "id": "yYaljVrSzZk2",
        "colab": {
          "base_uri": "https://localhost:8080/"
        },
        "outputId": "4b1c97a6-eacb-4282-a31c-4f090d54ac0b"
      },
      "execution_count": null,
      "outputs": [
        {
          "output_type": "execute_result",
          "data": {
            "text/plain": [
              "age               0\n",
              "workclass         0\n",
              "fnlwgt            0\n",
              "education         0\n",
              "education-num     0\n",
              "marital-status    0\n",
              "occupation        0\n",
              "relationship      0\n",
              "race              0\n",
              "sex               0\n",
              "capital-gain      0\n",
              "capital-loss      0\n",
              "hours-per-week    0\n",
              "native-country    0\n",
              "IncomeGroup       0\n",
              "dtype: int64"
            ]
          },
          "metadata": {},
          "execution_count": 159
        }
      ]
    },
    {
      "cell_type": "markdown",
      "source": [
        "# Q:\n",
        "\n",
        "Check all \" ?\" symbol in the dataset and replace it with \"np.nan\" value . Which of the columns in the dataset have null values?\n",
        "\n"
      ],
      "metadata": {
        "id": "eeF7xuplVTmk"
      }
    },
    {
      "cell_type": "code",
      "source": [
        "columns_with_question_mark = data.columns[data.isin([' ?']).any()].tolist()\n",
        "columns_with_question_mark"
      ],
      "metadata": {
        "colab": {
          "base_uri": "https://localhost:8080/"
        },
        "id": "9AnDKvWL7AQQ",
        "outputId": "8407e18a-4c87-41e6-8e74-f909af7be33b"
      },
      "execution_count": null,
      "outputs": [
        {
          "output_type": "execute_result",
          "data": {
            "text/plain": [
              "['workclass', 'occupation', 'native-country']"
            ]
          },
          "metadata": {},
          "execution_count": 160
        }
      ]
    },
    {
      "cell_type": "code",
      "source": [
        "data.columns[data.isin([' ?']).any()]"
      ],
      "metadata": {
        "colab": {
          "base_uri": "https://localhost:8080/"
        },
        "id": "DPETTYu8_Kvz",
        "outputId": "fcf4e1a8-535f-4aa9-eeb8-69265dc67025"
      },
      "execution_count": null,
      "outputs": [
        {
          "output_type": "execute_result",
          "data": {
            "text/plain": [
              "Index(['workclass', 'occupation', 'native-country'], dtype='object')"
            ]
          },
          "metadata": {},
          "execution_count": 161
        }
      ]
    },
    {
      "cell_type": "code",
      "source": [
        "data.isin([' ?']).sum()"
      ],
      "metadata": {
        "colab": {
          "base_uri": "https://localhost:8080/"
        },
        "id": "opRCDWHxUfU5",
        "outputId": "4f95d845-ff81-4d22-a9d3-ae2eca19391c"
      },
      "execution_count": null,
      "outputs": [
        {
          "output_type": "execute_result",
          "data": {
            "text/plain": [
              "age                  0\n",
              "workclass         1137\n",
              "fnlwgt               0\n",
              "education            0\n",
              "education-num        0\n",
              "marital-status       0\n",
              "occupation        1140\n",
              "relationship         0\n",
              "race                 0\n",
              "sex                  0\n",
              "capital-gain         0\n",
              "capital-loss         0\n",
              "hours-per-week       0\n",
              "native-country     354\n",
              "IncomeGroup          0\n",
              "dtype: int64"
            ]
          },
          "metadata": {},
          "execution_count": 162
        }
      ]
    },
    {
      "cell_type": "code",
      "source": [
        "data.applymap(lambda X : str(X)== ' ?').sum()"
      ],
      "metadata": {
        "colab": {
          "base_uri": "https://localhost:8080/"
        },
        "id": "HOdVcbBD0rr_",
        "outputId": "b20ea4c1-596c-4440-9997-c781a9480d7a"
      },
      "execution_count": null,
      "outputs": [
        {
          "output_type": "execute_result",
          "data": {
            "text/plain": [
              "age                  0\n",
              "workclass         1137\n",
              "fnlwgt               0\n",
              "education            0\n",
              "education-num        0\n",
              "marital-status       0\n",
              "occupation        1140\n",
              "relationship         0\n",
              "race                 0\n",
              "sex                  0\n",
              "capital-gain         0\n",
              "capital-loss         0\n",
              "hours-per-week       0\n",
              "native-country     354\n",
              "IncomeGroup          0\n",
              "dtype: int64"
            ]
          },
          "metadata": {},
          "execution_count": 163
        }
      ]
    },
    {
      "cell_type": "code",
      "source": [
        "data .replace(' ?',np.nan,inplace = True)"
      ],
      "metadata": {
        "id": "IRwMchsG0_5R"
      },
      "execution_count": null,
      "outputs": []
    },
    {
      "cell_type": "code",
      "source": [
        "data.isna().sum()"
      ],
      "metadata": {
        "colab": {
          "base_uri": "https://localhost:8080/"
        },
        "id": "edqXsfuk1Ya2",
        "outputId": "f8166062-8a68-4089-94bf-fceb7b6ec259"
      },
      "execution_count": null,
      "outputs": [
        {
          "output_type": "execute_result",
          "data": {
            "text/plain": [
              "age                  0\n",
              "workclass         1137\n",
              "fnlwgt               0\n",
              "education            0\n",
              "education-num        0\n",
              "marital-status       0\n",
              "occupation        1140\n",
              "relationship         0\n",
              "race                 0\n",
              "sex                  0\n",
              "capital-gain         0\n",
              "capital-loss         0\n",
              "hours-per-week       0\n",
              "native-country     354\n",
              "IncomeGroup          0\n",
              "dtype: int64"
            ]
          },
          "metadata": {},
          "execution_count": 165
        }
      ]
    },
    {
      "cell_type": "code",
      "source": [
        "data.columns[data.isnull().any()].to_list()"
      ],
      "metadata": {
        "colab": {
          "base_uri": "https://localhost:8080/"
        },
        "id": "qspip-gv1f-L",
        "outputId": "aeb5483b-3b9b-48a6-c704-74b23a21bc98"
      },
      "execution_count": null,
      "outputs": [
        {
          "output_type": "execute_result",
          "data": {
            "text/plain": [
              "['workclass', 'occupation', 'native-country']"
            ]
          },
          "metadata": {},
          "execution_count": 166
        }
      ]
    },
    {
      "cell_type": "code",
      "source": [
        "data.isnull().any()"
      ],
      "metadata": {
        "id": "Ju2ZY5SM3UcC",
        "colab": {
          "base_uri": "https://localhost:8080/"
        },
        "outputId": "4fd0cb5d-c6cc-4bca-d278-6ffae0572424"
      },
      "execution_count": null,
      "outputs": [
        {
          "output_type": "execute_result",
          "data": {
            "text/plain": [
              "age               False\n",
              "workclass          True\n",
              "fnlwgt            False\n",
              "education         False\n",
              "education-num     False\n",
              "marital-status    False\n",
              "occupation         True\n",
              "relationship      False\n",
              "race              False\n",
              "sex               False\n",
              "capital-gain      False\n",
              "capital-loss      False\n",
              "hours-per-week    False\n",
              "native-country     True\n",
              "IncomeGroup       False\n",
              "dtype: bool"
            ]
          },
          "metadata": {},
          "execution_count": 167
        }
      ]
    },
    {
      "cell_type": "code",
      "source": [
        "data.columns[data.isnull().any()].tolist()"
      ],
      "metadata": {
        "colab": {
          "base_uri": "https://localhost:8080/"
        },
        "id": "Qh3sP5gt3oMy",
        "outputId": "ad98cab5-e21f-46ea-f326-8e3d1ed1d028"
      },
      "execution_count": null,
      "outputs": [
        {
          "output_type": "execute_result",
          "data": {
            "text/plain": [
              "['workclass', 'occupation', 'native-country']"
            ]
          },
          "metadata": {},
          "execution_count": 168
        }
      ]
    },
    {
      "cell_type": "markdown",
      "source": [
        "# Q:\n",
        "\n",
        "What fraction of total samples (in percentage) have missing value in occupation column?"
      ],
      "metadata": {
        "id": "czCvTstGVp6x"
      }
    },
    {
      "cell_type": "code",
      "source": [
        "pd.isna(data['occupation']).sum()"
      ],
      "metadata": {
        "id": "_zkHVML4683W",
        "colab": {
          "base_uri": "https://localhost:8080/"
        },
        "outputId": "348b1011-0888-43b8-ebd0-8b52ffafcd95"
      },
      "execution_count": null,
      "outputs": [
        {
          "output_type": "execute_result",
          "data": {
            "text/plain": [
              "1140"
            ]
          },
          "metadata": {},
          "execution_count": 169
        }
      ]
    },
    {
      "cell_type": "code",
      "source": [
        "(pd.isna(data['occupation']).sum()/data.shape[0])*100"
      ],
      "metadata": {
        "colab": {
          "base_uri": "https://localhost:8080/"
        },
        "id": "YsTrMyEMZHVp",
        "outputId": "ef0026c8-e9aa-40a0-86dc-a2bb7ee84b98"
      },
      "execution_count": null,
      "outputs": [
        {
          "output_type": "execute_result",
          "data": {
            "text/plain": [
              "5.7"
            ]
          },
          "metadata": {},
          "execution_count": 170
        }
      ]
    },
    {
      "cell_type": "markdown",
      "source": [],
      "metadata": {
        "id": "daIWfvVGbDBq"
      }
    },
    {
      "cell_type": "code",
      "source": [
        "data['IncomeGroup'].value_counts()"
      ],
      "metadata": {
        "colab": {
          "base_uri": "https://localhost:8080/"
        },
        "id": "KcsgDikSbDlk",
        "outputId": "ba641aec-ca07-428b-c97d-59469d8f7ba6"
      },
      "execution_count": null,
      "outputs": [
        {
          "output_type": "execute_result",
          "data": {
            "text/plain": [
              " <=50K    15302\n",
              " >50K      4698\n",
              "Name: IncomeGroup, dtype: int64"
            ]
          },
          "metadata": {},
          "execution_count": 171
        }
      ]
    },
    {
      "cell_type": "code",
      "source": [
        "count_less_than_50k = (data['IncomeGroup'].str.strip().str.lower() == '<=50k').sum()\n",
        "print(f\"Count of '<=50k': {count_less_than_50k}\")"
      ],
      "metadata": {
        "colab": {
          "base_uri": "https://localhost:8080/"
        },
        "id": "x5PtFR4zgXpK",
        "outputId": "21e76523-3c9c-4d42-b67e-cf893bb2abe3"
      },
      "execution_count": null,
      "outputs": [
        {
          "output_type": "stream",
          "name": "stdout",
          "text": [
            "Count of '<=50k': 15302\n"
          ]
        }
      ]
    },
    {
      "cell_type": "code",
      "source": [
        "(data['IncomeGroup'].str.contains('<=50k',regex=True,na=False,case=False).sum())"
      ],
      "metadata": {
        "colab": {
          "base_uri": "https://localhost:8080/"
        },
        "id": "BE2okwMVpGHt",
        "outputId": "795575bc-5f2c-496f-9901-1e36fd853d80"
      },
      "execution_count": null,
      "outputs": [
        {
          "output_type": "execute_result",
          "data": {
            "text/plain": [
              "15302"
            ]
          },
          "metadata": {},
          "execution_count": 173
        }
      ]
    },
    {
      "cell_type": "code",
      "source": [
        "data['IncomeGroup'].unique()"
      ],
      "metadata": {
        "colab": {
          "base_uri": "https://localhost:8080/"
        },
        "id": "_d6GVliArlkA",
        "outputId": "364948b1-1cec-470c-9fbf-5f8beea9ab6d"
      },
      "execution_count": null,
      "outputs": [
        {
          "output_type": "execute_result",
          "data": {
            "text/plain": [
              "array([' <=50K', ' >50K'], dtype=object)"
            ]
          },
          "metadata": {},
          "execution_count": 174
        }
      ]
    },
    {
      "cell_type": "code",
      "source": [
        "(data['IncomeGroup'].str.strip().str.lower()== '<=50k').sum()"
      ],
      "metadata": {
        "colab": {
          "base_uri": "https://localhost:8080/"
        },
        "id": "pnOh1puXveqr",
        "outputId": "3249b692-05bf-4c75-9d0d-808084bed971"
      },
      "execution_count": null,
      "outputs": [
        {
          "output_type": "execute_result",
          "data": {
            "text/plain": [
              "15302"
            ]
          },
          "metadata": {},
          "execution_count": 175
        }
      ]
    },
    {
      "cell_type": "code",
      "source": [
        "(15302/20000)*100"
      ],
      "metadata": {
        "colab": {
          "base_uri": "https://localhost:8080/"
        },
        "id": "hsmbEKAQwFKM",
        "outputId": "e2e034f3-31db-4ed3-987b-7c9c5b144b7b"
      },
      "execution_count": null,
      "outputs": [
        {
          "output_type": "execute_result",
          "data": {
            "text/plain": [
              "76.51"
            ]
          },
          "metadata": {},
          "execution_count": 176
        }
      ]
    },
    {
      "cell_type": "markdown",
      "source": [
        "# Q:What is the mean age of the samples given in the dataset(mark the closest integer from the given options)?"
      ],
      "metadata": {
        "id": "_Xg_1hVrhcTG"
      }
    },
    {
      "cell_type": "code",
      "source": [
        "data['age'].mean()"
      ],
      "metadata": {
        "colab": {
          "base_uri": "https://localhost:8080/"
        },
        "id": "zpsasbhKwa1b",
        "outputId": "07197811-d0b4-49c6-cad7-c28c1c72a9e4"
      },
      "execution_count": null,
      "outputs": [
        {
          "output_type": "execute_result",
          "data": {
            "text/plain": [
              "38.553"
            ]
          },
          "metadata": {},
          "execution_count": 177
        }
      ]
    },
    {
      "cell_type": "markdown",
      "source": [
        "# Q: How many people have completed their education upto \"Preschool\" only ?"
      ],
      "metadata": {
        "id": "l-jss3vvhtFT"
      }
    },
    {
      "cell_type": "code",
      "source": [
        "data.education.unique()"
      ],
      "metadata": {
        "colab": {
          "base_uri": "https://localhost:8080/"
        },
        "id": "5HRKMOD-hvpR",
        "outputId": "ed931c86-6f1f-4a60-d4c0-8392c97ad4d7"
      },
      "execution_count": null,
      "outputs": [
        {
          "output_type": "execute_result",
          "data": {
            "text/plain": [
              "array([' 7th-8th', ' 11th', ' Bachelors', ' HS-grad', ' Some-college',\n",
              "       ' Masters', ' Assoc-voc', ' Doctorate', ' 5th-6th', ' 10th',\n",
              "       ' 12th', ' Assoc-acdm', ' Prof-school', ' 9th', ' 1st-4th',\n",
              "       ' Preschool'], dtype=object)"
            ]
          },
          "metadata": {},
          "execution_count": 178
        }
      ]
    },
    {
      "cell_type": "code",
      "source": [
        "data.education.value_counts()"
      ],
      "metadata": {
        "colab": {
          "base_uri": "https://localhost:8080/"
        },
        "id": "0_HmYpWWiEK5",
        "outputId": "4cef23a9-7876-4b32-f0e9-12f6f6f64792"
      },
      "execution_count": null,
      "outputs": [
        {
          "output_type": "execute_result",
          "data": {
            "text/plain": [
              " HS-grad         6477\n",
              " Some-college    4458\n",
              " Bachelors       3279\n",
              " Masters         1039\n",
              " Assoc-voc        826\n",
              " 11th             718\n",
              " Assoc-acdm       662\n",
              " 10th             579\n",
              " 7th-8th          403\n",
              " Prof-school      353\n",
              " 9th              322\n",
              " 12th             270\n",
              " Doctorate        257\n",
              " 5th-6th          223\n",
              " 1st-4th          102\n",
              " Preschool         32\n",
              "Name: education, dtype: int64"
            ]
          },
          "metadata": {},
          "execution_count": 179
        }
      ]
    },
    {
      "cell_type": "code",
      "source": [
        "type(data.education)"
      ],
      "metadata": {
        "colab": {
          "base_uri": "https://localhost:8080/"
        },
        "id": "VaSiauSwinc-",
        "outputId": "8bc22889-c20e-4b49-bf65-bdf57be51382"
      },
      "execution_count": null,
      "outputs": [
        {
          "output_type": "execute_result",
          "data": {
            "text/plain": [
              "pandas.core.series.Series"
            ]
          },
          "metadata": {},
          "execution_count": 180
        }
      ]
    },
    {
      "cell_type": "code",
      "source": [
        "(data['education']==' Preschool').sum()\n"
      ],
      "metadata": {
        "colab": {
          "base_uri": "https://localhost:8080/"
        },
        "id": "8tvKcrycjBZ5",
        "outputId": "e77e7974-2781-4661-b3c5-e86a7459680e"
      },
      "execution_count": null,
      "outputs": [
        {
          "output_type": "execute_result",
          "data": {
            "text/plain": [
              "32"
            ]
          },
          "metadata": {},
          "execution_count": 181
        }
      ]
    },
    {
      "cell_type": "code",
      "source": [
        "data['education'] = data['education'].str.strip()# remove leading whitespace\n",
        "(data['education']=='Preschool').sum()\n"
      ],
      "metadata": {
        "colab": {
          "base_uri": "https://localhost:8080/"
        },
        "id": "j1LZG_MZnrsH",
        "outputId": "52c35805-ea52-4063-8346-66b15b287f7d"
      },
      "execution_count": null,
      "outputs": [
        {
          "output_type": "execute_result",
          "data": {
            "text/plain": [
              "32"
            ]
          },
          "metadata": {},
          "execution_count": 182
        }
      ]
    },
    {
      "cell_type": "code",
      "source": [
        "data['education'].unique()"
      ],
      "metadata": {
        "colab": {
          "base_uri": "https://localhost:8080/"
        },
        "id": "NvM8Ct3koT6J",
        "outputId": "0aabee3d-c036-4b46-dbfe-0d26de615553"
      },
      "execution_count": null,
      "outputs": [
        {
          "output_type": "execute_result",
          "data": {
            "text/plain": [
              "array(['7th-8th', '11th', 'Bachelors', 'HS-grad', 'Some-college',\n",
              "       'Masters', 'Assoc-voc', 'Doctorate', '5th-6th', '10th', '12th',\n",
              "       'Assoc-acdm', 'Prof-school', '9th', '1st-4th', 'Preschool'],\n",
              "      dtype=object)"
            ]
          },
          "metadata": {},
          "execution_count": 183
        }
      ]
    },
    {
      "cell_type": "markdown",
      "source": [
        "# Q:What is the correlation cofficient between column \"education-num\" and column \"capital-gain\" ?\n"
      ],
      "metadata": {
        "id": "1bDKPPmkocDw"
      }
    },
    {
      "cell_type": "code",
      "source": [
        "data['education-num'].corr(data['capital-gain'])"
      ],
      "metadata": {
        "colab": {
          "base_uri": "https://localhost:8080/"
        },
        "id": "2LCN3F61okY2",
        "outputId": "0fc2f18e-df61-4174-a2eb-9b83632b5f07"
      },
      "execution_count": null,
      "outputs": [
        {
          "output_type": "execute_result",
          "data": {
            "text/plain": [
              "0.12456727883397226"
            ]
          },
          "metadata": {},
          "execution_count": 184
        }
      ]
    },
    {
      "cell_type": "code",
      "source": [
        "data.corr()"
      ],
      "metadata": {
        "colab": {
          "base_uri": "https://localhost:8080/",
          "height": 293
        },
        "id": "BdMLBdezpVIW",
        "outputId": "490980d4-f0aa-4d16-f051-f0cd785ee4ab"
      },
      "execution_count": null,
      "outputs": [
        {
          "output_type": "stream",
          "name": "stderr",
          "text": [
            "<ipython-input-185-c44ded798807>:1: FutureWarning: The default value of numeric_only in DataFrame.corr is deprecated. In a future version, it will default to False. Select only valid columns or specify the value of numeric_only to silence this warning.\n",
            "  data.corr()\n"
          ]
        },
        {
          "output_type": "execute_result",
          "data": {
            "text/plain": [
              "                     age    fnlwgt  education-num  capital-gain  capital-loss  \\\n",
              "age             1.000000 -0.071322       0.042720      0.082959      0.054860   \n",
              "fnlwgt         -0.071322  1.000000      -0.050441     -0.009390     -0.012992   \n",
              "education-num   0.042720 -0.050441       1.000000      0.124567      0.080085   \n",
              "capital-gain    0.082959 -0.009390       0.124567      1.000000     -0.031598   \n",
              "capital-loss    0.054860 -0.012992       0.080085     -0.031598      1.000000   \n",
              "hours-per-week  0.068613 -0.018445       0.140452      0.084474      0.049945   \n",
              "\n",
              "                hours-per-week  \n",
              "age                   0.068613  \n",
              "fnlwgt               -0.018445  \n",
              "education-num         0.140452  \n",
              "capital-gain          0.084474  \n",
              "capital-loss          0.049945  \n",
              "hours-per-week        1.000000  "
            ],
            "text/html": [
              "\n",
              "  <div id=\"df-484c8ce1-8f3f-4941-afa9-65eaa2648060\" class=\"colab-df-container\">\n",
              "    <div>\n",
              "<style scoped>\n",
              "    .dataframe tbody tr th:only-of-type {\n",
              "        vertical-align: middle;\n",
              "    }\n",
              "\n",
              "    .dataframe tbody tr th {\n",
              "        vertical-align: top;\n",
              "    }\n",
              "\n",
              "    .dataframe thead th {\n",
              "        text-align: right;\n",
              "    }\n",
              "</style>\n",
              "<table border=\"1\" class=\"dataframe\">\n",
              "  <thead>\n",
              "    <tr style=\"text-align: right;\">\n",
              "      <th></th>\n",
              "      <th>age</th>\n",
              "      <th>fnlwgt</th>\n",
              "      <th>education-num</th>\n",
              "      <th>capital-gain</th>\n",
              "      <th>capital-loss</th>\n",
              "      <th>hours-per-week</th>\n",
              "    </tr>\n",
              "  </thead>\n",
              "  <tbody>\n",
              "    <tr>\n",
              "      <th>age</th>\n",
              "      <td>1.000000</td>\n",
              "      <td>-0.071322</td>\n",
              "      <td>0.042720</td>\n",
              "      <td>0.082959</td>\n",
              "      <td>0.054860</td>\n",
              "      <td>0.068613</td>\n",
              "    </tr>\n",
              "    <tr>\n",
              "      <th>fnlwgt</th>\n",
              "      <td>-0.071322</td>\n",
              "      <td>1.000000</td>\n",
              "      <td>-0.050441</td>\n",
              "      <td>-0.009390</td>\n",
              "      <td>-0.012992</td>\n",
              "      <td>-0.018445</td>\n",
              "    </tr>\n",
              "    <tr>\n",
              "      <th>education-num</th>\n",
              "      <td>0.042720</td>\n",
              "      <td>-0.050441</td>\n",
              "      <td>1.000000</td>\n",
              "      <td>0.124567</td>\n",
              "      <td>0.080085</td>\n",
              "      <td>0.140452</td>\n",
              "    </tr>\n",
              "    <tr>\n",
              "      <th>capital-gain</th>\n",
              "      <td>0.082959</td>\n",
              "      <td>-0.009390</td>\n",
              "      <td>0.124567</td>\n",
              "      <td>1.000000</td>\n",
              "      <td>-0.031598</td>\n",
              "      <td>0.084474</td>\n",
              "    </tr>\n",
              "    <tr>\n",
              "      <th>capital-loss</th>\n",
              "      <td>0.054860</td>\n",
              "      <td>-0.012992</td>\n",
              "      <td>0.080085</td>\n",
              "      <td>-0.031598</td>\n",
              "      <td>1.000000</td>\n",
              "      <td>0.049945</td>\n",
              "    </tr>\n",
              "    <tr>\n",
              "      <th>hours-per-week</th>\n",
              "      <td>0.068613</td>\n",
              "      <td>-0.018445</td>\n",
              "      <td>0.140452</td>\n",
              "      <td>0.084474</td>\n",
              "      <td>0.049945</td>\n",
              "      <td>1.000000</td>\n",
              "    </tr>\n",
              "  </tbody>\n",
              "</table>\n",
              "</div>\n",
              "    <div class=\"colab-df-buttons\">\n",
              "\n",
              "  <div class=\"colab-df-container\">\n",
              "    <button class=\"colab-df-convert\" onclick=\"convertToInteractive('df-484c8ce1-8f3f-4941-afa9-65eaa2648060')\"\n",
              "            title=\"Convert this dataframe to an interactive table.\"\n",
              "            style=\"display:none;\">\n",
              "\n",
              "  <svg xmlns=\"http://www.w3.org/2000/svg\" height=\"24px\" viewBox=\"0 -960 960 960\">\n",
              "    <path d=\"M120-120v-720h720v720H120Zm60-500h600v-160H180v160Zm220 220h160v-160H400v160Zm0 220h160v-160H400v160ZM180-400h160v-160H180v160Zm440 0h160v-160H620v160ZM180-180h160v-160H180v160Zm440 0h160v-160H620v160Z\"/>\n",
              "  </svg>\n",
              "    </button>\n",
              "\n",
              "  <style>\n",
              "    .colab-df-container {\n",
              "      display:flex;\n",
              "      gap: 12px;\n",
              "    }\n",
              "\n",
              "    .colab-df-convert {\n",
              "      background-color: #E8F0FE;\n",
              "      border: none;\n",
              "      border-radius: 50%;\n",
              "      cursor: pointer;\n",
              "      display: none;\n",
              "      fill: #1967D2;\n",
              "      height: 32px;\n",
              "      padding: 0 0 0 0;\n",
              "      width: 32px;\n",
              "    }\n",
              "\n",
              "    .colab-df-convert:hover {\n",
              "      background-color: #E2EBFA;\n",
              "      box-shadow: 0px 1px 2px rgba(60, 64, 67, 0.3), 0px 1px 3px 1px rgba(60, 64, 67, 0.15);\n",
              "      fill: #174EA6;\n",
              "    }\n",
              "\n",
              "    .colab-df-buttons div {\n",
              "      margin-bottom: 4px;\n",
              "    }\n",
              "\n",
              "    [theme=dark] .colab-df-convert {\n",
              "      background-color: #3B4455;\n",
              "      fill: #D2E3FC;\n",
              "    }\n",
              "\n",
              "    [theme=dark] .colab-df-convert:hover {\n",
              "      background-color: #434B5C;\n",
              "      box-shadow: 0px 1px 3px 1px rgba(0, 0, 0, 0.15);\n",
              "      filter: drop-shadow(0px 1px 2px rgba(0, 0, 0, 0.3));\n",
              "      fill: #FFFFFF;\n",
              "    }\n",
              "  </style>\n",
              "\n",
              "    <script>\n",
              "      const buttonEl =\n",
              "        document.querySelector('#df-484c8ce1-8f3f-4941-afa9-65eaa2648060 button.colab-df-convert');\n",
              "      buttonEl.style.display =\n",
              "        google.colab.kernel.accessAllowed ? 'block' : 'none';\n",
              "\n",
              "      async function convertToInteractive(key) {\n",
              "        const element = document.querySelector('#df-484c8ce1-8f3f-4941-afa9-65eaa2648060');\n",
              "        const dataTable =\n",
              "          await google.colab.kernel.invokeFunction('convertToInteractive',\n",
              "                                                    [key], {});\n",
              "        if (!dataTable) return;\n",
              "\n",
              "        const docLinkHtml = 'Like what you see? Visit the ' +\n",
              "          '<a target=\"_blank\" href=https://colab.research.google.com/notebooks/data_table.ipynb>data table notebook</a>'\n",
              "          + ' to learn more about interactive tables.';\n",
              "        element.innerHTML = '';\n",
              "        dataTable['output_type'] = 'display_data';\n",
              "        await google.colab.output.renderOutput(dataTable, element);\n",
              "        const docLink = document.createElement('div');\n",
              "        docLink.innerHTML = docLinkHtml;\n",
              "        element.appendChild(docLink);\n",
              "      }\n",
              "    </script>\n",
              "  </div>\n",
              "\n",
              "\n",
              "<div id=\"df-979fede0-61ea-4fac-a5e4-ca96f56aaf6e\">\n",
              "  <button class=\"colab-df-quickchart\" onclick=\"quickchart('df-979fede0-61ea-4fac-a5e4-ca96f56aaf6e')\"\n",
              "            title=\"Suggest charts\"\n",
              "            style=\"display:none;\">\n",
              "\n",
              "<svg xmlns=\"http://www.w3.org/2000/svg\" height=\"24px\"viewBox=\"0 0 24 24\"\n",
              "     width=\"24px\">\n",
              "    <g>\n",
              "        <path d=\"M19 3H5c-1.1 0-2 .9-2 2v14c0 1.1.9 2 2 2h14c1.1 0 2-.9 2-2V5c0-1.1-.9-2-2-2zM9 17H7v-7h2v7zm4 0h-2V7h2v10zm4 0h-2v-4h2v4z\"/>\n",
              "    </g>\n",
              "</svg>\n",
              "  </button>\n",
              "\n",
              "<style>\n",
              "  .colab-df-quickchart {\n",
              "      --bg-color: #E8F0FE;\n",
              "      --fill-color: #1967D2;\n",
              "      --hover-bg-color: #E2EBFA;\n",
              "      --hover-fill-color: #174EA6;\n",
              "      --disabled-fill-color: #AAA;\n",
              "      --disabled-bg-color: #DDD;\n",
              "  }\n",
              "\n",
              "  [theme=dark] .colab-df-quickchart {\n",
              "      --bg-color: #3B4455;\n",
              "      --fill-color: #D2E3FC;\n",
              "      --hover-bg-color: #434B5C;\n",
              "      --hover-fill-color: #FFFFFF;\n",
              "      --disabled-bg-color: #3B4455;\n",
              "      --disabled-fill-color: #666;\n",
              "  }\n",
              "\n",
              "  .colab-df-quickchart {\n",
              "    background-color: var(--bg-color);\n",
              "    border: none;\n",
              "    border-radius: 50%;\n",
              "    cursor: pointer;\n",
              "    display: none;\n",
              "    fill: var(--fill-color);\n",
              "    height: 32px;\n",
              "    padding: 0;\n",
              "    width: 32px;\n",
              "  }\n",
              "\n",
              "  .colab-df-quickchart:hover {\n",
              "    background-color: var(--hover-bg-color);\n",
              "    box-shadow: 0 1px 2px rgba(60, 64, 67, 0.3), 0 1px 3px 1px rgba(60, 64, 67, 0.15);\n",
              "    fill: var(--button-hover-fill-color);\n",
              "  }\n",
              "\n",
              "  .colab-df-quickchart-complete:disabled,\n",
              "  .colab-df-quickchart-complete:disabled:hover {\n",
              "    background-color: var(--disabled-bg-color);\n",
              "    fill: var(--disabled-fill-color);\n",
              "    box-shadow: none;\n",
              "  }\n",
              "\n",
              "  .colab-df-spinner {\n",
              "    border: 2px solid var(--fill-color);\n",
              "    border-color: transparent;\n",
              "    border-bottom-color: var(--fill-color);\n",
              "    animation:\n",
              "      spin 1s steps(1) infinite;\n",
              "  }\n",
              "\n",
              "  @keyframes spin {\n",
              "    0% {\n",
              "      border-color: transparent;\n",
              "      border-bottom-color: var(--fill-color);\n",
              "      border-left-color: var(--fill-color);\n",
              "    }\n",
              "    20% {\n",
              "      border-color: transparent;\n",
              "      border-left-color: var(--fill-color);\n",
              "      border-top-color: var(--fill-color);\n",
              "    }\n",
              "    30% {\n",
              "      border-color: transparent;\n",
              "      border-left-color: var(--fill-color);\n",
              "      border-top-color: var(--fill-color);\n",
              "      border-right-color: var(--fill-color);\n",
              "    }\n",
              "    40% {\n",
              "      border-color: transparent;\n",
              "      border-right-color: var(--fill-color);\n",
              "      border-top-color: var(--fill-color);\n",
              "    }\n",
              "    60% {\n",
              "      border-color: transparent;\n",
              "      border-right-color: var(--fill-color);\n",
              "    }\n",
              "    80% {\n",
              "      border-color: transparent;\n",
              "      border-right-color: var(--fill-color);\n",
              "      border-bottom-color: var(--fill-color);\n",
              "    }\n",
              "    90% {\n",
              "      border-color: transparent;\n",
              "      border-bottom-color: var(--fill-color);\n",
              "    }\n",
              "  }\n",
              "</style>\n",
              "\n",
              "  <script>\n",
              "    async function quickchart(key) {\n",
              "      const quickchartButtonEl =\n",
              "        document.querySelector('#' + key + ' button');\n",
              "      quickchartButtonEl.disabled = true;  // To prevent multiple clicks.\n",
              "      quickchartButtonEl.classList.add('colab-df-spinner');\n",
              "      try {\n",
              "        const charts = await google.colab.kernel.invokeFunction(\n",
              "            'suggestCharts', [key], {});\n",
              "      } catch (error) {\n",
              "        console.error('Error during call to suggestCharts:', error);\n",
              "      }\n",
              "      quickchartButtonEl.classList.remove('colab-df-spinner');\n",
              "      quickchartButtonEl.classList.add('colab-df-quickchart-complete');\n",
              "    }\n",
              "    (() => {\n",
              "      let quickchartButtonEl =\n",
              "        document.querySelector('#df-979fede0-61ea-4fac-a5e4-ca96f56aaf6e button');\n",
              "      quickchartButtonEl.style.display =\n",
              "        google.colab.kernel.accessAllowed ? 'block' : 'none';\n",
              "    })();\n",
              "  </script>\n",
              "</div>\n",
              "    </div>\n",
              "  </div>\n"
            ]
          },
          "metadata": {},
          "execution_count": 185
        }
      ]
    },
    {
      "cell_type": "markdown",
      "source": [
        "# Q11: Split the dataset into X1, X2 and y, where X1 contains all Numerical features, X2 contains all categorical features(except \"IncomeGroup\") and save 'IncomeGroup' column in y variable. Then apply OneHotEncoder on the categorical features(X2) with option (sparse = False) and StandardScaler on the numerical features (X2).\n",
        "\n",
        "What are the Number of column in X1,X2 respectively"
      ],
      "metadata": {
        "id": "AbCxMl92pdc6"
      }
    },
    {
      "cell_type": "code",
      "source": [
        "data.columns # Name of columns"
      ],
      "metadata": {
        "colab": {
          "base_uri": "https://localhost:8080/"
        },
        "id": "XlUSWTUapcaQ",
        "outputId": "31d086a7-0714-4bd6-fdf0-87e1a706405c"
      },
      "execution_count": null,
      "outputs": [
        {
          "output_type": "execute_result",
          "data": {
            "text/plain": [
              "Index(['age', 'workclass', 'fnlwgt', 'education', 'education-num',\n",
              "       'marital-status', 'occupation', 'relationship', 'race', 'sex',\n",
              "       'capital-gain', 'capital-loss', 'hours-per-week', 'native-country',\n",
              "       'IncomeGroup'],\n",
              "      dtype='object')"
            ]
          },
          "metadata": {},
          "execution_count": 186
        }
      ]
    },
    {
      "cell_type": "code",
      "source": [
        "data.dtypes # data type of columns in DataFrame"
      ],
      "metadata": {
        "colab": {
          "base_uri": "https://localhost:8080/"
        },
        "id": "5Vz7JR_vqMYs",
        "outputId": "5842fab8-3d8e-41a0-bcb2-ea2d36612c7a"
      },
      "execution_count": null,
      "outputs": [
        {
          "output_type": "execute_result",
          "data": {
            "text/plain": [
              "age                int64\n",
              "workclass         object\n",
              "fnlwgt             int64\n",
              "education         object\n",
              "education-num      int64\n",
              "marital-status    object\n",
              "occupation        object\n",
              "relationship      object\n",
              "race              object\n",
              "sex               object\n",
              "capital-gain       int64\n",
              "capital-loss       int64\n",
              "hours-per-week     int64\n",
              "native-country    object\n",
              "IncomeGroup       object\n",
              "dtype: object"
            ]
          },
          "metadata": {},
          "execution_count": 187
        }
      ]
    },
    {
      "cell_type": "code",
      "source": [
        "X1 = data.select_dtypes(include=['number'])\n",
        "X2 = data.select_dtypes(include =['object'])\n",
        "X2.drop('IncomeGroup',inplace=True,axis = 1)\n",
        "y = data['IncomeGroup']"
      ],
      "metadata": {
        "id": "YWq9dMe3pueI"
      },
      "execution_count": null,
      "outputs": []
    },
    {
      "cell_type": "code",
      "source": [
        "X2.head()"
      ],
      "metadata": {
        "colab": {
          "base_uri": "https://localhost:8080/",
          "height": 206
        },
        "id": "w-lHtSBmIvBl",
        "outputId": "a9b93eb4-c3d2-43b7-d952-7f2327ccde15"
      },
      "execution_count": null,
      "outputs": [
        {
          "output_type": "execute_result",
          "data": {
            "text/plain": [
              "           workclass  education       marital-status          occupation  \\\n",
              "0   Self-emp-not-inc    7th-8th              Widowed       Other-service   \n",
              "1            Private       11th        Never-married       Other-service   \n",
              "2            Private  Bachelors        Never-married     Farming-fishing   \n",
              "3            Private    HS-grad   Married-civ-spouse      Prof-specialty   \n",
              "4            Private       11th        Never-married   Machine-op-inspct   \n",
              "\n",
              "      relationship    race      sex  native-country  \n",
              "0    Not-in-family   White   Female   United-States  \n",
              "1   Other-relative   White     Male   United-States  \n",
              "2        Own-child   White     Male   United-States  \n",
              "3          Husband   White     Male   United-States  \n",
              "4        Unmarried   White   Female   United-States  "
            ],
            "text/html": [
              "\n",
              "  <div id=\"df-cc76984c-3091-43b1-9577-a123b518ff55\" class=\"colab-df-container\">\n",
              "    <div>\n",
              "<style scoped>\n",
              "    .dataframe tbody tr th:only-of-type {\n",
              "        vertical-align: middle;\n",
              "    }\n",
              "\n",
              "    .dataframe tbody tr th {\n",
              "        vertical-align: top;\n",
              "    }\n",
              "\n",
              "    .dataframe thead th {\n",
              "        text-align: right;\n",
              "    }\n",
              "</style>\n",
              "<table border=\"1\" class=\"dataframe\">\n",
              "  <thead>\n",
              "    <tr style=\"text-align: right;\">\n",
              "      <th></th>\n",
              "      <th>workclass</th>\n",
              "      <th>education</th>\n",
              "      <th>marital-status</th>\n",
              "      <th>occupation</th>\n",
              "      <th>relationship</th>\n",
              "      <th>race</th>\n",
              "      <th>sex</th>\n",
              "      <th>native-country</th>\n",
              "    </tr>\n",
              "  </thead>\n",
              "  <tbody>\n",
              "    <tr>\n",
              "      <th>0</th>\n",
              "      <td>Self-emp-not-inc</td>\n",
              "      <td>7th-8th</td>\n",
              "      <td>Widowed</td>\n",
              "      <td>Other-service</td>\n",
              "      <td>Not-in-family</td>\n",
              "      <td>White</td>\n",
              "      <td>Female</td>\n",
              "      <td>United-States</td>\n",
              "    </tr>\n",
              "    <tr>\n",
              "      <th>1</th>\n",
              "      <td>Private</td>\n",
              "      <td>11th</td>\n",
              "      <td>Never-married</td>\n",
              "      <td>Other-service</td>\n",
              "      <td>Other-relative</td>\n",
              "      <td>White</td>\n",
              "      <td>Male</td>\n",
              "      <td>United-States</td>\n",
              "    </tr>\n",
              "    <tr>\n",
              "      <th>2</th>\n",
              "      <td>Private</td>\n",
              "      <td>Bachelors</td>\n",
              "      <td>Never-married</td>\n",
              "      <td>Farming-fishing</td>\n",
              "      <td>Own-child</td>\n",
              "      <td>White</td>\n",
              "      <td>Male</td>\n",
              "      <td>United-States</td>\n",
              "    </tr>\n",
              "    <tr>\n",
              "      <th>3</th>\n",
              "      <td>Private</td>\n",
              "      <td>HS-grad</td>\n",
              "      <td>Married-civ-spouse</td>\n",
              "      <td>Prof-specialty</td>\n",
              "      <td>Husband</td>\n",
              "      <td>White</td>\n",
              "      <td>Male</td>\n",
              "      <td>United-States</td>\n",
              "    </tr>\n",
              "    <tr>\n",
              "      <th>4</th>\n",
              "      <td>Private</td>\n",
              "      <td>11th</td>\n",
              "      <td>Never-married</td>\n",
              "      <td>Machine-op-inspct</td>\n",
              "      <td>Unmarried</td>\n",
              "      <td>White</td>\n",
              "      <td>Female</td>\n",
              "      <td>United-States</td>\n",
              "    </tr>\n",
              "  </tbody>\n",
              "</table>\n",
              "</div>\n",
              "    <div class=\"colab-df-buttons\">\n",
              "\n",
              "  <div class=\"colab-df-container\">\n",
              "    <button class=\"colab-df-convert\" onclick=\"convertToInteractive('df-cc76984c-3091-43b1-9577-a123b518ff55')\"\n",
              "            title=\"Convert this dataframe to an interactive table.\"\n",
              "            style=\"display:none;\">\n",
              "\n",
              "  <svg xmlns=\"http://www.w3.org/2000/svg\" height=\"24px\" viewBox=\"0 -960 960 960\">\n",
              "    <path d=\"M120-120v-720h720v720H120Zm60-500h600v-160H180v160Zm220 220h160v-160H400v160Zm0 220h160v-160H400v160ZM180-400h160v-160H180v160Zm440 0h160v-160H620v160ZM180-180h160v-160H180v160Zm440 0h160v-160H620v160Z\"/>\n",
              "  </svg>\n",
              "    </button>\n",
              "\n",
              "  <style>\n",
              "    .colab-df-container {\n",
              "      display:flex;\n",
              "      gap: 12px;\n",
              "    }\n",
              "\n",
              "    .colab-df-convert {\n",
              "      background-color: #E8F0FE;\n",
              "      border: none;\n",
              "      border-radius: 50%;\n",
              "      cursor: pointer;\n",
              "      display: none;\n",
              "      fill: #1967D2;\n",
              "      height: 32px;\n",
              "      padding: 0 0 0 0;\n",
              "      width: 32px;\n",
              "    }\n",
              "\n",
              "    .colab-df-convert:hover {\n",
              "      background-color: #E2EBFA;\n",
              "      box-shadow: 0px 1px 2px rgba(60, 64, 67, 0.3), 0px 1px 3px 1px rgba(60, 64, 67, 0.15);\n",
              "      fill: #174EA6;\n",
              "    }\n",
              "\n",
              "    .colab-df-buttons div {\n",
              "      margin-bottom: 4px;\n",
              "    }\n",
              "\n",
              "    [theme=dark] .colab-df-convert {\n",
              "      background-color: #3B4455;\n",
              "      fill: #D2E3FC;\n",
              "    }\n",
              "\n",
              "    [theme=dark] .colab-df-convert:hover {\n",
              "      background-color: #434B5C;\n",
              "      box-shadow: 0px 1px 3px 1px rgba(0, 0, 0, 0.15);\n",
              "      filter: drop-shadow(0px 1px 2px rgba(0, 0, 0, 0.3));\n",
              "      fill: #FFFFFF;\n",
              "    }\n",
              "  </style>\n",
              "\n",
              "    <script>\n",
              "      const buttonEl =\n",
              "        document.querySelector('#df-cc76984c-3091-43b1-9577-a123b518ff55 button.colab-df-convert');\n",
              "      buttonEl.style.display =\n",
              "        google.colab.kernel.accessAllowed ? 'block' : 'none';\n",
              "\n",
              "      async function convertToInteractive(key) {\n",
              "        const element = document.querySelector('#df-cc76984c-3091-43b1-9577-a123b518ff55');\n",
              "        const dataTable =\n",
              "          await google.colab.kernel.invokeFunction('convertToInteractive',\n",
              "                                                    [key], {});\n",
              "        if (!dataTable) return;\n",
              "\n",
              "        const docLinkHtml = 'Like what you see? Visit the ' +\n",
              "          '<a target=\"_blank\" href=https://colab.research.google.com/notebooks/data_table.ipynb>data table notebook</a>'\n",
              "          + ' to learn more about interactive tables.';\n",
              "        element.innerHTML = '';\n",
              "        dataTable['output_type'] = 'display_data';\n",
              "        await google.colab.output.renderOutput(dataTable, element);\n",
              "        const docLink = document.createElement('div');\n",
              "        docLink.innerHTML = docLinkHtml;\n",
              "        element.appendChild(docLink);\n",
              "      }\n",
              "    </script>\n",
              "  </div>\n",
              "\n",
              "\n",
              "<div id=\"df-a4927ef0-5e99-494a-9c53-6e68215b3df2\">\n",
              "  <button class=\"colab-df-quickchart\" onclick=\"quickchart('df-a4927ef0-5e99-494a-9c53-6e68215b3df2')\"\n",
              "            title=\"Suggest charts\"\n",
              "            style=\"display:none;\">\n",
              "\n",
              "<svg xmlns=\"http://www.w3.org/2000/svg\" height=\"24px\"viewBox=\"0 0 24 24\"\n",
              "     width=\"24px\">\n",
              "    <g>\n",
              "        <path d=\"M19 3H5c-1.1 0-2 .9-2 2v14c0 1.1.9 2 2 2h14c1.1 0 2-.9 2-2V5c0-1.1-.9-2-2-2zM9 17H7v-7h2v7zm4 0h-2V7h2v10zm4 0h-2v-4h2v4z\"/>\n",
              "    </g>\n",
              "</svg>\n",
              "  </button>\n",
              "\n",
              "<style>\n",
              "  .colab-df-quickchart {\n",
              "      --bg-color: #E8F0FE;\n",
              "      --fill-color: #1967D2;\n",
              "      --hover-bg-color: #E2EBFA;\n",
              "      --hover-fill-color: #174EA6;\n",
              "      --disabled-fill-color: #AAA;\n",
              "      --disabled-bg-color: #DDD;\n",
              "  }\n",
              "\n",
              "  [theme=dark] .colab-df-quickchart {\n",
              "      --bg-color: #3B4455;\n",
              "      --fill-color: #D2E3FC;\n",
              "      --hover-bg-color: #434B5C;\n",
              "      --hover-fill-color: #FFFFFF;\n",
              "      --disabled-bg-color: #3B4455;\n",
              "      --disabled-fill-color: #666;\n",
              "  }\n",
              "\n",
              "  .colab-df-quickchart {\n",
              "    background-color: var(--bg-color);\n",
              "    border: none;\n",
              "    border-radius: 50%;\n",
              "    cursor: pointer;\n",
              "    display: none;\n",
              "    fill: var(--fill-color);\n",
              "    height: 32px;\n",
              "    padding: 0;\n",
              "    width: 32px;\n",
              "  }\n",
              "\n",
              "  .colab-df-quickchart:hover {\n",
              "    background-color: var(--hover-bg-color);\n",
              "    box-shadow: 0 1px 2px rgba(60, 64, 67, 0.3), 0 1px 3px 1px rgba(60, 64, 67, 0.15);\n",
              "    fill: var(--button-hover-fill-color);\n",
              "  }\n",
              "\n",
              "  .colab-df-quickchart-complete:disabled,\n",
              "  .colab-df-quickchart-complete:disabled:hover {\n",
              "    background-color: var(--disabled-bg-color);\n",
              "    fill: var(--disabled-fill-color);\n",
              "    box-shadow: none;\n",
              "  }\n",
              "\n",
              "  .colab-df-spinner {\n",
              "    border: 2px solid var(--fill-color);\n",
              "    border-color: transparent;\n",
              "    border-bottom-color: var(--fill-color);\n",
              "    animation:\n",
              "      spin 1s steps(1) infinite;\n",
              "  }\n",
              "\n",
              "  @keyframes spin {\n",
              "    0% {\n",
              "      border-color: transparent;\n",
              "      border-bottom-color: var(--fill-color);\n",
              "      border-left-color: var(--fill-color);\n",
              "    }\n",
              "    20% {\n",
              "      border-color: transparent;\n",
              "      border-left-color: var(--fill-color);\n",
              "      border-top-color: var(--fill-color);\n",
              "    }\n",
              "    30% {\n",
              "      border-color: transparent;\n",
              "      border-left-color: var(--fill-color);\n",
              "      border-top-color: var(--fill-color);\n",
              "      border-right-color: var(--fill-color);\n",
              "    }\n",
              "    40% {\n",
              "      border-color: transparent;\n",
              "      border-right-color: var(--fill-color);\n",
              "      border-top-color: var(--fill-color);\n",
              "    }\n",
              "    60% {\n",
              "      border-color: transparent;\n",
              "      border-right-color: var(--fill-color);\n",
              "    }\n",
              "    80% {\n",
              "      border-color: transparent;\n",
              "      border-right-color: var(--fill-color);\n",
              "      border-bottom-color: var(--fill-color);\n",
              "    }\n",
              "    90% {\n",
              "      border-color: transparent;\n",
              "      border-bottom-color: var(--fill-color);\n",
              "    }\n",
              "  }\n",
              "</style>\n",
              "\n",
              "  <script>\n",
              "    async function quickchart(key) {\n",
              "      const quickchartButtonEl =\n",
              "        document.querySelector('#' + key + ' button');\n",
              "      quickchartButtonEl.disabled = true;  // To prevent multiple clicks.\n",
              "      quickchartButtonEl.classList.add('colab-df-spinner');\n",
              "      try {\n",
              "        const charts = await google.colab.kernel.invokeFunction(\n",
              "            'suggestCharts', [key], {});\n",
              "      } catch (error) {\n",
              "        console.error('Error during call to suggestCharts:', error);\n",
              "      }\n",
              "      quickchartButtonEl.classList.remove('colab-df-spinner');\n",
              "      quickchartButtonEl.classList.add('colab-df-quickchart-complete');\n",
              "    }\n",
              "    (() => {\n",
              "      let quickchartButtonEl =\n",
              "        document.querySelector('#df-a4927ef0-5e99-494a-9c53-6e68215b3df2 button');\n",
              "      quickchartButtonEl.style.display =\n",
              "        google.colab.kernel.accessAllowed ? 'block' : 'none';\n",
              "    })();\n",
              "  </script>\n",
              "</div>\n",
              "    </div>\n",
              "  </div>\n"
            ]
          },
          "metadata": {},
          "execution_count": 189
        }
      ]
    },
    {
      "cell_type": "code",
      "source": [
        "X1.shape,X2.shape"
      ],
      "metadata": {
        "colab": {
          "base_uri": "https://localhost:8080/"
        },
        "id": "cYWeJOwotLWk",
        "outputId": "bf47cfdb-8465-4742-c3ab-2db8ecef9e29"
      },
      "execution_count": null,
      "outputs": [
        {
          "output_type": "execute_result",
          "data": {
            "text/plain": [
              "((20000, 6), (20000, 8))"
            ]
          },
          "metadata": {},
          "execution_count": 190
        }
      ]
    },
    {
      "cell_type": "code",
      "source": [
        "np.unique(y),y.unique()# identical result"
      ],
      "metadata": {
        "colab": {
          "base_uri": "https://localhost:8080/"
        },
        "id": "oa4V-oDzrKAR",
        "outputId": "35b038ea-eeb5-4903-c084-3a2293eac116"
      },
      "execution_count": null,
      "outputs": [
        {
          "output_type": "execute_result",
          "data": {
            "text/plain": [
              "(array([' <=50K', ' >50K'], dtype=object),\n",
              " array([' <=50K', ' >50K'], dtype=object))"
            ]
          },
          "metadata": {},
          "execution_count": 191
        }
      ]
    },
    {
      "cell_type": "code",
      "source": [
        "from sklearn.preprocessing import StandardScaler,OneHotEncoder\n",
        "ss = StandardScaler()\n",
        "ohe =OneHotEncoder(sparse = False)\n",
        "X1_scaled = ss.fit_transform(X1)\n",
        "X2_encoded = ohe.fit_transform(X2)\n",
        "X1_scaled.shape , X2_encoded.shape"
      ],
      "metadata": {
        "id": "mv2Wr3Xurr4O",
        "colab": {
          "base_uri": "https://localhost:8080/"
        },
        "outputId": "f88473e4-6fef-47b1-d3b9-321d8d0256a2"
      },
      "execution_count": null,
      "outputs": [
        {
          "output_type": "stream",
          "name": "stderr",
          "text": [
            "/usr/local/lib/python3.10/dist-packages/sklearn/preprocessing/_encoders.py:868: FutureWarning: `sparse` was renamed to `sparse_output` in version 1.2 and will be removed in 1.4. `sparse_output` is ignored unless you leave `sparse` to its default value.\n",
            "  warnings.warn(\n"
          ]
        },
        {
          "output_type": "execute_result",
          "data": {
            "text/plain": [
              "((20000, 6), (20000, 102))"
            ]
          },
          "metadata": {},
          "execution_count": 192
        }
      ]
    },
    {
      "cell_type": "markdown",
      "source": [
        "# Q:Concatenate X1 and X2 and call it X( Keep axis = 1) and then Convert X to a dataframe.\n",
        "What is the new shape of resultant X?"
      ],
      "metadata": {
        "id": "9D8FnnTNuoE7"
      }
    },
    {
      "cell_type": "code",
      "source": [
        "X = np.concatenate([X1_scaled,X2_encoded],axis=1)\n",
        "X.shape"
      ],
      "metadata": {
        "id": "mm3Fhz8quyne",
        "colab": {
          "base_uri": "https://localhost:8080/"
        },
        "outputId": "13933234-620b-4884-b4f1-80b3cdbe1159"
      },
      "execution_count": null,
      "outputs": [
        {
          "output_type": "execute_result",
          "data": {
            "text/plain": [
              "(20000, 108)"
            ]
          },
          "metadata": {},
          "execution_count": 193
        }
      ]
    },
    {
      "cell_type": "markdown",
      "source": [
        "# Split the dataset into training and validation dataset into 80:20 ratio while keeping random_state =64. what is the shape of the y_train dataset?\n"
      ],
      "metadata": {
        "id": "eoYB3LHruzLI"
      }
    },
    {
      "cell_type": "code",
      "source": [
        "from sklearn.model_selection import train_test_split\n",
        "X_train,X_test,y_train,y_test = train_test_split(X,y,random_state=64,test_size=0.2)"
      ],
      "metadata": {
        "id": "q31CpMYGvD1j"
      },
      "execution_count": null,
      "outputs": []
    },
    {
      "cell_type": "code",
      "source": [
        "X_train.shape,y_train.shape,X_test.shape,y_test.shape"
      ],
      "metadata": {
        "colab": {
          "base_uri": "https://localhost:8080/"
        },
        "id": "uJKKf-TFL5ig",
        "outputId": "70e78022-58a5-4e9f-fd8e-2f7ca94a0ca7"
      },
      "execution_count": null,
      "outputs": [
        {
          "output_type": "execute_result",
          "data": {
            "text/plain": [
              "((16000, 108), (16000,), (4000, 108), (4000,))"
            ]
          },
          "metadata": {},
          "execution_count": 195
        }
      ]
    },
    {
      "cell_type": "markdown",
      "source": [
        "# Instantiate a perceptron classifier that with following parameters:-\n",
        "Fit the intercept\n",
        "Put warm start to be False\n",
        "Fit this perceptron model with the training dataset and calculate the accuracy score for training data.\n",
        "\n"
      ],
      "metadata": {
        "id": "tyndPibHvE1B"
      }
    },
    {
      "cell_type": "code",
      "source": [
        "from sklearn.linear_model import Perceptron\n",
        "clf = Perceptron(warm_start=False,fit_intercept = True)\n",
        "clf.fit(X_train,y_train)"
      ],
      "metadata": {
        "id": "JlpNprE8vWI5",
        "colab": {
          "base_uri": "https://localhost:8080/",
          "height": 75
        },
        "outputId": "7fc6c507-a348-4f89-eb9f-9178e6aa5fd4"
      },
      "execution_count": null,
      "outputs": [
        {
          "output_type": "execute_result",
          "data": {
            "text/plain": [
              "Perceptron()"
            ],
            "text/html": [
              "<style>#sk-container-id-6 {color: black;background-color: white;}#sk-container-id-6 pre{padding: 0;}#sk-container-id-6 div.sk-toggleable {background-color: white;}#sk-container-id-6 label.sk-toggleable__label {cursor: pointer;display: block;width: 100%;margin-bottom: 0;padding: 0.3em;box-sizing: border-box;text-align: center;}#sk-container-id-6 label.sk-toggleable__label-arrow:before {content: \"▸\";float: left;margin-right: 0.25em;color: #696969;}#sk-container-id-6 label.sk-toggleable__label-arrow:hover:before {color: black;}#sk-container-id-6 div.sk-estimator:hover label.sk-toggleable__label-arrow:before {color: black;}#sk-container-id-6 div.sk-toggleable__content {max-height: 0;max-width: 0;overflow: hidden;text-align: left;background-color: #f0f8ff;}#sk-container-id-6 div.sk-toggleable__content pre {margin: 0.2em;color: black;border-radius: 0.25em;background-color: #f0f8ff;}#sk-container-id-6 input.sk-toggleable__control:checked~div.sk-toggleable__content {max-height: 200px;max-width: 100%;overflow: auto;}#sk-container-id-6 input.sk-toggleable__control:checked~label.sk-toggleable__label-arrow:before {content: \"▾\";}#sk-container-id-6 div.sk-estimator input.sk-toggleable__control:checked~label.sk-toggleable__label {background-color: #d4ebff;}#sk-container-id-6 div.sk-label input.sk-toggleable__control:checked~label.sk-toggleable__label {background-color: #d4ebff;}#sk-container-id-6 input.sk-hidden--visually {border: 0;clip: rect(1px 1px 1px 1px);clip: rect(1px, 1px, 1px, 1px);height: 1px;margin: -1px;overflow: hidden;padding: 0;position: absolute;width: 1px;}#sk-container-id-6 div.sk-estimator {font-family: monospace;background-color: #f0f8ff;border: 1px dotted black;border-radius: 0.25em;box-sizing: border-box;margin-bottom: 0.5em;}#sk-container-id-6 div.sk-estimator:hover {background-color: #d4ebff;}#sk-container-id-6 div.sk-parallel-item::after {content: \"\";width: 100%;border-bottom: 1px solid gray;flex-grow: 1;}#sk-container-id-6 div.sk-label:hover label.sk-toggleable__label {background-color: #d4ebff;}#sk-container-id-6 div.sk-serial::before {content: \"\";position: absolute;border-left: 1px solid gray;box-sizing: border-box;top: 0;bottom: 0;left: 50%;z-index: 0;}#sk-container-id-6 div.sk-serial {display: flex;flex-direction: column;align-items: center;background-color: white;padding-right: 0.2em;padding-left: 0.2em;position: relative;}#sk-container-id-6 div.sk-item {position: relative;z-index: 1;}#sk-container-id-6 div.sk-parallel {display: flex;align-items: stretch;justify-content: center;background-color: white;position: relative;}#sk-container-id-6 div.sk-item::before, #sk-container-id-6 div.sk-parallel-item::before {content: \"\";position: absolute;border-left: 1px solid gray;box-sizing: border-box;top: 0;bottom: 0;left: 50%;z-index: -1;}#sk-container-id-6 div.sk-parallel-item {display: flex;flex-direction: column;z-index: 1;position: relative;background-color: white;}#sk-container-id-6 div.sk-parallel-item:first-child::after {align-self: flex-end;width: 50%;}#sk-container-id-6 div.sk-parallel-item:last-child::after {align-self: flex-start;width: 50%;}#sk-container-id-6 div.sk-parallel-item:only-child::after {width: 0;}#sk-container-id-6 div.sk-dashed-wrapped {border: 1px dashed gray;margin: 0 0.4em 0.5em 0.4em;box-sizing: border-box;padding-bottom: 0.4em;background-color: white;}#sk-container-id-6 div.sk-label label {font-family: monospace;font-weight: bold;display: inline-block;line-height: 1.2em;}#sk-container-id-6 div.sk-label-container {text-align: center;}#sk-container-id-6 div.sk-container {/* jupyter's `normalize.less` sets `[hidden] { display: none; }` but bootstrap.min.css set `[hidden] { display: none !important; }` so we also need the `!important` here to be able to override the default hidden behavior on the sphinx rendered scikit-learn.org. See: https://github.com/scikit-learn/scikit-learn/issues/21755 */display: inline-block !important;position: relative;}#sk-container-id-6 div.sk-text-repr-fallback {display: none;}</style><div id=\"sk-container-id-6\" class=\"sk-top-container\"><div class=\"sk-text-repr-fallback\"><pre>Perceptron()</pre><b>In a Jupyter environment, please rerun this cell to show the HTML representation or trust the notebook. <br />On GitHub, the HTML representation is unable to render, please try loading this page with nbviewer.org.</b></div><div class=\"sk-container\" hidden><div class=\"sk-item\"><div class=\"sk-estimator sk-toggleable\"><input class=\"sk-toggleable__control sk-hidden--visually\" id=\"sk-estimator-id-8\" type=\"checkbox\" checked><label for=\"sk-estimator-id-8\" class=\"sk-toggleable__label sk-toggleable__label-arrow\">Perceptron</label><div class=\"sk-toggleable__content\"><pre>Perceptron()</pre></div></div></div></div></div>"
            ]
          },
          "metadata": {},
          "execution_count": 196
        }
      ]
    },
    {
      "cell_type": "code",
      "source": [
        "import sklearn.metrics as skm"
      ],
      "metadata": {
        "id": "URV0M-Y5O2ge"
      },
      "execution_count": null,
      "outputs": []
    },
    {
      "cell_type": "code",
      "source": [
        "y_pred = clf.predict(X_train)\n",
        "Accuracy = skm.accuracy_score(y_train,y_pred)\n",
        "Accuracy"
      ],
      "metadata": {
        "colab": {
          "base_uri": "https://localhost:8080/"
        },
        "id": "Yu5QqtjDPR07",
        "outputId": "e31c4cb3-2a9c-46b5-95e4-32dcae40026d"
      },
      "execution_count": null,
      "outputs": [
        {
          "output_type": "execute_result",
          "data": {
            "text/plain": [
              "0.813125"
            ]
          },
          "metadata": {},
          "execution_count": 198
        }
      ]
    },
    {
      "cell_type": "markdown",
      "source": [
        "# Create a new Perceptron object with given settings in the instrunctions and train it on training set . What is the value of bias (intercept) (upto 1 decimal point) ?\n",
        "Set early stopping and fit interceptto be True\n",
        "Put warm start to be False\n"
      ],
      "metadata": {
        "id": "1VZykaj_vWqO"
      }
    },
    {
      "cell_type": "code",
      "source": [
        "clf1 =Perceptron(fit_intercept= True,warm_start=False,early_stopping=True)\n",
        "clf1.fit(X_train,y_train)\n",
        "y1_pred = clf1.predict(X_train)\n",
        "skm.accuracy_score(y_train,y1_pred)\n",
        "clf1.intercept_"
      ],
      "metadata": {
        "id": "CMiAoEV8vkzL",
        "colab": {
          "base_uri": "https://localhost:8080/"
        },
        "outputId": "9aa99045-78a1-4136-a828-52d6c5d1ac7d"
      },
      "execution_count": null,
      "outputs": [
        {
          "output_type": "execute_result",
          "data": {
            "text/plain": [
              "array([-8.])"
            ]
          },
          "metadata": {},
          "execution_count": 199
        }
      ]
    },
    {
      "cell_type": "markdown",
      "source": [
        "Use SGDClassifier on the training dataset (X_train and y_train) to train the model. Use the following parameters:\n",
        "\n",
        "log is the loss function to be used\n",
        "apply ridge regularization,\n",
        "maximum number of passes over the training data is 10\n",
        "initial learning rate is 0.01,\n",
        "regularization rate value is 0.001,\n",
        "learning rate should not change during training.\n",
        "Take random_state=64.\n",
        "Set warm_state as False\n",
        "\n",
        "Note : Please ignore the convergence warning.\n",
        "\n",
        "Based on this operation, calculate and enter the correct value of accuracy (Upto 4 decimal points)."
      ],
      "metadata": {
        "id": "6xQi4ZEHvlbB"
      }
    },
    {
      "cell_type": "code",
      "source": [
        "from sklearn.linear_model import SGDClassifier\n",
        "clf2 = SGDClassifier(loss='log',penalty='l2',alpha=0.001,\n",
        "                    max_iter=10,learning_rate='constant',\n",
        "                    warm_start=False,random_state = 64,eta0=0.01)\n",
        "clf2.fit(X_train,y_train)\n",
        "y2_pred = clf2.predict(X_test)\n",
        "skm.accuracy_score(y_test,y2_pred)"
      ],
      "metadata": {
        "id": "Q8kQIxY2v3gC",
        "colab": {
          "base_uri": "https://localhost:8080/"
        },
        "outputId": "79d2bb3b-b315-4e1e-a811-3514e6ad465e"
      },
      "execution_count": null,
      "outputs": [
        {
          "output_type": "stream",
          "name": "stderr",
          "text": [
            "/usr/local/lib/python3.10/dist-packages/sklearn/linear_model/_stochastic_gradient.py:163: FutureWarning: The loss 'log' was deprecated in v1.1 and will be removed in version 1.3. Use `loss='log_loss'` which is equivalent.\n",
            "  warnings.warn(\n",
            "/usr/local/lib/python3.10/dist-packages/sklearn/linear_model/_stochastic_gradient.py:702: ConvergenceWarning: Maximum number of iteration reached before convergence. Consider increasing max_iter to improve the fit.\n",
            "  warnings.warn(\n"
          ]
        },
        {
          "output_type": "execute_result",
          "data": {
            "text/plain": [
              "0.849"
            ]
          },
          "metadata": {},
          "execution_count": 200
        }
      ]
    },
    {
      "cell_type": "markdown",
      "source": [
        "Take LogisticRegression estimator with following parameters for fitting on the training dataset:\n",
        "\n",
        "Use sag as solver\n",
        "Set random state to be equal to 64\n",
        "Tolerance for stopping criteria to be 1e-3\n",
        "Maximum number of iterations taken for the solvers to converge to be 100\n",
        "\n",
        "Enter the recall score you got for the given model (Take average as macro).\n"
      ],
      "metadata": {
        "id": "vSxmBxnsv3_j"
      }
    },
    {
      "cell_type": "code",
      "source": [
        "from sklearn.linear_model import LogisticRegression\n",
        "clf3 = LogisticRegression(solver='sag',tol = 1e-3,max_iter = 100,random_state =64)\n",
        "clf3.fit(X_train,y_train)\n",
        "y_lr_pred = clf3.predict(X_test)\n",
        "skm.recall_score(y_test,y_lr_pred,average='macro')"
      ],
      "metadata": {
        "id": "DZE_EtNLv_mR",
        "colab": {
          "base_uri": "https://localhost:8080/"
        },
        "outputId": "79acf873-c7ca-4692-d29b-7442430fcf49"
      },
      "execution_count": null,
      "outputs": [
        {
          "output_type": "stream",
          "name": "stderr",
          "text": [
            "/usr/local/lib/python3.10/dist-packages/sklearn/linear_model/_sag.py:350: ConvergenceWarning: The max_iter was reached which means the coef_ did not converge\n",
            "  warnings.warn(\n"
          ]
        },
        {
          "output_type": "execute_result",
          "data": {
            "text/plain": [
              "0.7570872404378112"
            ]
          },
          "metadata": {},
          "execution_count": 201
        }
      ]
    },
    {
      "cell_type": "code",
      "source": [
        "print(skm.classification_report(y_test,y_lr_pred))"
      ],
      "metadata": {
        "colab": {
          "base_uri": "https://localhost:8080/"
        },
        "id": "NJ8Fvh0ZA2Cq",
        "outputId": "ba5cf02f-c904-439e-dbb9-7c8120531b69"
      },
      "execution_count": 231,
      "outputs": [
        {
          "output_type": "stream",
          "name": "stdout",
          "text": [
            "              precision    recall  f1-score   support\n",
            "\n",
            "       <=50K       0.88      0.93      0.90      3074\n",
            "        >50K       0.71      0.59      0.64       926\n",
            "\n",
            "    accuracy                           0.85      4000\n",
            "   macro avg       0.80      0.76      0.77      4000\n",
            "weighted avg       0.84      0.85      0.84      4000\n",
            "\n"
          ]
        }
      ]
    },
    {
      "cell_type": "markdown",
      "source": [
        "Use Gridsearchcv with KNeighborsClassifier() being the estimator, accuracy as scoring parameter, cv value as 4 and consider [1,3,5,7] as \"number of neighbors\" to be examined.\n",
        "\n",
        "Consider following parameters for KNeighborsClassifier():\n",
        "\n",
        "Take metric as 'minkowski',\n",
        "Set P value as 2\n",
        "\n",
        "Keep other parameter values as default value.\n",
        "\n",
        "What is the best value of K you obtained using above instruction?\n"
      ],
      "metadata": {
        "id": "sbB3jcuUwMBV"
      }
    },
    {
      "cell_type": "code",
      "source": [
        "from sklearn.model_selection import GridSearchCV\n",
        "from sklearn.neighbors import KNeighborsClassifier\n",
        "clf4 = KNeighborsClassifier(metric='minkowski',p=2)\n",
        "param_grid = {'n_neighbors':[1,3,5,7]}\n",
        "grid =GridSearchCV(clf4,param_grid,cv=4,scoring ='accuracy')\n",
        "grid.fit(X_train,y_train)\n",
        "grid.best_params_\n"
      ],
      "metadata": {
        "id": "NPUEkDJ2wPBj",
        "colab": {
          "base_uri": "https://localhost:8080/"
        },
        "outputId": "bfe36c2d-e571-477f-e1da-5a797d11020c"
      },
      "execution_count": null,
      "outputs": [
        {
          "output_type": "execute_result",
          "data": {
            "text/plain": [
              "{'n_neighbors': 7}"
            ]
          },
          "metadata": {},
          "execution_count": 202
        }
      ]
    },
    {
      "cell_type": "code",
      "source": [
        "grid.best_score_"
      ],
      "metadata": {
        "colab": {
          "base_uri": "https://localhost:8080/"
        },
        "id": "TBMLFbc8AhVh",
        "outputId": "f32a27b9-7283-403e-efee-32f23128c995"
      },
      "execution_count": 229,
      "outputs": [
        {
          "output_type": "execute_result",
          "data": {
            "text/plain": [
              "0.833625"
            ]
          },
          "metadata": {},
          "execution_count": 229
        }
      ]
    },
    {
      "cell_type": "code",
      "source": [
        "y_KN_pred = grid.predict(X_test)\n",
        "report = skm.classification_report(y_test,y_KN_pred)\n",
        "print(report)"
      ],
      "metadata": {
        "colab": {
          "base_uri": "https://localhost:8080/"
        },
        "id": "VTMBcdj0BPfr",
        "outputId": "4e75e8ce-6f24-4002-bc23-1608e0db4513"
      },
      "execution_count": 233,
      "outputs": [
        {
          "output_type": "stream",
          "name": "stdout",
          "text": [
            "              precision    recall  f1-score   support\n",
            "\n",
            "       <=50K       0.88      0.90      0.89      3074\n",
            "        >50K       0.65      0.61      0.63       926\n",
            "\n",
            "    accuracy                           0.83      4000\n",
            "   macro avg       0.77      0.76      0.76      4000\n",
            "weighted avg       0.83      0.83      0.83      4000\n",
            "\n"
          ]
        }
      ]
    },
    {
      "cell_type": "markdown",
      "source": [
        "Take DecisionTreeClassifier(random_state = 64) with GridSearchCV to train the model.Hyperparameter tuning to be done over the following parameters:\n",
        "\n",
        "Use criterion as 'entropy' or 'gini'\n",
        "Use splitter as 'random' or 'best'\n",
        "Use minimum number of samples per leaf as [2,4,6,8,10]\n",
        "Use maximum depth as [3,4,5,6]\n",
        "Use cross validation = 4\n",
        "Enter the value (up to 2 decimal points) of the 'score' on testing set using best model.\n"
      ],
      "metadata": {
        "id": "o6B5hTGVwPep"
      }
    },
    {
      "cell_type": "code",
      "source": [
        "from sklearn.tree import DecisionTreeClassifier\n",
        "clf5 = DecisionTreeClassifier(random_state=64)\n",
        "param_grid= {'criterion':['entropy','gini'],'splitter':['random','best'],'max_depth':[3,4,5,6],\n",
        "             'min_samples_leaf':[2,4,6,8,10]}\n",
        "grid1 = GridSearchCV(clf5,param_grid,cv= 5,)"
      ],
      "metadata": {
        "id": "bmgVnhZIwXrt"
      },
      "execution_count": null,
      "outputs": []
    },
    {
      "cell_type": "code",
      "source": [
        "grid1.fit(X_train,y_train)"
      ],
      "metadata": {
        "colab": {
          "base_uri": "https://localhost:8080/",
          "height": 118
        },
        "id": "PesvJRmfbwZm",
        "outputId": "d7e0b2d7-ce5c-465a-c07b-55ced76e59b5"
      },
      "execution_count": null,
      "outputs": [
        {
          "output_type": "execute_result",
          "data": {
            "text/plain": [
              "GridSearchCV(cv=5, estimator=DecisionTreeClassifier(random_state=64),\n",
              "             param_grid={'criterion': ['entropy', 'gini'],\n",
              "                         'max_depth': [3, 4, 5, 6],\n",
              "                         'min_samples_leaf': [2, 4, 6, 8, 10],\n",
              "                         'splitter': ['random', 'best']})"
            ],
            "text/html": [
              "<style>#sk-container-id-7 {color: black;background-color: white;}#sk-container-id-7 pre{padding: 0;}#sk-container-id-7 div.sk-toggleable {background-color: white;}#sk-container-id-7 label.sk-toggleable__label {cursor: pointer;display: block;width: 100%;margin-bottom: 0;padding: 0.3em;box-sizing: border-box;text-align: center;}#sk-container-id-7 label.sk-toggleable__label-arrow:before {content: \"▸\";float: left;margin-right: 0.25em;color: #696969;}#sk-container-id-7 label.sk-toggleable__label-arrow:hover:before {color: black;}#sk-container-id-7 div.sk-estimator:hover label.sk-toggleable__label-arrow:before {color: black;}#sk-container-id-7 div.sk-toggleable__content {max-height: 0;max-width: 0;overflow: hidden;text-align: left;background-color: #f0f8ff;}#sk-container-id-7 div.sk-toggleable__content pre {margin: 0.2em;color: black;border-radius: 0.25em;background-color: #f0f8ff;}#sk-container-id-7 input.sk-toggleable__control:checked~div.sk-toggleable__content {max-height: 200px;max-width: 100%;overflow: auto;}#sk-container-id-7 input.sk-toggleable__control:checked~label.sk-toggleable__label-arrow:before {content: \"▾\";}#sk-container-id-7 div.sk-estimator input.sk-toggleable__control:checked~label.sk-toggleable__label {background-color: #d4ebff;}#sk-container-id-7 div.sk-label input.sk-toggleable__control:checked~label.sk-toggleable__label {background-color: #d4ebff;}#sk-container-id-7 input.sk-hidden--visually {border: 0;clip: rect(1px 1px 1px 1px);clip: rect(1px, 1px, 1px, 1px);height: 1px;margin: -1px;overflow: hidden;padding: 0;position: absolute;width: 1px;}#sk-container-id-7 div.sk-estimator {font-family: monospace;background-color: #f0f8ff;border: 1px dotted black;border-radius: 0.25em;box-sizing: border-box;margin-bottom: 0.5em;}#sk-container-id-7 div.sk-estimator:hover {background-color: #d4ebff;}#sk-container-id-7 div.sk-parallel-item::after {content: \"\";width: 100%;border-bottom: 1px solid gray;flex-grow: 1;}#sk-container-id-7 div.sk-label:hover label.sk-toggleable__label {background-color: #d4ebff;}#sk-container-id-7 div.sk-serial::before {content: \"\";position: absolute;border-left: 1px solid gray;box-sizing: border-box;top: 0;bottom: 0;left: 50%;z-index: 0;}#sk-container-id-7 div.sk-serial {display: flex;flex-direction: column;align-items: center;background-color: white;padding-right: 0.2em;padding-left: 0.2em;position: relative;}#sk-container-id-7 div.sk-item {position: relative;z-index: 1;}#sk-container-id-7 div.sk-parallel {display: flex;align-items: stretch;justify-content: center;background-color: white;position: relative;}#sk-container-id-7 div.sk-item::before, #sk-container-id-7 div.sk-parallel-item::before {content: \"\";position: absolute;border-left: 1px solid gray;box-sizing: border-box;top: 0;bottom: 0;left: 50%;z-index: -1;}#sk-container-id-7 div.sk-parallel-item {display: flex;flex-direction: column;z-index: 1;position: relative;background-color: white;}#sk-container-id-7 div.sk-parallel-item:first-child::after {align-self: flex-end;width: 50%;}#sk-container-id-7 div.sk-parallel-item:last-child::after {align-self: flex-start;width: 50%;}#sk-container-id-7 div.sk-parallel-item:only-child::after {width: 0;}#sk-container-id-7 div.sk-dashed-wrapped {border: 1px dashed gray;margin: 0 0.4em 0.5em 0.4em;box-sizing: border-box;padding-bottom: 0.4em;background-color: white;}#sk-container-id-7 div.sk-label label {font-family: monospace;font-weight: bold;display: inline-block;line-height: 1.2em;}#sk-container-id-7 div.sk-label-container {text-align: center;}#sk-container-id-7 div.sk-container {/* jupyter's `normalize.less` sets `[hidden] { display: none; }` but bootstrap.min.css set `[hidden] { display: none !important; }` so we also need the `!important` here to be able to override the default hidden behavior on the sphinx rendered scikit-learn.org. See: https://github.com/scikit-learn/scikit-learn/issues/21755 */display: inline-block !important;position: relative;}#sk-container-id-7 div.sk-text-repr-fallback {display: none;}</style><div id=\"sk-container-id-7\" class=\"sk-top-container\"><div class=\"sk-text-repr-fallback\"><pre>GridSearchCV(cv=5, estimator=DecisionTreeClassifier(random_state=64),\n",
              "             param_grid={&#x27;criterion&#x27;: [&#x27;entropy&#x27;, &#x27;gini&#x27;],\n",
              "                         &#x27;max_depth&#x27;: [3, 4, 5, 6],\n",
              "                         &#x27;min_samples_leaf&#x27;: [2, 4, 6, 8, 10],\n",
              "                         &#x27;splitter&#x27;: [&#x27;random&#x27;, &#x27;best&#x27;]})</pre><b>In a Jupyter environment, please rerun this cell to show the HTML representation or trust the notebook. <br />On GitHub, the HTML representation is unable to render, please try loading this page with nbviewer.org.</b></div><div class=\"sk-container\" hidden><div class=\"sk-item sk-dashed-wrapped\"><div class=\"sk-label-container\"><div class=\"sk-label sk-toggleable\"><input class=\"sk-toggleable__control sk-hidden--visually\" id=\"sk-estimator-id-9\" type=\"checkbox\" ><label for=\"sk-estimator-id-9\" class=\"sk-toggleable__label sk-toggleable__label-arrow\">GridSearchCV</label><div class=\"sk-toggleable__content\"><pre>GridSearchCV(cv=5, estimator=DecisionTreeClassifier(random_state=64),\n",
              "             param_grid={&#x27;criterion&#x27;: [&#x27;entropy&#x27;, &#x27;gini&#x27;],\n",
              "                         &#x27;max_depth&#x27;: [3, 4, 5, 6],\n",
              "                         &#x27;min_samples_leaf&#x27;: [2, 4, 6, 8, 10],\n",
              "                         &#x27;splitter&#x27;: [&#x27;random&#x27;, &#x27;best&#x27;]})</pre></div></div></div><div class=\"sk-parallel\"><div class=\"sk-parallel-item\"><div class=\"sk-item\"><div class=\"sk-label-container\"><div class=\"sk-label sk-toggleable\"><input class=\"sk-toggleable__control sk-hidden--visually\" id=\"sk-estimator-id-10\" type=\"checkbox\" ><label for=\"sk-estimator-id-10\" class=\"sk-toggleable__label sk-toggleable__label-arrow\">estimator: DecisionTreeClassifier</label><div class=\"sk-toggleable__content\"><pre>DecisionTreeClassifier(random_state=64)</pre></div></div></div><div class=\"sk-serial\"><div class=\"sk-item\"><div class=\"sk-estimator sk-toggleable\"><input class=\"sk-toggleable__control sk-hidden--visually\" id=\"sk-estimator-id-11\" type=\"checkbox\" ><label for=\"sk-estimator-id-11\" class=\"sk-toggleable__label sk-toggleable__label-arrow\">DecisionTreeClassifier</label><div class=\"sk-toggleable__content\"><pre>DecisionTreeClassifier(random_state=64)</pre></div></div></div></div></div></div></div></div></div></div>"
            ]
          },
          "metadata": {},
          "execution_count": 204
        }
      ]
    },
    {
      "cell_type": "code",
      "source": [
        "grid1.best_params_"
      ],
      "metadata": {
        "colab": {
          "base_uri": "https://localhost:8080/"
        },
        "id": "pvwlEPD8cYmX",
        "outputId": "aacbd670-1b95-41d7-8927-85331b69b71e"
      },
      "execution_count": null,
      "outputs": [
        {
          "output_type": "execute_result",
          "data": {
            "text/plain": [
              "{'criterion': 'gini',\n",
              " 'max_depth': 6,\n",
              " 'min_samples_leaf': 10,\n",
              " 'splitter': 'best'}"
            ]
          },
          "metadata": {},
          "execution_count": 205
        }
      ]
    },
    {
      "cell_type": "code",
      "source": [
        "grid1.best_score_"
      ],
      "metadata": {
        "colab": {
          "base_uri": "https://localhost:8080/"
        },
        "id": "KBS-q9ncce_w",
        "outputId": "bab0ebe2-c4e7-4162-9ad0-e6d6291674ef"
      },
      "execution_count": null,
      "outputs": [
        {
          "output_type": "execute_result",
          "data": {
            "text/plain": [
              "0.8533125"
            ]
          },
          "metadata": {},
          "execution_count": 206
        }
      ]
    },
    {
      "cell_type": "code",
      "source": [
        "best_tree =grid1.best_estimator_\n",
        "best_tree.tree_.node_count # tree_attribute of Decision Tree\n"
      ],
      "metadata": {
        "colab": {
          "base_uri": "https://localhost:8080/"
        },
        "id": "_p3D9_O8b5Y9",
        "outputId": "04fab140-ff13-4dae-c6b4-fe41a7437ebe"
      },
      "execution_count": null,
      "outputs": [
        {
          "output_type": "execute_result",
          "data": {
            "text/plain": [
              "75"
            ]
          },
          "metadata": {},
          "execution_count": 207
        }
      ]
    },
    {
      "cell_type": "code",
      "source": [
        "clf5.get_params()# for getting parameters of clasifier"
      ],
      "metadata": {
        "id": "ZIm0c7XkZkEI",
        "colab": {
          "base_uri": "https://localhost:8080/"
        },
        "outputId": "e1d54436-dcf0-4e19-e4d0-79702b0aa18a"
      },
      "execution_count": null,
      "outputs": [
        {
          "output_type": "execute_result",
          "data": {
            "text/plain": [
              "{'ccp_alpha': 0.0,\n",
              " 'class_weight': None,\n",
              " 'criterion': 'gini',\n",
              " 'max_depth': None,\n",
              " 'max_features': None,\n",
              " 'max_leaf_nodes': None,\n",
              " 'min_impurity_decrease': 0.0,\n",
              " 'min_samples_leaf': 1,\n",
              " 'min_samples_split': 2,\n",
              " 'min_weight_fraction_leaf': 0.0,\n",
              " 'random_state': 64,\n",
              " 'splitter': 'best'}"
            ]
          },
          "metadata": {},
          "execution_count": 208
        }
      ]
    },
    {
      "cell_type": "markdown",
      "source": [
        "Enter the value of best max_depth of the model after training with GridSearchCV.\n",
        "\n",
        "Ans: 6\n"
      ],
      "metadata": {
        "id": "2KWZqVupwdZn"
      }
    },
    {
      "cell_type": "markdown",
      "source": [
        "Enter the value of best min_samples_leaf of the model after training with GridSearchCV.\n",
        "\n",
        "Ans: 10\n"
      ],
      "metadata": {
        "id": "noFLx9-9wgZB"
      }
    },
    {
      "cell_type": "markdown",
      "source": [
        "What are the number of nodes in the optimal tree?\n",
        "\n",
        "Ans: 75"
      ],
      "metadata": {
        "id": "fD9p6HBlwvmj"
      }
    },
    {
      "cell_type": "markdown",
      "source": [
        "Take RandomForestClassifier (random state to be 64) with GridSearchCV to tune the number of decision trees with training set. The number of trees in forest can range from 5 to 10 (both inclusive). Mark the number of decision trees that will produce the best score on the training data.\n",
        "\n"
      ],
      "metadata": {
        "id": "PTJbh0Gywxd9"
      }
    },
    {
      "cell_type": "code",
      "source": [
        "from sklearn.ensemble import RandomForestClassifier\n",
        "clf6 = RandomForestClassifier(random_state = 64)\n",
        "param_grid = {'n_estimators':[5,6,7,8,9,10]}\n",
        "grid2 =GridSearchCV(clf6,param_grid)\n",
        "grid2.fit(X_train,y_train)"
      ],
      "metadata": {
        "id": "qXRrY1Aow9SP",
        "colab": {
          "base_uri": "https://localhost:8080/",
          "height": 118
        },
        "outputId": "0884e08c-ad83-4820-8faf-bec355d21712"
      },
      "execution_count": null,
      "outputs": [
        {
          "output_type": "execute_result",
          "data": {
            "text/plain": [
              "GridSearchCV(estimator=RandomForestClassifier(random_state=64),\n",
              "             param_grid={'n_estimators': [5, 6, 7, 8, 9, 10]})"
            ],
            "text/html": [
              "<style>#sk-container-id-8 {color: black;background-color: white;}#sk-container-id-8 pre{padding: 0;}#sk-container-id-8 div.sk-toggleable {background-color: white;}#sk-container-id-8 label.sk-toggleable__label {cursor: pointer;display: block;width: 100%;margin-bottom: 0;padding: 0.3em;box-sizing: border-box;text-align: center;}#sk-container-id-8 label.sk-toggleable__label-arrow:before {content: \"▸\";float: left;margin-right: 0.25em;color: #696969;}#sk-container-id-8 label.sk-toggleable__label-arrow:hover:before {color: black;}#sk-container-id-8 div.sk-estimator:hover label.sk-toggleable__label-arrow:before {color: black;}#sk-container-id-8 div.sk-toggleable__content {max-height: 0;max-width: 0;overflow: hidden;text-align: left;background-color: #f0f8ff;}#sk-container-id-8 div.sk-toggleable__content pre {margin: 0.2em;color: black;border-radius: 0.25em;background-color: #f0f8ff;}#sk-container-id-8 input.sk-toggleable__control:checked~div.sk-toggleable__content {max-height: 200px;max-width: 100%;overflow: auto;}#sk-container-id-8 input.sk-toggleable__control:checked~label.sk-toggleable__label-arrow:before {content: \"▾\";}#sk-container-id-8 div.sk-estimator input.sk-toggleable__control:checked~label.sk-toggleable__label {background-color: #d4ebff;}#sk-container-id-8 div.sk-label input.sk-toggleable__control:checked~label.sk-toggleable__label {background-color: #d4ebff;}#sk-container-id-8 input.sk-hidden--visually {border: 0;clip: rect(1px 1px 1px 1px);clip: rect(1px, 1px, 1px, 1px);height: 1px;margin: -1px;overflow: hidden;padding: 0;position: absolute;width: 1px;}#sk-container-id-8 div.sk-estimator {font-family: monospace;background-color: #f0f8ff;border: 1px dotted black;border-radius: 0.25em;box-sizing: border-box;margin-bottom: 0.5em;}#sk-container-id-8 div.sk-estimator:hover {background-color: #d4ebff;}#sk-container-id-8 div.sk-parallel-item::after {content: \"\";width: 100%;border-bottom: 1px solid gray;flex-grow: 1;}#sk-container-id-8 div.sk-label:hover label.sk-toggleable__label {background-color: #d4ebff;}#sk-container-id-8 div.sk-serial::before {content: \"\";position: absolute;border-left: 1px solid gray;box-sizing: border-box;top: 0;bottom: 0;left: 50%;z-index: 0;}#sk-container-id-8 div.sk-serial {display: flex;flex-direction: column;align-items: center;background-color: white;padding-right: 0.2em;padding-left: 0.2em;position: relative;}#sk-container-id-8 div.sk-item {position: relative;z-index: 1;}#sk-container-id-8 div.sk-parallel {display: flex;align-items: stretch;justify-content: center;background-color: white;position: relative;}#sk-container-id-8 div.sk-item::before, #sk-container-id-8 div.sk-parallel-item::before {content: \"\";position: absolute;border-left: 1px solid gray;box-sizing: border-box;top: 0;bottom: 0;left: 50%;z-index: -1;}#sk-container-id-8 div.sk-parallel-item {display: flex;flex-direction: column;z-index: 1;position: relative;background-color: white;}#sk-container-id-8 div.sk-parallel-item:first-child::after {align-self: flex-end;width: 50%;}#sk-container-id-8 div.sk-parallel-item:last-child::after {align-self: flex-start;width: 50%;}#sk-container-id-8 div.sk-parallel-item:only-child::after {width: 0;}#sk-container-id-8 div.sk-dashed-wrapped {border: 1px dashed gray;margin: 0 0.4em 0.5em 0.4em;box-sizing: border-box;padding-bottom: 0.4em;background-color: white;}#sk-container-id-8 div.sk-label label {font-family: monospace;font-weight: bold;display: inline-block;line-height: 1.2em;}#sk-container-id-8 div.sk-label-container {text-align: center;}#sk-container-id-8 div.sk-container {/* jupyter's `normalize.less` sets `[hidden] { display: none; }` but bootstrap.min.css set `[hidden] { display: none !important; }` so we also need the `!important` here to be able to override the default hidden behavior on the sphinx rendered scikit-learn.org. See: https://github.com/scikit-learn/scikit-learn/issues/21755 */display: inline-block !important;position: relative;}#sk-container-id-8 div.sk-text-repr-fallback {display: none;}</style><div id=\"sk-container-id-8\" class=\"sk-top-container\"><div class=\"sk-text-repr-fallback\"><pre>GridSearchCV(estimator=RandomForestClassifier(random_state=64),\n",
              "             param_grid={&#x27;n_estimators&#x27;: [5, 6, 7, 8, 9, 10]})</pre><b>In a Jupyter environment, please rerun this cell to show the HTML representation or trust the notebook. <br />On GitHub, the HTML representation is unable to render, please try loading this page with nbviewer.org.</b></div><div class=\"sk-container\" hidden><div class=\"sk-item sk-dashed-wrapped\"><div class=\"sk-label-container\"><div class=\"sk-label sk-toggleable\"><input class=\"sk-toggleable__control sk-hidden--visually\" id=\"sk-estimator-id-12\" type=\"checkbox\" ><label for=\"sk-estimator-id-12\" class=\"sk-toggleable__label sk-toggleable__label-arrow\">GridSearchCV</label><div class=\"sk-toggleable__content\"><pre>GridSearchCV(estimator=RandomForestClassifier(random_state=64),\n",
              "             param_grid={&#x27;n_estimators&#x27;: [5, 6, 7, 8, 9, 10]})</pre></div></div></div><div class=\"sk-parallel\"><div class=\"sk-parallel-item\"><div class=\"sk-item\"><div class=\"sk-label-container\"><div class=\"sk-label sk-toggleable\"><input class=\"sk-toggleable__control sk-hidden--visually\" id=\"sk-estimator-id-13\" type=\"checkbox\" ><label for=\"sk-estimator-id-13\" class=\"sk-toggleable__label sk-toggleable__label-arrow\">estimator: RandomForestClassifier</label><div class=\"sk-toggleable__content\"><pre>RandomForestClassifier(random_state=64)</pre></div></div></div><div class=\"sk-serial\"><div class=\"sk-item\"><div class=\"sk-estimator sk-toggleable\"><input class=\"sk-toggleable__control sk-hidden--visually\" id=\"sk-estimator-id-14\" type=\"checkbox\" ><label for=\"sk-estimator-id-14\" class=\"sk-toggleable__label sk-toggleable__label-arrow\">RandomForestClassifier</label><div class=\"sk-toggleable__content\"><pre>RandomForestClassifier(random_state=64)</pre></div></div></div></div></div></div></div></div></div></div>"
            ]
          },
          "metadata": {},
          "execution_count": 212
        }
      ]
    },
    {
      "cell_type": "code",
      "source": [
        "grid2.best_params_"
      ],
      "metadata": {
        "colab": {
          "base_uri": "https://localhost:8080/"
        },
        "id": "3pRT-fs8vIjM",
        "outputId": "cbfe08a2-8532-4580-8dac-f189cf5077ac"
      },
      "execution_count": null,
      "outputs": [
        {
          "output_type": "execute_result",
          "data": {
            "text/plain": [
              "{'n_estimators': 10}"
            ]
          },
          "metadata": {},
          "execution_count": 213
        }
      ]
    },
    {
      "cell_type": "markdown",
      "source": [
        "Enter the value of best n_estimators of the model after training with GridSearchCV.\n",
        "\n",
        "Ans: 10"
      ],
      "metadata": {
        "id": "15CRYv7sxGXu"
      }
    },
    {
      "cell_type": "markdown",
      "source": [
        "# Take an adaboost model with following hyperparameter values and tune it using GridsearchCV.\n",
        "Use n_estimators as [10,20,30]\n",
        "random_state = 64\n",
        "Use learning_rate as [0.5,1,2]\n",
        "Take cv value= 4\n",
        "Train the 'model' using above instructions and enter the 'accuracy score' (up to 3 decimal points) on the test data."
      ],
      "metadata": {
        "id": "4xmJLy5PvqKK"
      }
    },
    {
      "cell_type": "code",
      "source": [
        "from sklearn.ensemble import AdaBoostClassifier\n",
        "clf7 = AdaBoostClassifier(random_state = 64)\n",
        "param_grid = {'n_estimators':[10,20,30],'learning_rate':[0.5,1,2]}\n",
        "grid3 =GridSearchCV(clf7,param_grid,cv= 4)\n",
        "grid3.fit(X_train,y_train)"
      ],
      "metadata": {
        "colab": {
          "base_uri": "https://localhost:8080/",
          "height": 118
        },
        "id": "OHlOre75v1kJ",
        "outputId": "49801b82-6835-441a-c0f0-d958faa37e66"
      },
      "execution_count": null,
      "outputs": [
        {
          "output_type": "execute_result",
          "data": {
            "text/plain": [
              "GridSearchCV(cv=4, estimator=AdaBoostClassifier(random_state=64),\n",
              "             param_grid={'learning_rate': [0.5, 1, 2],\n",
              "                         'n_estimators': [10, 20, 30]})"
            ],
            "text/html": [
              "<style>#sk-container-id-9 {color: black;background-color: white;}#sk-container-id-9 pre{padding: 0;}#sk-container-id-9 div.sk-toggleable {background-color: white;}#sk-container-id-9 label.sk-toggleable__label {cursor: pointer;display: block;width: 100%;margin-bottom: 0;padding: 0.3em;box-sizing: border-box;text-align: center;}#sk-container-id-9 label.sk-toggleable__label-arrow:before {content: \"▸\";float: left;margin-right: 0.25em;color: #696969;}#sk-container-id-9 label.sk-toggleable__label-arrow:hover:before {color: black;}#sk-container-id-9 div.sk-estimator:hover label.sk-toggleable__label-arrow:before {color: black;}#sk-container-id-9 div.sk-toggleable__content {max-height: 0;max-width: 0;overflow: hidden;text-align: left;background-color: #f0f8ff;}#sk-container-id-9 div.sk-toggleable__content pre {margin: 0.2em;color: black;border-radius: 0.25em;background-color: #f0f8ff;}#sk-container-id-9 input.sk-toggleable__control:checked~div.sk-toggleable__content {max-height: 200px;max-width: 100%;overflow: auto;}#sk-container-id-9 input.sk-toggleable__control:checked~label.sk-toggleable__label-arrow:before {content: \"▾\";}#sk-container-id-9 div.sk-estimator input.sk-toggleable__control:checked~label.sk-toggleable__label {background-color: #d4ebff;}#sk-container-id-9 div.sk-label input.sk-toggleable__control:checked~label.sk-toggleable__label {background-color: #d4ebff;}#sk-container-id-9 input.sk-hidden--visually {border: 0;clip: rect(1px 1px 1px 1px);clip: rect(1px, 1px, 1px, 1px);height: 1px;margin: -1px;overflow: hidden;padding: 0;position: absolute;width: 1px;}#sk-container-id-9 div.sk-estimator {font-family: monospace;background-color: #f0f8ff;border: 1px dotted black;border-radius: 0.25em;box-sizing: border-box;margin-bottom: 0.5em;}#sk-container-id-9 div.sk-estimator:hover {background-color: #d4ebff;}#sk-container-id-9 div.sk-parallel-item::after {content: \"\";width: 100%;border-bottom: 1px solid gray;flex-grow: 1;}#sk-container-id-9 div.sk-label:hover label.sk-toggleable__label {background-color: #d4ebff;}#sk-container-id-9 div.sk-serial::before {content: \"\";position: absolute;border-left: 1px solid gray;box-sizing: border-box;top: 0;bottom: 0;left: 50%;z-index: 0;}#sk-container-id-9 div.sk-serial {display: flex;flex-direction: column;align-items: center;background-color: white;padding-right: 0.2em;padding-left: 0.2em;position: relative;}#sk-container-id-9 div.sk-item {position: relative;z-index: 1;}#sk-container-id-9 div.sk-parallel {display: flex;align-items: stretch;justify-content: center;background-color: white;position: relative;}#sk-container-id-9 div.sk-item::before, #sk-container-id-9 div.sk-parallel-item::before {content: \"\";position: absolute;border-left: 1px solid gray;box-sizing: border-box;top: 0;bottom: 0;left: 50%;z-index: -1;}#sk-container-id-9 div.sk-parallel-item {display: flex;flex-direction: column;z-index: 1;position: relative;background-color: white;}#sk-container-id-9 div.sk-parallel-item:first-child::after {align-self: flex-end;width: 50%;}#sk-container-id-9 div.sk-parallel-item:last-child::after {align-self: flex-start;width: 50%;}#sk-container-id-9 div.sk-parallel-item:only-child::after {width: 0;}#sk-container-id-9 div.sk-dashed-wrapped {border: 1px dashed gray;margin: 0 0.4em 0.5em 0.4em;box-sizing: border-box;padding-bottom: 0.4em;background-color: white;}#sk-container-id-9 div.sk-label label {font-family: monospace;font-weight: bold;display: inline-block;line-height: 1.2em;}#sk-container-id-9 div.sk-label-container {text-align: center;}#sk-container-id-9 div.sk-container {/* jupyter's `normalize.less` sets `[hidden] { display: none; }` but bootstrap.min.css set `[hidden] { display: none !important; }` so we also need the `!important` here to be able to override the default hidden behavior on the sphinx rendered scikit-learn.org. See: https://github.com/scikit-learn/scikit-learn/issues/21755 */display: inline-block !important;position: relative;}#sk-container-id-9 div.sk-text-repr-fallback {display: none;}</style><div id=\"sk-container-id-9\" class=\"sk-top-container\"><div class=\"sk-text-repr-fallback\"><pre>GridSearchCV(cv=4, estimator=AdaBoostClassifier(random_state=64),\n",
              "             param_grid={&#x27;learning_rate&#x27;: [0.5, 1, 2],\n",
              "                         &#x27;n_estimators&#x27;: [10, 20, 30]})</pre><b>In a Jupyter environment, please rerun this cell to show the HTML representation or trust the notebook. <br />On GitHub, the HTML representation is unable to render, please try loading this page with nbviewer.org.</b></div><div class=\"sk-container\" hidden><div class=\"sk-item sk-dashed-wrapped\"><div class=\"sk-label-container\"><div class=\"sk-label sk-toggleable\"><input class=\"sk-toggleable__control sk-hidden--visually\" id=\"sk-estimator-id-15\" type=\"checkbox\" ><label for=\"sk-estimator-id-15\" class=\"sk-toggleable__label sk-toggleable__label-arrow\">GridSearchCV</label><div class=\"sk-toggleable__content\"><pre>GridSearchCV(cv=4, estimator=AdaBoostClassifier(random_state=64),\n",
              "             param_grid={&#x27;learning_rate&#x27;: [0.5, 1, 2],\n",
              "                         &#x27;n_estimators&#x27;: [10, 20, 30]})</pre></div></div></div><div class=\"sk-parallel\"><div class=\"sk-parallel-item\"><div class=\"sk-item\"><div class=\"sk-label-container\"><div class=\"sk-label sk-toggleable\"><input class=\"sk-toggleable__control sk-hidden--visually\" id=\"sk-estimator-id-16\" type=\"checkbox\" ><label for=\"sk-estimator-id-16\" class=\"sk-toggleable__label sk-toggleable__label-arrow\">estimator: AdaBoostClassifier</label><div class=\"sk-toggleable__content\"><pre>AdaBoostClassifier(random_state=64)</pre></div></div></div><div class=\"sk-serial\"><div class=\"sk-item\"><div class=\"sk-estimator sk-toggleable\"><input class=\"sk-toggleable__control sk-hidden--visually\" id=\"sk-estimator-id-17\" type=\"checkbox\" ><label for=\"sk-estimator-id-17\" class=\"sk-toggleable__label sk-toggleable__label-arrow\">AdaBoostClassifier</label><div class=\"sk-toggleable__content\"><pre>AdaBoostClassifier(random_state=64)</pre></div></div></div></div></div></div></div></div></div></div>"
            ]
          },
          "metadata": {},
          "execution_count": 217
        }
      ]
    },
    {
      "cell_type": "code",
      "source": [
        "y_ada_pred = grid3.predict(X_test)\n",
        "skm.accuracy_score(y_test,y_ada_pred)"
      ],
      "metadata": {
        "colab": {
          "base_uri": "https://localhost:8080/"
        },
        "id": "7LZ5qyq_xQDA",
        "outputId": "32b8c96c-e6ec-413d-e42a-7641addf6af3"
      },
      "execution_count": null,
      "outputs": [
        {
          "output_type": "execute_result",
          "data": {
            "text/plain": [
              "0.8565"
            ]
          },
          "metadata": {},
          "execution_count": 219
        }
      ]
    },
    {
      "cell_type": "code",
      "source": [
        "grid3.best_params_"
      ],
      "metadata": {
        "colab": {
          "base_uri": "https://localhost:8080/"
        },
        "id": "C2OVN78ix2q6",
        "outputId": "7ba0795b-a1dc-4148-903b-f5e3e043c97b"
      },
      "execution_count": null,
      "outputs": [
        {
          "output_type": "execute_result",
          "data": {
            "text/plain": [
              "{'learning_rate': 0.5, 'n_estimators': 30}"
            ]
          },
          "metadata": {},
          "execution_count": 220
        }
      ]
    },
    {
      "cell_type": "code",
      "source": [
        "grid3.best_estimator_"
      ],
      "metadata": {
        "colab": {
          "base_uri": "https://localhost:8080/",
          "height": 75
        },
        "id": "HtcV3_s8x96c",
        "outputId": "83f973cc-8e49-41ef-f8f6-372a9e8ec059"
      },
      "execution_count": null,
      "outputs": [
        {
          "output_type": "execute_result",
          "data": {
            "text/plain": [
              "AdaBoostClassifier(learning_rate=0.5, n_estimators=30, random_state=64)"
            ],
            "text/html": [
              "<style>#sk-container-id-10 {color: black;background-color: white;}#sk-container-id-10 pre{padding: 0;}#sk-container-id-10 div.sk-toggleable {background-color: white;}#sk-container-id-10 label.sk-toggleable__label {cursor: pointer;display: block;width: 100%;margin-bottom: 0;padding: 0.3em;box-sizing: border-box;text-align: center;}#sk-container-id-10 label.sk-toggleable__label-arrow:before {content: \"▸\";float: left;margin-right: 0.25em;color: #696969;}#sk-container-id-10 label.sk-toggleable__label-arrow:hover:before {color: black;}#sk-container-id-10 div.sk-estimator:hover label.sk-toggleable__label-arrow:before {color: black;}#sk-container-id-10 div.sk-toggleable__content {max-height: 0;max-width: 0;overflow: hidden;text-align: left;background-color: #f0f8ff;}#sk-container-id-10 div.sk-toggleable__content pre {margin: 0.2em;color: black;border-radius: 0.25em;background-color: #f0f8ff;}#sk-container-id-10 input.sk-toggleable__control:checked~div.sk-toggleable__content {max-height: 200px;max-width: 100%;overflow: auto;}#sk-container-id-10 input.sk-toggleable__control:checked~label.sk-toggleable__label-arrow:before {content: \"▾\";}#sk-container-id-10 div.sk-estimator input.sk-toggleable__control:checked~label.sk-toggleable__label {background-color: #d4ebff;}#sk-container-id-10 div.sk-label input.sk-toggleable__control:checked~label.sk-toggleable__label {background-color: #d4ebff;}#sk-container-id-10 input.sk-hidden--visually {border: 0;clip: rect(1px 1px 1px 1px);clip: rect(1px, 1px, 1px, 1px);height: 1px;margin: -1px;overflow: hidden;padding: 0;position: absolute;width: 1px;}#sk-container-id-10 div.sk-estimator {font-family: monospace;background-color: #f0f8ff;border: 1px dotted black;border-radius: 0.25em;box-sizing: border-box;margin-bottom: 0.5em;}#sk-container-id-10 div.sk-estimator:hover {background-color: #d4ebff;}#sk-container-id-10 div.sk-parallel-item::after {content: \"\";width: 100%;border-bottom: 1px solid gray;flex-grow: 1;}#sk-container-id-10 div.sk-label:hover label.sk-toggleable__label {background-color: #d4ebff;}#sk-container-id-10 div.sk-serial::before {content: \"\";position: absolute;border-left: 1px solid gray;box-sizing: border-box;top: 0;bottom: 0;left: 50%;z-index: 0;}#sk-container-id-10 div.sk-serial {display: flex;flex-direction: column;align-items: center;background-color: white;padding-right: 0.2em;padding-left: 0.2em;position: relative;}#sk-container-id-10 div.sk-item {position: relative;z-index: 1;}#sk-container-id-10 div.sk-parallel {display: flex;align-items: stretch;justify-content: center;background-color: white;position: relative;}#sk-container-id-10 div.sk-item::before, #sk-container-id-10 div.sk-parallel-item::before {content: \"\";position: absolute;border-left: 1px solid gray;box-sizing: border-box;top: 0;bottom: 0;left: 50%;z-index: -1;}#sk-container-id-10 div.sk-parallel-item {display: flex;flex-direction: column;z-index: 1;position: relative;background-color: white;}#sk-container-id-10 div.sk-parallel-item:first-child::after {align-self: flex-end;width: 50%;}#sk-container-id-10 div.sk-parallel-item:last-child::after {align-self: flex-start;width: 50%;}#sk-container-id-10 div.sk-parallel-item:only-child::after {width: 0;}#sk-container-id-10 div.sk-dashed-wrapped {border: 1px dashed gray;margin: 0 0.4em 0.5em 0.4em;box-sizing: border-box;padding-bottom: 0.4em;background-color: white;}#sk-container-id-10 div.sk-label label {font-family: monospace;font-weight: bold;display: inline-block;line-height: 1.2em;}#sk-container-id-10 div.sk-label-container {text-align: center;}#sk-container-id-10 div.sk-container {/* jupyter's `normalize.less` sets `[hidden] { display: none; }` but bootstrap.min.css set `[hidden] { display: none !important; }` so we also need the `!important` here to be able to override the default hidden behavior on the sphinx rendered scikit-learn.org. See: https://github.com/scikit-learn/scikit-learn/issues/21755 */display: inline-block !important;position: relative;}#sk-container-id-10 div.sk-text-repr-fallback {display: none;}</style><div id=\"sk-container-id-10\" class=\"sk-top-container\"><div class=\"sk-text-repr-fallback\"><pre>AdaBoostClassifier(learning_rate=0.5, n_estimators=30, random_state=64)</pre><b>In a Jupyter environment, please rerun this cell to show the HTML representation or trust the notebook. <br />On GitHub, the HTML representation is unable to render, please try loading this page with nbviewer.org.</b></div><div class=\"sk-container\" hidden><div class=\"sk-item\"><div class=\"sk-estimator sk-toggleable\"><input class=\"sk-toggleable__control sk-hidden--visually\" id=\"sk-estimator-id-18\" type=\"checkbox\" checked><label for=\"sk-estimator-id-18\" class=\"sk-toggleable__label sk-toggleable__label-arrow\">AdaBoostClassifier</label><div class=\"sk-toggleable__content\"><pre>AdaBoostClassifier(learning_rate=0.5, n_estimators=30, random_state=64)</pre></div></div></div></div></div>"
            ]
          },
          "metadata": {},
          "execution_count": 221
        }
      ]
    },
    {
      "cell_type": "code",
      "source": [
        "grid3.best_score_"
      ],
      "metadata": {
        "colab": {
          "base_uri": "https://localhost:8080/"
        },
        "id": "OSJLHapIyGBu",
        "outputId": "d9942137-d46d-4fb3-9212-0039df9d4a04"
      },
      "execution_count": null,
      "outputs": [
        {
          "output_type": "execute_result",
          "data": {
            "text/plain": [
              "0.856625"
            ]
          },
          "metadata": {},
          "execution_count": 222
        }
      ]
    },
    {
      "cell_type": "markdown",
      "source": [
        "# Instruction for SVM\n",
        "\n",
        "Apply GridsearchCV and support vector machine (SVM)(kernel':('linear', 'rbf'), 'C':[1, 10]) on the training dataset X_train, y_train and calculate the best value of C and kernel. Which of the following options represent the best parameters. (Keep patience: It is common if it takes arround 5 min to complete the run.)"
      ],
      "metadata": {
        "id": "bDpoitSBxI47"
      }
    },
    {
      "cell_type": "code",
      "source": [
        "from sklearn.svm import SVC"
      ],
      "metadata": {
        "id": "NhPJUU45ybdY"
      },
      "execution_count": null,
      "outputs": []
    },
    {
      "cell_type": "code",
      "source": [
        "clf8 = SVC()\n",
        "param_grid ={'kernel':['linear','rbf'], 'C':[1,10]}\n",
        "grid4=GridSearchCV(clf8,param_grid)"
      ],
      "metadata": {
        "id": "_oo-jXC9y2jw"
      },
      "execution_count": null,
      "outputs": []
    },
    {
      "cell_type": "code",
      "source": [
        "grid4.fit(X_train,y_train)"
      ],
      "metadata": {
        "colab": {
          "base_uri": "https://localhost:8080/",
          "height": 118
        },
        "id": "Gm5Ic1PNzvAg",
        "outputId": "165286d4-fd5a-4717-ad27-aebe639cb26a"
      },
      "execution_count": null,
      "outputs": [
        {
          "output_type": "execute_result",
          "data": {
            "text/plain": [
              "GridSearchCV(estimator=SVC(),\n",
              "             param_grid={'C': [1, 10], 'kernel': ['linear', 'rbf']})"
            ],
            "text/html": [
              "<style>#sk-container-id-11 {color: black;background-color: white;}#sk-container-id-11 pre{padding: 0;}#sk-container-id-11 div.sk-toggleable {background-color: white;}#sk-container-id-11 label.sk-toggleable__label {cursor: pointer;display: block;width: 100%;margin-bottom: 0;padding: 0.3em;box-sizing: border-box;text-align: center;}#sk-container-id-11 label.sk-toggleable__label-arrow:before {content: \"▸\";float: left;margin-right: 0.25em;color: #696969;}#sk-container-id-11 label.sk-toggleable__label-arrow:hover:before {color: black;}#sk-container-id-11 div.sk-estimator:hover label.sk-toggleable__label-arrow:before {color: black;}#sk-container-id-11 div.sk-toggleable__content {max-height: 0;max-width: 0;overflow: hidden;text-align: left;background-color: #f0f8ff;}#sk-container-id-11 div.sk-toggleable__content pre {margin: 0.2em;color: black;border-radius: 0.25em;background-color: #f0f8ff;}#sk-container-id-11 input.sk-toggleable__control:checked~div.sk-toggleable__content {max-height: 200px;max-width: 100%;overflow: auto;}#sk-container-id-11 input.sk-toggleable__control:checked~label.sk-toggleable__label-arrow:before {content: \"▾\";}#sk-container-id-11 div.sk-estimator input.sk-toggleable__control:checked~label.sk-toggleable__label {background-color: #d4ebff;}#sk-container-id-11 div.sk-label input.sk-toggleable__control:checked~label.sk-toggleable__label {background-color: #d4ebff;}#sk-container-id-11 input.sk-hidden--visually {border: 0;clip: rect(1px 1px 1px 1px);clip: rect(1px, 1px, 1px, 1px);height: 1px;margin: -1px;overflow: hidden;padding: 0;position: absolute;width: 1px;}#sk-container-id-11 div.sk-estimator {font-family: monospace;background-color: #f0f8ff;border: 1px dotted black;border-radius: 0.25em;box-sizing: border-box;margin-bottom: 0.5em;}#sk-container-id-11 div.sk-estimator:hover {background-color: #d4ebff;}#sk-container-id-11 div.sk-parallel-item::after {content: \"\";width: 100%;border-bottom: 1px solid gray;flex-grow: 1;}#sk-container-id-11 div.sk-label:hover label.sk-toggleable__label {background-color: #d4ebff;}#sk-container-id-11 div.sk-serial::before {content: \"\";position: absolute;border-left: 1px solid gray;box-sizing: border-box;top: 0;bottom: 0;left: 50%;z-index: 0;}#sk-container-id-11 div.sk-serial {display: flex;flex-direction: column;align-items: center;background-color: white;padding-right: 0.2em;padding-left: 0.2em;position: relative;}#sk-container-id-11 div.sk-item {position: relative;z-index: 1;}#sk-container-id-11 div.sk-parallel {display: flex;align-items: stretch;justify-content: center;background-color: white;position: relative;}#sk-container-id-11 div.sk-item::before, #sk-container-id-11 div.sk-parallel-item::before {content: \"\";position: absolute;border-left: 1px solid gray;box-sizing: border-box;top: 0;bottom: 0;left: 50%;z-index: -1;}#sk-container-id-11 div.sk-parallel-item {display: flex;flex-direction: column;z-index: 1;position: relative;background-color: white;}#sk-container-id-11 div.sk-parallel-item:first-child::after {align-self: flex-end;width: 50%;}#sk-container-id-11 div.sk-parallel-item:last-child::after {align-self: flex-start;width: 50%;}#sk-container-id-11 div.sk-parallel-item:only-child::after {width: 0;}#sk-container-id-11 div.sk-dashed-wrapped {border: 1px dashed gray;margin: 0 0.4em 0.5em 0.4em;box-sizing: border-box;padding-bottom: 0.4em;background-color: white;}#sk-container-id-11 div.sk-label label {font-family: monospace;font-weight: bold;display: inline-block;line-height: 1.2em;}#sk-container-id-11 div.sk-label-container {text-align: center;}#sk-container-id-11 div.sk-container {/* jupyter's `normalize.less` sets `[hidden] { display: none; }` but bootstrap.min.css set `[hidden] { display: none !important; }` so we also need the `!important` here to be able to override the default hidden behavior on the sphinx rendered scikit-learn.org. See: https://github.com/scikit-learn/scikit-learn/issues/21755 */display: inline-block !important;position: relative;}#sk-container-id-11 div.sk-text-repr-fallback {display: none;}</style><div id=\"sk-container-id-11\" class=\"sk-top-container\"><div class=\"sk-text-repr-fallback\"><pre>GridSearchCV(estimator=SVC(),\n",
              "             param_grid={&#x27;C&#x27;: [1, 10], &#x27;kernel&#x27;: [&#x27;linear&#x27;, &#x27;rbf&#x27;]})</pre><b>In a Jupyter environment, please rerun this cell to show the HTML representation or trust the notebook. <br />On GitHub, the HTML representation is unable to render, please try loading this page with nbviewer.org.</b></div><div class=\"sk-container\" hidden><div class=\"sk-item sk-dashed-wrapped\"><div class=\"sk-label-container\"><div class=\"sk-label sk-toggleable\"><input class=\"sk-toggleable__control sk-hidden--visually\" id=\"sk-estimator-id-19\" type=\"checkbox\" ><label for=\"sk-estimator-id-19\" class=\"sk-toggleable__label sk-toggleable__label-arrow\">GridSearchCV</label><div class=\"sk-toggleable__content\"><pre>GridSearchCV(estimator=SVC(),\n",
              "             param_grid={&#x27;C&#x27;: [1, 10], &#x27;kernel&#x27;: [&#x27;linear&#x27;, &#x27;rbf&#x27;]})</pre></div></div></div><div class=\"sk-parallel\"><div class=\"sk-parallel-item\"><div class=\"sk-item\"><div class=\"sk-label-container\"><div class=\"sk-label sk-toggleable\"><input class=\"sk-toggleable__control sk-hidden--visually\" id=\"sk-estimator-id-20\" type=\"checkbox\" ><label for=\"sk-estimator-id-20\" class=\"sk-toggleable__label sk-toggleable__label-arrow\">estimator: SVC</label><div class=\"sk-toggleable__content\"><pre>SVC()</pre></div></div></div><div class=\"sk-serial\"><div class=\"sk-item\"><div class=\"sk-estimator sk-toggleable\"><input class=\"sk-toggleable__control sk-hidden--visually\" id=\"sk-estimator-id-21\" type=\"checkbox\" ><label for=\"sk-estimator-id-21\" class=\"sk-toggleable__label sk-toggleable__label-arrow\">SVC</label><div class=\"sk-toggleable__content\"><pre>SVC()</pre></div></div></div></div></div></div></div></div></div></div>"
            ]
          },
          "metadata": {},
          "execution_count": 227
        }
      ]
    },
    {
      "cell_type": "code",
      "source": [
        "grid4.best_params_"
      ],
      "metadata": {
        "colab": {
          "base_uri": "https://localhost:8080/"
        },
        "id": "bXN_B89k1VGh",
        "outputId": "15cdefd9-7509-4fff-f6a7-c8bfd1c2750f"
      },
      "execution_count": null,
      "outputs": [
        {
          "output_type": "execute_result",
          "data": {
            "text/plain": [
              "{'C': 1, 'kernel': 'rbf'}"
            ]
          },
          "metadata": {},
          "execution_count": 228
        }
      ]
    },
    {
      "cell_type": "code",
      "source": [
        "grid4.best_score_"
      ],
      "metadata": {
        "colab": {
          "base_uri": "https://localhost:8080/"
        },
        "id": "WbdP30tQDQ9l",
        "outputId": "9bcaa9e3-248f-41b5-fe50-1cd75a992735"
      },
      "execution_count": 235,
      "outputs": [
        {
          "output_type": "execute_result",
          "data": {
            "text/plain": [
              "0.8547499999999999"
            ]
          },
          "metadata": {},
          "execution_count": 235
        }
      ]
    },
    {
      "cell_type": "code",
      "source": [
        "clf8.get_params()"
      ],
      "metadata": {
        "colab": {
          "base_uri": "https://localhost:8080/"
        },
        "id": "PCYHLQhLzIgr",
        "outputId": "f30db859-3f1a-45ee-d855-6cb98c86c0e8"
      },
      "execution_count": null,
      "outputs": [
        {
          "output_type": "execute_result",
          "data": {
            "text/plain": [
              "{'C': 1.0,\n",
              " 'break_ties': False,\n",
              " 'cache_size': 200,\n",
              " 'class_weight': None,\n",
              " 'coef0': 0.0,\n",
              " 'decision_function_shape': 'ovr',\n",
              " 'degree': 3,\n",
              " 'gamma': 'scale',\n",
              " 'kernel': 'rbf',\n",
              " 'max_iter': -1,\n",
              " 'probability': False,\n",
              " 'random_state': None,\n",
              " 'shrinking': True,\n",
              " 'tol': 0.001,\n",
              " 'verbose': False}"
            ]
          },
          "metadata": {},
          "execution_count": 225
        }
      ]
    },
    {
      "cell_type": "markdown",
      "source": [
        "# GridSearchCV with two estimators and Pipeline"
      ],
      "metadata": {
        "id": "OTJhXEn3AH4t"
      }
    },
    {
      "cell_type": "code",
      "source": [
        "from sklearn.pipeline import Pipeline"
      ],
      "metadata": {
        "id": "vlHwjxNBDySL"
      },
      "execution_count": 236,
      "outputs": []
    },
    {
      "cell_type": "code",
      "source": [
        "pipe = Pipeline([('estimator',None)])\n",
        "param_grid =[{'estimator':[Perceptron(random_state = 64)],\n",
        "             'estimator__max_iter':[100,200,300]},\n",
        "\n",
        "             {'estimator':[DecisionTreeClassifier(random_state=64)],\n",
        "              'estimator__criterion':['entropy','gini'],\n",
        "              'estimator__splitter':['random','best'],\n",
        "              'estimator__max_depth':[3,4,5,6,10],\n",
        "              'estimator__min_samples_leaf':[4,6,8,10]}]\n",
        "grid5 = GridSearchCV(pipe,param_grid,cv=4,scoring='accuracy')"
      ],
      "metadata": {
        "id": "R-PBELQkD6tV"
      },
      "execution_count": 246,
      "outputs": []
    },
    {
      "cell_type": "code",
      "source": [
        "grid5.fit(X_train,y_train)"
      ],
      "metadata": {
        "colab": {
          "base_uri": "https://localhost:8080/",
          "height": 118
        },
        "id": "FwIIwrYuG7t_",
        "outputId": "f0ba4d55-bf4a-40de-f1a9-f7c1a45cbf99"
      },
      "execution_count": 247,
      "outputs": [
        {
          "output_type": "execute_result",
          "data": {
            "text/plain": [
              "GridSearchCV(cv=4, estimator=Pipeline(steps=[('estimator', None)]),\n",
              "             param_grid=[{'estimator': [Perceptron(random_state=64)],\n",
              "                          'estimator__max_iter': [100, 200, 300]},\n",
              "                         {'estimator': [DecisionTreeClassifier(criterion='entropy',\n",
              "                                                               max_depth=10,\n",
              "                                                               min_samples_leaf=10,\n",
              "                                                               random_state=64)],\n",
              "                          'estimator__criterion': ['entropy', 'gini'],\n",
              "                          'estimator__max_depth': [3, 4, 5, 6, 10],\n",
              "                          'estimator__min_samples_leaf': [4, 6, 8, 10],\n",
              "                          'estimator__splitter': ['random', 'best']}],\n",
              "             scoring='accuracy')"
            ],
            "text/html": [
              "<style>#sk-container-id-12 {color: black;background-color: white;}#sk-container-id-12 pre{padding: 0;}#sk-container-id-12 div.sk-toggleable {background-color: white;}#sk-container-id-12 label.sk-toggleable__label {cursor: pointer;display: block;width: 100%;margin-bottom: 0;padding: 0.3em;box-sizing: border-box;text-align: center;}#sk-container-id-12 label.sk-toggleable__label-arrow:before {content: \"▸\";float: left;margin-right: 0.25em;color: #696969;}#sk-container-id-12 label.sk-toggleable__label-arrow:hover:before {color: black;}#sk-container-id-12 div.sk-estimator:hover label.sk-toggleable__label-arrow:before {color: black;}#sk-container-id-12 div.sk-toggleable__content {max-height: 0;max-width: 0;overflow: hidden;text-align: left;background-color: #f0f8ff;}#sk-container-id-12 div.sk-toggleable__content pre {margin: 0.2em;color: black;border-radius: 0.25em;background-color: #f0f8ff;}#sk-container-id-12 input.sk-toggleable__control:checked~div.sk-toggleable__content {max-height: 200px;max-width: 100%;overflow: auto;}#sk-container-id-12 input.sk-toggleable__control:checked~label.sk-toggleable__label-arrow:before {content: \"▾\";}#sk-container-id-12 div.sk-estimator input.sk-toggleable__control:checked~label.sk-toggleable__label {background-color: #d4ebff;}#sk-container-id-12 div.sk-label input.sk-toggleable__control:checked~label.sk-toggleable__label {background-color: #d4ebff;}#sk-container-id-12 input.sk-hidden--visually {border: 0;clip: rect(1px 1px 1px 1px);clip: rect(1px, 1px, 1px, 1px);height: 1px;margin: -1px;overflow: hidden;padding: 0;position: absolute;width: 1px;}#sk-container-id-12 div.sk-estimator {font-family: monospace;background-color: #f0f8ff;border: 1px dotted black;border-radius: 0.25em;box-sizing: border-box;margin-bottom: 0.5em;}#sk-container-id-12 div.sk-estimator:hover {background-color: #d4ebff;}#sk-container-id-12 div.sk-parallel-item::after {content: \"\";width: 100%;border-bottom: 1px solid gray;flex-grow: 1;}#sk-container-id-12 div.sk-label:hover label.sk-toggleable__label {background-color: #d4ebff;}#sk-container-id-12 div.sk-serial::before {content: \"\";position: absolute;border-left: 1px solid gray;box-sizing: border-box;top: 0;bottom: 0;left: 50%;z-index: 0;}#sk-container-id-12 div.sk-serial {display: flex;flex-direction: column;align-items: center;background-color: white;padding-right: 0.2em;padding-left: 0.2em;position: relative;}#sk-container-id-12 div.sk-item {position: relative;z-index: 1;}#sk-container-id-12 div.sk-parallel {display: flex;align-items: stretch;justify-content: center;background-color: white;position: relative;}#sk-container-id-12 div.sk-item::before, #sk-container-id-12 div.sk-parallel-item::before {content: \"\";position: absolute;border-left: 1px solid gray;box-sizing: border-box;top: 0;bottom: 0;left: 50%;z-index: -1;}#sk-container-id-12 div.sk-parallel-item {display: flex;flex-direction: column;z-index: 1;position: relative;background-color: white;}#sk-container-id-12 div.sk-parallel-item:first-child::after {align-self: flex-end;width: 50%;}#sk-container-id-12 div.sk-parallel-item:last-child::after {align-self: flex-start;width: 50%;}#sk-container-id-12 div.sk-parallel-item:only-child::after {width: 0;}#sk-container-id-12 div.sk-dashed-wrapped {border: 1px dashed gray;margin: 0 0.4em 0.5em 0.4em;box-sizing: border-box;padding-bottom: 0.4em;background-color: white;}#sk-container-id-12 div.sk-label label {font-family: monospace;font-weight: bold;display: inline-block;line-height: 1.2em;}#sk-container-id-12 div.sk-label-container {text-align: center;}#sk-container-id-12 div.sk-container {/* jupyter's `normalize.less` sets `[hidden] { display: none; }` but bootstrap.min.css set `[hidden] { display: none !important; }` so we also need the `!important` here to be able to override the default hidden behavior on the sphinx rendered scikit-learn.org. See: https://github.com/scikit-learn/scikit-learn/issues/21755 */display: inline-block !important;position: relative;}#sk-container-id-12 div.sk-text-repr-fallback {display: none;}</style><div id=\"sk-container-id-12\" class=\"sk-top-container\"><div class=\"sk-text-repr-fallback\"><pre>GridSearchCV(cv=4, estimator=Pipeline(steps=[(&#x27;estimator&#x27;, None)]),\n",
              "             param_grid=[{&#x27;estimator&#x27;: [Perceptron(random_state=64)],\n",
              "                          &#x27;estimator__max_iter&#x27;: [100, 200, 300]},\n",
              "                         {&#x27;estimator&#x27;: [DecisionTreeClassifier(criterion=&#x27;entropy&#x27;,\n",
              "                                                               max_depth=10,\n",
              "                                                               min_samples_leaf=10,\n",
              "                                                               random_state=64)],\n",
              "                          &#x27;estimator__criterion&#x27;: [&#x27;entropy&#x27;, &#x27;gini&#x27;],\n",
              "                          &#x27;estimator__max_depth&#x27;: [3, 4, 5, 6, 10],\n",
              "                          &#x27;estimator__min_samples_leaf&#x27;: [4, 6, 8, 10],\n",
              "                          &#x27;estimator__splitter&#x27;: [&#x27;random&#x27;, &#x27;best&#x27;]}],\n",
              "             scoring=&#x27;accuracy&#x27;)</pre><b>In a Jupyter environment, please rerun this cell to show the HTML representation or trust the notebook. <br />On GitHub, the HTML representation is unable to render, please try loading this page with nbviewer.org.</b></div><div class=\"sk-container\" hidden><div class=\"sk-item sk-dashed-wrapped\"><div class=\"sk-label-container\"><div class=\"sk-label sk-toggleable\"><input class=\"sk-toggleable__control sk-hidden--visually\" id=\"sk-estimator-id-22\" type=\"checkbox\" ><label for=\"sk-estimator-id-22\" class=\"sk-toggleable__label sk-toggleable__label-arrow\">GridSearchCV</label><div class=\"sk-toggleable__content\"><pre>GridSearchCV(cv=4, estimator=Pipeline(steps=[(&#x27;estimator&#x27;, None)]),\n",
              "             param_grid=[{&#x27;estimator&#x27;: [Perceptron(random_state=64)],\n",
              "                          &#x27;estimator__max_iter&#x27;: [100, 200, 300]},\n",
              "                         {&#x27;estimator&#x27;: [DecisionTreeClassifier(criterion=&#x27;entropy&#x27;,\n",
              "                                                               max_depth=10,\n",
              "                                                               min_samples_leaf=10,\n",
              "                                                               random_state=64)],\n",
              "                          &#x27;estimator__criterion&#x27;: [&#x27;entropy&#x27;, &#x27;gini&#x27;],\n",
              "                          &#x27;estimator__max_depth&#x27;: [3, 4, 5, 6, 10],\n",
              "                          &#x27;estimator__min_samples_leaf&#x27;: [4, 6, 8, 10],\n",
              "                          &#x27;estimator__splitter&#x27;: [&#x27;random&#x27;, &#x27;best&#x27;]}],\n",
              "             scoring=&#x27;accuracy&#x27;)</pre></div></div></div><div class=\"sk-parallel\"><div class=\"sk-parallel-item\"><div class=\"sk-item\"><div class=\"sk-label-container\"><div class=\"sk-label sk-toggleable\"><input class=\"sk-toggleable__control sk-hidden--visually\" id=\"sk-estimator-id-23\" type=\"checkbox\" ><label for=\"sk-estimator-id-23\" class=\"sk-toggleable__label sk-toggleable__label-arrow\">estimator: Pipeline</label><div class=\"sk-toggleable__content\"><pre>Pipeline(steps=[(&#x27;estimator&#x27;, None)])</pre></div></div></div><div class=\"sk-serial\"><div class=\"sk-item\"><div class=\"sk-serial\"><div class=\"sk-item\"><div class=\"sk-estimator sk-toggleable\"><input class=\"sk-toggleable__control sk-hidden--visually\" id=\"sk-estimator-id-24\" type=\"checkbox\" ><label for=\"sk-estimator-id-24\" class=\"sk-toggleable__label sk-toggleable__label-arrow\">None</label><div class=\"sk-toggleable__content\"><pre>None</pre></div></div></div></div></div></div></div></div></div></div></div></div>"
            ]
          },
          "metadata": {},
          "execution_count": 247
        }
      ]
    },
    {
      "cell_type": "code",
      "source": [
        "best_params= grid5.best_params_"
      ],
      "metadata": {
        "id": "b8gPkdw6H63L"
      },
      "execution_count": 255,
      "outputs": []
    },
    {
      "cell_type": "code",
      "source": [
        "grid5.best_score_"
      ],
      "metadata": {
        "colab": {
          "base_uri": "https://localhost:8080/"
        },
        "id": "k_PwqQiEIEHE",
        "outputId": "f7e0012a-2100-4e35-d8ba-f819354189ab"
      },
      "execution_count": 249,
      "outputs": [
        {
          "output_type": "execute_result",
          "data": {
            "text/plain": [
              "0.8543749999999999"
            ]
          },
          "metadata": {},
          "execution_count": 249
        }
      ]
    },
    {
      "cell_type": "code",
      "source": [
        "grid5.best_estimator_"
      ],
      "metadata": {
        "colab": {
          "base_uri": "https://localhost:8080/",
          "height": 92
        },
        "id": "iVrI7yGAIMp3",
        "outputId": "2501e0f4-413c-464e-86b1-eb97180c8be0"
      },
      "execution_count": 250,
      "outputs": [
        {
          "output_type": "execute_result",
          "data": {
            "text/plain": [
              "Pipeline(steps=[('estimator',\n",
              "                 DecisionTreeClassifier(criterion='entropy', max_depth=10,\n",
              "                                        min_samples_leaf=10,\n",
              "                                        random_state=64))])"
            ],
            "text/html": [
              "<style>#sk-container-id-13 {color: black;background-color: white;}#sk-container-id-13 pre{padding: 0;}#sk-container-id-13 div.sk-toggleable {background-color: white;}#sk-container-id-13 label.sk-toggleable__label {cursor: pointer;display: block;width: 100%;margin-bottom: 0;padding: 0.3em;box-sizing: border-box;text-align: center;}#sk-container-id-13 label.sk-toggleable__label-arrow:before {content: \"▸\";float: left;margin-right: 0.25em;color: #696969;}#sk-container-id-13 label.sk-toggleable__label-arrow:hover:before {color: black;}#sk-container-id-13 div.sk-estimator:hover label.sk-toggleable__label-arrow:before {color: black;}#sk-container-id-13 div.sk-toggleable__content {max-height: 0;max-width: 0;overflow: hidden;text-align: left;background-color: #f0f8ff;}#sk-container-id-13 div.sk-toggleable__content pre {margin: 0.2em;color: black;border-radius: 0.25em;background-color: #f0f8ff;}#sk-container-id-13 input.sk-toggleable__control:checked~div.sk-toggleable__content {max-height: 200px;max-width: 100%;overflow: auto;}#sk-container-id-13 input.sk-toggleable__control:checked~label.sk-toggleable__label-arrow:before {content: \"▾\";}#sk-container-id-13 div.sk-estimator input.sk-toggleable__control:checked~label.sk-toggleable__label {background-color: #d4ebff;}#sk-container-id-13 div.sk-label input.sk-toggleable__control:checked~label.sk-toggleable__label {background-color: #d4ebff;}#sk-container-id-13 input.sk-hidden--visually {border: 0;clip: rect(1px 1px 1px 1px);clip: rect(1px, 1px, 1px, 1px);height: 1px;margin: -1px;overflow: hidden;padding: 0;position: absolute;width: 1px;}#sk-container-id-13 div.sk-estimator {font-family: monospace;background-color: #f0f8ff;border: 1px dotted black;border-radius: 0.25em;box-sizing: border-box;margin-bottom: 0.5em;}#sk-container-id-13 div.sk-estimator:hover {background-color: #d4ebff;}#sk-container-id-13 div.sk-parallel-item::after {content: \"\";width: 100%;border-bottom: 1px solid gray;flex-grow: 1;}#sk-container-id-13 div.sk-label:hover label.sk-toggleable__label {background-color: #d4ebff;}#sk-container-id-13 div.sk-serial::before {content: \"\";position: absolute;border-left: 1px solid gray;box-sizing: border-box;top: 0;bottom: 0;left: 50%;z-index: 0;}#sk-container-id-13 div.sk-serial {display: flex;flex-direction: column;align-items: center;background-color: white;padding-right: 0.2em;padding-left: 0.2em;position: relative;}#sk-container-id-13 div.sk-item {position: relative;z-index: 1;}#sk-container-id-13 div.sk-parallel {display: flex;align-items: stretch;justify-content: center;background-color: white;position: relative;}#sk-container-id-13 div.sk-item::before, #sk-container-id-13 div.sk-parallel-item::before {content: \"\";position: absolute;border-left: 1px solid gray;box-sizing: border-box;top: 0;bottom: 0;left: 50%;z-index: -1;}#sk-container-id-13 div.sk-parallel-item {display: flex;flex-direction: column;z-index: 1;position: relative;background-color: white;}#sk-container-id-13 div.sk-parallel-item:first-child::after {align-self: flex-end;width: 50%;}#sk-container-id-13 div.sk-parallel-item:last-child::after {align-self: flex-start;width: 50%;}#sk-container-id-13 div.sk-parallel-item:only-child::after {width: 0;}#sk-container-id-13 div.sk-dashed-wrapped {border: 1px dashed gray;margin: 0 0.4em 0.5em 0.4em;box-sizing: border-box;padding-bottom: 0.4em;background-color: white;}#sk-container-id-13 div.sk-label label {font-family: monospace;font-weight: bold;display: inline-block;line-height: 1.2em;}#sk-container-id-13 div.sk-label-container {text-align: center;}#sk-container-id-13 div.sk-container {/* jupyter's `normalize.less` sets `[hidden] { display: none; }` but bootstrap.min.css set `[hidden] { display: none !important; }` so we also need the `!important` here to be able to override the default hidden behavior on the sphinx rendered scikit-learn.org. See: https://github.com/scikit-learn/scikit-learn/issues/21755 */display: inline-block !important;position: relative;}#sk-container-id-13 div.sk-text-repr-fallback {display: none;}</style><div id=\"sk-container-id-13\" class=\"sk-top-container\"><div class=\"sk-text-repr-fallback\"><pre>Pipeline(steps=[(&#x27;estimator&#x27;,\n",
              "                 DecisionTreeClassifier(criterion=&#x27;entropy&#x27;, max_depth=10,\n",
              "                                        min_samples_leaf=10,\n",
              "                                        random_state=64))])</pre><b>In a Jupyter environment, please rerun this cell to show the HTML representation or trust the notebook. <br />On GitHub, the HTML representation is unable to render, please try loading this page with nbviewer.org.</b></div><div class=\"sk-container\" hidden><div class=\"sk-item sk-dashed-wrapped\"><div class=\"sk-label-container\"><div class=\"sk-label sk-toggleable\"><input class=\"sk-toggleable__control sk-hidden--visually\" id=\"sk-estimator-id-25\" type=\"checkbox\" ><label for=\"sk-estimator-id-25\" class=\"sk-toggleable__label sk-toggleable__label-arrow\">Pipeline</label><div class=\"sk-toggleable__content\"><pre>Pipeline(steps=[(&#x27;estimator&#x27;,\n",
              "                 DecisionTreeClassifier(criterion=&#x27;entropy&#x27;, max_depth=10,\n",
              "                                        min_samples_leaf=10,\n",
              "                                        random_state=64))])</pre></div></div></div><div class=\"sk-serial\"><div class=\"sk-item\"><div class=\"sk-estimator sk-toggleable\"><input class=\"sk-toggleable__control sk-hidden--visually\" id=\"sk-estimator-id-26\" type=\"checkbox\" ><label for=\"sk-estimator-id-26\" class=\"sk-toggleable__label sk-toggleable__label-arrow\">DecisionTreeClassifier</label><div class=\"sk-toggleable__content\"><pre>DecisionTreeClassifier(criterion=&#x27;entropy&#x27;, max_depth=10, min_samples_leaf=10,\n",
              "                       random_state=64)</pre></div></div></div></div></div></div></div>"
            ]
          },
          "metadata": {},
          "execution_count": 250
        }
      ]
    },
    {
      "cell_type": "code",
      "source": [
        "all_results =grid5.cv_results_\n",
        "# Iterate through all tested parameter combinations\n",
        "for i in range(len(all_results['params'])):\n",
        "    params = all_results['params'][i]\n",
        "    mean_test_score = all_results['mean_test_score'][i]\n",
        "\n",
        "    # Print or use the parameters and the mean test score\n",
        "    print(f\"Parameters: {params}, Mean Test Score: {mean_test_score}\")"
      ],
      "metadata": {
        "colab": {
          "base_uri": "https://localhost:8080/"
        },
        "id": "uNaXC5zBI29X",
        "outputId": "f93d84c1-1069-43e5-b881-6bc2052caffa"
      },
      "execution_count": 252,
      "outputs": [
        {
          "output_type": "stream",
          "name": "stdout",
          "text": [
            "Parameters: {'estimator': Perceptron(random_state=64), 'estimator__max_iter': 100}, Mean Test Score: 0.810875\n",
            "Parameters: {'estimator': Perceptron(random_state=64), 'estimator__max_iter': 200}, Mean Test Score: 0.810875\n",
            "Parameters: {'estimator': Perceptron(random_state=64), 'estimator__max_iter': 300}, Mean Test Score: 0.810875\n",
            "Parameters: {'estimator': DecisionTreeClassifier(criterion='entropy', max_depth=10, min_samples_leaf=10,\n",
            "                       random_state=64), 'estimator__criterion': 'entropy', 'estimator__max_depth': 3, 'estimator__min_samples_leaf': 4, 'estimator__splitter': 'random'}, Mean Test Score: 0.8175625\n",
            "Parameters: {'estimator': DecisionTreeClassifier(criterion='entropy', max_depth=10, min_samples_leaf=10,\n",
            "                       random_state=64), 'estimator__criterion': 'entropy', 'estimator__max_depth': 3, 'estimator__min_samples_leaf': 4, 'estimator__splitter': 'best'}, Mean Test Score: 0.8436875\n",
            "Parameters: {'estimator': DecisionTreeClassifier(criterion='entropy', max_depth=10, min_samples_leaf=10,\n",
            "                       random_state=64), 'estimator__criterion': 'entropy', 'estimator__max_depth': 3, 'estimator__min_samples_leaf': 6, 'estimator__splitter': 'random'}, Mean Test Score: 0.8175625\n",
            "Parameters: {'estimator': DecisionTreeClassifier(criterion='entropy', max_depth=10, min_samples_leaf=10,\n",
            "                       random_state=64), 'estimator__criterion': 'entropy', 'estimator__max_depth': 3, 'estimator__min_samples_leaf': 6, 'estimator__splitter': 'best'}, Mean Test Score: 0.8436875\n",
            "Parameters: {'estimator': DecisionTreeClassifier(criterion='entropy', max_depth=10, min_samples_leaf=10,\n",
            "                       random_state=64), 'estimator__criterion': 'entropy', 'estimator__max_depth': 3, 'estimator__min_samples_leaf': 8, 'estimator__splitter': 'random'}, Mean Test Score: 0.8175625\n",
            "Parameters: {'estimator': DecisionTreeClassifier(criterion='entropy', max_depth=10, min_samples_leaf=10,\n",
            "                       random_state=64), 'estimator__criterion': 'entropy', 'estimator__max_depth': 3, 'estimator__min_samples_leaf': 8, 'estimator__splitter': 'best'}, Mean Test Score: 0.8436875\n",
            "Parameters: {'estimator': DecisionTreeClassifier(criterion='entropy', max_depth=10, min_samples_leaf=10,\n",
            "                       random_state=64), 'estimator__criterion': 'entropy', 'estimator__max_depth': 3, 'estimator__min_samples_leaf': 10, 'estimator__splitter': 'random'}, Mean Test Score: 0.8175625\n",
            "Parameters: {'estimator': DecisionTreeClassifier(criterion='entropy', max_depth=10, min_samples_leaf=10,\n",
            "                       random_state=64), 'estimator__criterion': 'entropy', 'estimator__max_depth': 3, 'estimator__min_samples_leaf': 10, 'estimator__splitter': 'best'}, Mean Test Score: 0.8436875\n",
            "Parameters: {'estimator': DecisionTreeClassifier(criterion='entropy', max_depth=10, min_samples_leaf=10,\n",
            "                       random_state=64), 'estimator__criterion': 'entropy', 'estimator__max_depth': 4, 'estimator__min_samples_leaf': 4, 'estimator__splitter': 'random'}, Mean Test Score: 0.82625\n",
            "Parameters: {'estimator': DecisionTreeClassifier(criterion='entropy', max_depth=10, min_samples_leaf=10,\n",
            "                       random_state=64), 'estimator__criterion': 'entropy', 'estimator__max_depth': 4, 'estimator__min_samples_leaf': 4, 'estimator__splitter': 'best'}, Mean Test Score: 0.8434999999999999\n",
            "Parameters: {'estimator': DecisionTreeClassifier(criterion='entropy', max_depth=10, min_samples_leaf=10,\n",
            "                       random_state=64), 'estimator__criterion': 'entropy', 'estimator__max_depth': 4, 'estimator__min_samples_leaf': 6, 'estimator__splitter': 'random'}, Mean Test Score: 0.82625\n",
            "Parameters: {'estimator': DecisionTreeClassifier(criterion='entropy', max_depth=10, min_samples_leaf=10,\n",
            "                       random_state=64), 'estimator__criterion': 'entropy', 'estimator__max_depth': 4, 'estimator__min_samples_leaf': 6, 'estimator__splitter': 'best'}, Mean Test Score: 0.843375\n",
            "Parameters: {'estimator': DecisionTreeClassifier(criterion='entropy', max_depth=10, min_samples_leaf=10,\n",
            "                       random_state=64), 'estimator__criterion': 'entropy', 'estimator__max_depth': 4, 'estimator__min_samples_leaf': 8, 'estimator__splitter': 'random'}, Mean Test Score: 0.8259374999999999\n",
            "Parameters: {'estimator': DecisionTreeClassifier(criterion='entropy', max_depth=10, min_samples_leaf=10,\n",
            "                       random_state=64), 'estimator__criterion': 'entropy', 'estimator__max_depth': 4, 'estimator__min_samples_leaf': 8, 'estimator__splitter': 'best'}, Mean Test Score: 0.8436875\n",
            "Parameters: {'estimator': DecisionTreeClassifier(criterion='entropy', max_depth=10, min_samples_leaf=10,\n",
            "                       random_state=64), 'estimator__criterion': 'entropy', 'estimator__max_depth': 4, 'estimator__min_samples_leaf': 10, 'estimator__splitter': 'random'}, Mean Test Score: 0.8259374999999999\n",
            "Parameters: {'estimator': DecisionTreeClassifier(criterion='entropy', max_depth=10, min_samples_leaf=10,\n",
            "                       random_state=64), 'estimator__criterion': 'entropy', 'estimator__max_depth': 4, 'estimator__min_samples_leaf': 10, 'estimator__splitter': 'best'}, Mean Test Score: 0.8436875\n",
            "Parameters: {'estimator': DecisionTreeClassifier(criterion='entropy', max_depth=10, min_samples_leaf=10,\n",
            "                       random_state=64), 'estimator__criterion': 'entropy', 'estimator__max_depth': 5, 'estimator__min_samples_leaf': 4, 'estimator__splitter': 'random'}, Mean Test Score: 0.8265624999999999\n",
            "Parameters: {'estimator': DecisionTreeClassifier(criterion='entropy', max_depth=10, min_samples_leaf=10,\n",
            "                       random_state=64), 'estimator__criterion': 'entropy', 'estimator__max_depth': 5, 'estimator__min_samples_leaf': 4, 'estimator__splitter': 'best'}, Mean Test Score: 0.8475625\n",
            "Parameters: {'estimator': DecisionTreeClassifier(criterion='entropy', max_depth=10, min_samples_leaf=10,\n",
            "                       random_state=64), 'estimator__criterion': 'entropy', 'estimator__max_depth': 5, 'estimator__min_samples_leaf': 6, 'estimator__splitter': 'random'}, Mean Test Score: 0.8265625000000001\n",
            "Parameters: {'estimator': DecisionTreeClassifier(criterion='entropy', max_depth=10, min_samples_leaf=10,\n",
            "                       random_state=64), 'estimator__criterion': 'entropy', 'estimator__max_depth': 5, 'estimator__min_samples_leaf': 6, 'estimator__splitter': 'best'}, Mean Test Score: 0.847875\n",
            "Parameters: {'estimator': DecisionTreeClassifier(criterion='entropy', max_depth=10, min_samples_leaf=10,\n",
            "                       random_state=64), 'estimator__criterion': 'entropy', 'estimator__max_depth': 5, 'estimator__min_samples_leaf': 8, 'estimator__splitter': 'random'}, Mean Test Score: 0.8260625\n",
            "Parameters: {'estimator': DecisionTreeClassifier(criterion='entropy', max_depth=10, min_samples_leaf=10,\n",
            "                       random_state=64), 'estimator__criterion': 'entropy', 'estimator__max_depth': 5, 'estimator__min_samples_leaf': 8, 'estimator__splitter': 'best'}, Mean Test Score: 0.848125\n",
            "Parameters: {'estimator': DecisionTreeClassifier(criterion='entropy', max_depth=10, min_samples_leaf=10,\n",
            "                       random_state=64), 'estimator__criterion': 'entropy', 'estimator__max_depth': 5, 'estimator__min_samples_leaf': 10, 'estimator__splitter': 'random'}, Mean Test Score: 0.826875\n",
            "Parameters: {'estimator': DecisionTreeClassifier(criterion='entropy', max_depth=10, min_samples_leaf=10,\n",
            "                       random_state=64), 'estimator__criterion': 'entropy', 'estimator__max_depth': 5, 'estimator__min_samples_leaf': 10, 'estimator__splitter': 'best'}, Mean Test Score: 0.8480625\n",
            "Parameters: {'estimator': DecisionTreeClassifier(criterion='entropy', max_depth=10, min_samples_leaf=10,\n",
            "                       random_state=64), 'estimator__criterion': 'entropy', 'estimator__max_depth': 6, 'estimator__min_samples_leaf': 4, 'estimator__splitter': 'random'}, Mean Test Score: 0.8315\n",
            "Parameters: {'estimator': DecisionTreeClassifier(criterion='entropy', max_depth=10, min_samples_leaf=10,\n",
            "                       random_state=64), 'estimator__criterion': 'entropy', 'estimator__max_depth': 6, 'estimator__min_samples_leaf': 4, 'estimator__splitter': 'best'}, Mean Test Score: 0.85325\n",
            "Parameters: {'estimator': DecisionTreeClassifier(criterion='entropy', max_depth=10, min_samples_leaf=10,\n",
            "                       random_state=64), 'estimator__criterion': 'entropy', 'estimator__max_depth': 6, 'estimator__min_samples_leaf': 6, 'estimator__splitter': 'random'}, Mean Test Score: 0.8306250000000001\n",
            "Parameters: {'estimator': DecisionTreeClassifier(criterion='entropy', max_depth=10, min_samples_leaf=10,\n",
            "                       random_state=64), 'estimator__criterion': 'entropy', 'estimator__max_depth': 6, 'estimator__min_samples_leaf': 6, 'estimator__splitter': 'best'}, Mean Test Score: 0.8531249999999999\n",
            "Parameters: {'estimator': DecisionTreeClassifier(criterion='entropy', max_depth=10, min_samples_leaf=10,\n",
            "                       random_state=64), 'estimator__criterion': 'entropy', 'estimator__max_depth': 6, 'estimator__min_samples_leaf': 8, 'estimator__splitter': 'random'}, Mean Test Score: 0.8335\n",
            "Parameters: {'estimator': DecisionTreeClassifier(criterion='entropy', max_depth=10, min_samples_leaf=10,\n",
            "                       random_state=64), 'estimator__criterion': 'entropy', 'estimator__max_depth': 6, 'estimator__min_samples_leaf': 8, 'estimator__splitter': 'best'}, Mean Test Score: 0.853\n",
            "Parameters: {'estimator': DecisionTreeClassifier(criterion='entropy', max_depth=10, min_samples_leaf=10,\n",
            "                       random_state=64), 'estimator__criterion': 'entropy', 'estimator__max_depth': 6, 'estimator__min_samples_leaf': 10, 'estimator__splitter': 'random'}, Mean Test Score: 0.8295625\n",
            "Parameters: {'estimator': DecisionTreeClassifier(criterion='entropy', max_depth=10, min_samples_leaf=10,\n",
            "                       random_state=64), 'estimator__criterion': 'entropy', 'estimator__max_depth': 6, 'estimator__min_samples_leaf': 10, 'estimator__splitter': 'best'}, Mean Test Score: 0.852625\n",
            "Parameters: {'estimator': DecisionTreeClassifier(criterion='entropy', max_depth=10, min_samples_leaf=10,\n",
            "                       random_state=64), 'estimator__criterion': 'entropy', 'estimator__max_depth': 10, 'estimator__min_samples_leaf': 4, 'estimator__splitter': 'random'}, Mean Test Score: 0.8380625\n",
            "Parameters: {'estimator': DecisionTreeClassifier(criterion='entropy', max_depth=10, min_samples_leaf=10,\n",
            "                       random_state=64), 'estimator__criterion': 'entropy', 'estimator__max_depth': 10, 'estimator__min_samples_leaf': 4, 'estimator__splitter': 'best'}, Mean Test Score: 0.852\n",
            "Parameters: {'estimator': DecisionTreeClassifier(criterion='entropy', max_depth=10, min_samples_leaf=10,\n",
            "                       random_state=64), 'estimator__criterion': 'entropy', 'estimator__max_depth': 10, 'estimator__min_samples_leaf': 6, 'estimator__splitter': 'random'}, Mean Test Score: 0.8415625\n",
            "Parameters: {'estimator': DecisionTreeClassifier(criterion='entropy', max_depth=10, min_samples_leaf=10,\n",
            "                       random_state=64), 'estimator__criterion': 'entropy', 'estimator__max_depth': 10, 'estimator__min_samples_leaf': 6, 'estimator__splitter': 'best'}, Mean Test Score: 0.8524375\n",
            "Parameters: {'estimator': DecisionTreeClassifier(criterion='entropy', max_depth=10, min_samples_leaf=10,\n",
            "                       random_state=64), 'estimator__criterion': 'entropy', 'estimator__max_depth': 10, 'estimator__min_samples_leaf': 8, 'estimator__splitter': 'random'}, Mean Test Score: 0.8369375\n",
            "Parameters: {'estimator': DecisionTreeClassifier(criterion='entropy', max_depth=10, min_samples_leaf=10,\n",
            "                       random_state=64), 'estimator__criterion': 'entropy', 'estimator__max_depth': 10, 'estimator__min_samples_leaf': 8, 'estimator__splitter': 'best'}, Mean Test Score: 0.8538125\n",
            "Parameters: {'estimator': DecisionTreeClassifier(criterion='entropy', max_depth=10, min_samples_leaf=10,\n",
            "                       random_state=64), 'estimator__criterion': 'entropy', 'estimator__max_depth': 10, 'estimator__min_samples_leaf': 10, 'estimator__splitter': 'random'}, Mean Test Score: 0.8383125\n",
            "Parameters: {'estimator': DecisionTreeClassifier(criterion='entropy', max_depth=10, min_samples_leaf=10,\n",
            "                       random_state=64), 'estimator__criterion': 'entropy', 'estimator__max_depth': 10, 'estimator__min_samples_leaf': 10, 'estimator__splitter': 'best'}, Mean Test Score: 0.8543749999999999\n",
            "Parameters: {'estimator': DecisionTreeClassifier(criterion='entropy', max_depth=10, min_samples_leaf=10,\n",
            "                       random_state=64), 'estimator__criterion': 'gini', 'estimator__max_depth': 3, 'estimator__min_samples_leaf': 4, 'estimator__splitter': 'random'}, Mean Test Score: 0.8176874999999999\n",
            "Parameters: {'estimator': DecisionTreeClassifier(criterion='entropy', max_depth=10, min_samples_leaf=10,\n",
            "                       random_state=64), 'estimator__criterion': 'gini', 'estimator__max_depth': 3, 'estimator__min_samples_leaf': 4, 'estimator__splitter': 'best'}, Mean Test Score: 0.843125\n",
            "Parameters: {'estimator': DecisionTreeClassifier(criterion='entropy', max_depth=10, min_samples_leaf=10,\n",
            "                       random_state=64), 'estimator__criterion': 'gini', 'estimator__max_depth': 3, 'estimator__min_samples_leaf': 6, 'estimator__splitter': 'random'}, Mean Test Score: 0.8176874999999999\n",
            "Parameters: {'estimator': DecisionTreeClassifier(criterion='entropy', max_depth=10, min_samples_leaf=10,\n",
            "                       random_state=64), 'estimator__criterion': 'gini', 'estimator__max_depth': 3, 'estimator__min_samples_leaf': 6, 'estimator__splitter': 'best'}, Mean Test Score: 0.843375\n",
            "Parameters: {'estimator': DecisionTreeClassifier(criterion='entropy', max_depth=10, min_samples_leaf=10,\n",
            "                       random_state=64), 'estimator__criterion': 'gini', 'estimator__max_depth': 3, 'estimator__min_samples_leaf': 8, 'estimator__splitter': 'random'}, Mean Test Score: 0.8176874999999999\n",
            "Parameters: {'estimator': DecisionTreeClassifier(criterion='entropy', max_depth=10, min_samples_leaf=10,\n",
            "                       random_state=64), 'estimator__criterion': 'gini', 'estimator__max_depth': 3, 'estimator__min_samples_leaf': 8, 'estimator__splitter': 'best'}, Mean Test Score: 0.843375\n",
            "Parameters: {'estimator': DecisionTreeClassifier(criterion='entropy', max_depth=10, min_samples_leaf=10,\n",
            "                       random_state=64), 'estimator__criterion': 'gini', 'estimator__max_depth': 3, 'estimator__min_samples_leaf': 10, 'estimator__splitter': 'random'}, Mean Test Score: 0.8176874999999999\n",
            "Parameters: {'estimator': DecisionTreeClassifier(criterion='entropy', max_depth=10, min_samples_leaf=10,\n",
            "                       random_state=64), 'estimator__criterion': 'gini', 'estimator__max_depth': 3, 'estimator__min_samples_leaf': 10, 'estimator__splitter': 'best'}, Mean Test Score: 0.843375\n",
            "Parameters: {'estimator': DecisionTreeClassifier(criterion='entropy', max_depth=10, min_samples_leaf=10,\n",
            "                       random_state=64), 'estimator__criterion': 'gini', 'estimator__max_depth': 4, 'estimator__min_samples_leaf': 4, 'estimator__splitter': 'random'}, Mean Test Score: 0.825375\n",
            "Parameters: {'estimator': DecisionTreeClassifier(criterion='entropy', max_depth=10, min_samples_leaf=10,\n",
            "                       random_state=64), 'estimator__criterion': 'gini', 'estimator__max_depth': 4, 'estimator__min_samples_leaf': 4, 'estimator__splitter': 'best'}, Mean Test Score: 0.8446249999999998\n",
            "Parameters: {'estimator': DecisionTreeClassifier(criterion='entropy', max_depth=10, min_samples_leaf=10,\n",
            "                       random_state=64), 'estimator__criterion': 'gini', 'estimator__max_depth': 4, 'estimator__min_samples_leaf': 6, 'estimator__splitter': 'random'}, Mean Test Score: 0.825625\n",
            "Parameters: {'estimator': DecisionTreeClassifier(criterion='entropy', max_depth=10, min_samples_leaf=10,\n",
            "                       random_state=64), 'estimator__criterion': 'gini', 'estimator__max_depth': 4, 'estimator__min_samples_leaf': 6, 'estimator__splitter': 'best'}, Mean Test Score: 0.8446249999999998\n",
            "Parameters: {'estimator': DecisionTreeClassifier(criterion='entropy', max_depth=10, min_samples_leaf=10,\n",
            "                       random_state=64), 'estimator__criterion': 'gini', 'estimator__max_depth': 4, 'estimator__min_samples_leaf': 8, 'estimator__splitter': 'random'}, Mean Test Score: 0.8255\n",
            "Parameters: {'estimator': DecisionTreeClassifier(criterion='entropy', max_depth=10, min_samples_leaf=10,\n",
            "                       random_state=64), 'estimator__criterion': 'gini', 'estimator__max_depth': 4, 'estimator__min_samples_leaf': 8, 'estimator__splitter': 'best'}, Mean Test Score: 0.8448749999999998\n",
            "Parameters: {'estimator': DecisionTreeClassifier(criterion='entropy', max_depth=10, min_samples_leaf=10,\n",
            "                       random_state=64), 'estimator__criterion': 'gini', 'estimator__max_depth': 4, 'estimator__min_samples_leaf': 10, 'estimator__splitter': 'random'}, Mean Test Score: 0.8283125\n",
            "Parameters: {'estimator': DecisionTreeClassifier(criterion='entropy', max_depth=10, min_samples_leaf=10,\n",
            "                       random_state=64), 'estimator__criterion': 'gini', 'estimator__max_depth': 4, 'estimator__min_samples_leaf': 10, 'estimator__splitter': 'best'}, Mean Test Score: 0.8446875\n",
            "Parameters: {'estimator': DecisionTreeClassifier(criterion='entropy', max_depth=10, min_samples_leaf=10,\n",
            "                       random_state=64), 'estimator__criterion': 'gini', 'estimator__max_depth': 5, 'estimator__min_samples_leaf': 4, 'estimator__splitter': 'random'}, Mean Test Score: 0.8266875\n",
            "Parameters: {'estimator': DecisionTreeClassifier(criterion='entropy', max_depth=10, min_samples_leaf=10,\n",
            "                       random_state=64), 'estimator__criterion': 'gini', 'estimator__max_depth': 5, 'estimator__min_samples_leaf': 4, 'estimator__splitter': 'best'}, Mean Test Score: 0.85075\n",
            "Parameters: {'estimator': DecisionTreeClassifier(criterion='entropy', max_depth=10, min_samples_leaf=10,\n",
            "                       random_state=64), 'estimator__criterion': 'gini', 'estimator__max_depth': 5, 'estimator__min_samples_leaf': 6, 'estimator__splitter': 'random'}, Mean Test Score: 0.8309375\n",
            "Parameters: {'estimator': DecisionTreeClassifier(criterion='entropy', max_depth=10, min_samples_leaf=10,\n",
            "                       random_state=64), 'estimator__criterion': 'gini', 'estimator__max_depth': 5, 'estimator__min_samples_leaf': 6, 'estimator__splitter': 'best'}, Mean Test Score: 0.851\n",
            "Parameters: {'estimator': DecisionTreeClassifier(criterion='entropy', max_depth=10, min_samples_leaf=10,\n",
            "                       random_state=64), 'estimator__criterion': 'gini', 'estimator__max_depth': 5, 'estimator__min_samples_leaf': 8, 'estimator__splitter': 'random'}, Mean Test Score: 0.8284999999999999\n",
            "Parameters: {'estimator': DecisionTreeClassifier(criterion='entropy', max_depth=10, min_samples_leaf=10,\n",
            "                       random_state=64), 'estimator__criterion': 'gini', 'estimator__max_depth': 5, 'estimator__min_samples_leaf': 8, 'estimator__splitter': 'best'}, Mean Test Score: 0.8513124999999999\n",
            "Parameters: {'estimator': DecisionTreeClassifier(criterion='entropy', max_depth=10, min_samples_leaf=10,\n",
            "                       random_state=64), 'estimator__criterion': 'gini', 'estimator__max_depth': 5, 'estimator__min_samples_leaf': 10, 'estimator__splitter': 'random'}, Mean Test Score: 0.82775\n",
            "Parameters: {'estimator': DecisionTreeClassifier(criterion='entropy', max_depth=10, min_samples_leaf=10,\n",
            "                       random_state=64), 'estimator__criterion': 'gini', 'estimator__max_depth': 5, 'estimator__min_samples_leaf': 10, 'estimator__splitter': 'best'}, Mean Test Score: 0.8514999999999999\n",
            "Parameters: {'estimator': DecisionTreeClassifier(criterion='entropy', max_depth=10, min_samples_leaf=10,\n",
            "                       random_state=64), 'estimator__criterion': 'gini', 'estimator__max_depth': 6, 'estimator__min_samples_leaf': 4, 'estimator__splitter': 'random'}, Mean Test Score: 0.8329375\n",
            "Parameters: {'estimator': DecisionTreeClassifier(criterion='entropy', max_depth=10, min_samples_leaf=10,\n",
            "                       random_state=64), 'estimator__criterion': 'gini', 'estimator__max_depth': 6, 'estimator__min_samples_leaf': 4, 'estimator__splitter': 'best'}, Mean Test Score: 0.8536875\n",
            "Parameters: {'estimator': DecisionTreeClassifier(criterion='entropy', max_depth=10, min_samples_leaf=10,\n",
            "                       random_state=64), 'estimator__criterion': 'gini', 'estimator__max_depth': 6, 'estimator__min_samples_leaf': 6, 'estimator__splitter': 'random'}, Mean Test Score: 0.8334375\n",
            "Parameters: {'estimator': DecisionTreeClassifier(criterion='entropy', max_depth=10, min_samples_leaf=10,\n",
            "                       random_state=64), 'estimator__criterion': 'gini', 'estimator__max_depth': 6, 'estimator__min_samples_leaf': 6, 'estimator__splitter': 'best'}, Mean Test Score: 0.8540625\n",
            "Parameters: {'estimator': DecisionTreeClassifier(criterion='entropy', max_depth=10, min_samples_leaf=10,\n",
            "                       random_state=64), 'estimator__criterion': 'gini', 'estimator__max_depth': 6, 'estimator__min_samples_leaf': 8, 'estimator__splitter': 'random'}, Mean Test Score: 0.8344374999999999\n",
            "Parameters: {'estimator': DecisionTreeClassifier(criterion='entropy', max_depth=10, min_samples_leaf=10,\n",
            "                       random_state=64), 'estimator__criterion': 'gini', 'estimator__max_depth': 6, 'estimator__min_samples_leaf': 8, 'estimator__splitter': 'best'}, Mean Test Score: 0.8538749999999999\n",
            "Parameters: {'estimator': DecisionTreeClassifier(criterion='entropy', max_depth=10, min_samples_leaf=10,\n",
            "                       random_state=64), 'estimator__criterion': 'gini', 'estimator__max_depth': 6, 'estimator__min_samples_leaf': 10, 'estimator__splitter': 'random'}, Mean Test Score: 0.8350625\n",
            "Parameters: {'estimator': DecisionTreeClassifier(criterion='entropy', max_depth=10, min_samples_leaf=10,\n",
            "                       random_state=64), 'estimator__criterion': 'gini', 'estimator__max_depth': 6, 'estimator__min_samples_leaf': 10, 'estimator__splitter': 'best'}, Mean Test Score: 0.8541875\n",
            "Parameters: {'estimator': DecisionTreeClassifier(criterion='entropy', max_depth=10, min_samples_leaf=10,\n",
            "                       random_state=64), 'estimator__criterion': 'gini', 'estimator__max_depth': 10, 'estimator__min_samples_leaf': 4, 'estimator__splitter': 'random'}, Mean Test Score: 0.837125\n",
            "Parameters: {'estimator': DecisionTreeClassifier(criterion='entropy', max_depth=10, min_samples_leaf=10,\n",
            "                       random_state=64), 'estimator__criterion': 'gini', 'estimator__max_depth': 10, 'estimator__min_samples_leaf': 4, 'estimator__splitter': 'best'}, Mean Test Score: 0.85125\n",
            "Parameters: {'estimator': DecisionTreeClassifier(criterion='entropy', max_depth=10, min_samples_leaf=10,\n",
            "                       random_state=64), 'estimator__criterion': 'gini', 'estimator__max_depth': 10, 'estimator__min_samples_leaf': 6, 'estimator__splitter': 'random'}, Mean Test Score: 0.8383124999999999\n",
            "Parameters: {'estimator': DecisionTreeClassifier(criterion='entropy', max_depth=10, min_samples_leaf=10,\n",
            "                       random_state=64), 'estimator__criterion': 'gini', 'estimator__max_depth': 10, 'estimator__min_samples_leaf': 6, 'estimator__splitter': 'best'}, Mean Test Score: 0.8524375\n",
            "Parameters: {'estimator': DecisionTreeClassifier(criterion='entropy', max_depth=10, min_samples_leaf=10,\n",
            "                       random_state=64), 'estimator__criterion': 'gini', 'estimator__max_depth': 10, 'estimator__min_samples_leaf': 8, 'estimator__splitter': 'random'}, Mean Test Score: 0.8453124999999999\n",
            "Parameters: {'estimator': DecisionTreeClassifier(criterion='entropy', max_depth=10, min_samples_leaf=10,\n",
            "                       random_state=64), 'estimator__criterion': 'gini', 'estimator__max_depth': 10, 'estimator__min_samples_leaf': 8, 'estimator__splitter': 'best'}, Mean Test Score: 0.85425\n",
            "Parameters: {'estimator': DecisionTreeClassifier(criterion='entropy', max_depth=10, min_samples_leaf=10,\n",
            "                       random_state=64), 'estimator__criterion': 'gini', 'estimator__max_depth': 10, 'estimator__min_samples_leaf': 10, 'estimator__splitter': 'random'}, Mean Test Score: 0.8359375000000001\n",
            "Parameters: {'estimator': DecisionTreeClassifier(criterion='entropy', max_depth=10, min_samples_leaf=10,\n",
            "                       random_state=64), 'estimator__criterion': 'gini', 'estimator__max_depth': 10, 'estimator__min_samples_leaf': 10, 'estimator__splitter': 'best'}, Mean Test Score: 0.8538749999999999\n"
          ]
        }
      ]
    },
    {
      "cell_type": "code",
      "source": [
        "# Access all parameters and their scores from the grid search\n",
        "all_results = grid5.cv_results_\n",
        "\n",
        "# Get the parameters for the non-best estimator\n",
        "non_best_params = [params for params in all_results['params'] if params != best_params['estimator']]\n",
        "\n",
        "# Print or use the parameters for the non-best estimator\n",
        "for params in non_best_params:\n",
        "    mean_test_score = all_results['mean_test_score'][all_results['params'].index(params)]\n",
        "    print(f\"Parameters: {params}, Mean Test Score: {mean_test_score}\")\n"
      ],
      "metadata": {
        "colab": {
          "base_uri": "https://localhost:8080/"
        },
        "id": "Vay8cV-hJn83",
        "outputId": "1d832b25-8548-42fe-af5e-68094bce68e8"
      },
      "execution_count": 256,
      "outputs": [
        {
          "output_type": "stream",
          "name": "stdout",
          "text": [
            "Parameters: {'estimator': Perceptron(random_state=64), 'estimator__max_iter': 100}, Mean Test Score: 0.810875\n",
            "Parameters: {'estimator': Perceptron(random_state=64), 'estimator__max_iter': 200}, Mean Test Score: 0.810875\n",
            "Parameters: {'estimator': Perceptron(random_state=64), 'estimator__max_iter': 300}, Mean Test Score: 0.810875\n",
            "Parameters: {'estimator': DecisionTreeClassifier(criterion='entropy', max_depth=10, min_samples_leaf=10,\n",
            "                       random_state=64), 'estimator__criterion': 'entropy', 'estimator__max_depth': 3, 'estimator__min_samples_leaf': 4, 'estimator__splitter': 'random'}, Mean Test Score: 0.8175625\n",
            "Parameters: {'estimator': DecisionTreeClassifier(criterion='entropy', max_depth=10, min_samples_leaf=10,\n",
            "                       random_state=64), 'estimator__criterion': 'entropy', 'estimator__max_depth': 3, 'estimator__min_samples_leaf': 4, 'estimator__splitter': 'best'}, Mean Test Score: 0.8436875\n",
            "Parameters: {'estimator': DecisionTreeClassifier(criterion='entropy', max_depth=10, min_samples_leaf=10,\n",
            "                       random_state=64), 'estimator__criterion': 'entropy', 'estimator__max_depth': 3, 'estimator__min_samples_leaf': 6, 'estimator__splitter': 'random'}, Mean Test Score: 0.8175625\n",
            "Parameters: {'estimator': DecisionTreeClassifier(criterion='entropy', max_depth=10, min_samples_leaf=10,\n",
            "                       random_state=64), 'estimator__criterion': 'entropy', 'estimator__max_depth': 3, 'estimator__min_samples_leaf': 6, 'estimator__splitter': 'best'}, Mean Test Score: 0.8436875\n",
            "Parameters: {'estimator': DecisionTreeClassifier(criterion='entropy', max_depth=10, min_samples_leaf=10,\n",
            "                       random_state=64), 'estimator__criterion': 'entropy', 'estimator__max_depth': 3, 'estimator__min_samples_leaf': 8, 'estimator__splitter': 'random'}, Mean Test Score: 0.8175625\n",
            "Parameters: {'estimator': DecisionTreeClassifier(criterion='entropy', max_depth=10, min_samples_leaf=10,\n",
            "                       random_state=64), 'estimator__criterion': 'entropy', 'estimator__max_depth': 3, 'estimator__min_samples_leaf': 8, 'estimator__splitter': 'best'}, Mean Test Score: 0.8436875\n",
            "Parameters: {'estimator': DecisionTreeClassifier(criterion='entropy', max_depth=10, min_samples_leaf=10,\n",
            "                       random_state=64), 'estimator__criterion': 'entropy', 'estimator__max_depth': 3, 'estimator__min_samples_leaf': 10, 'estimator__splitter': 'random'}, Mean Test Score: 0.8175625\n",
            "Parameters: {'estimator': DecisionTreeClassifier(criterion='entropy', max_depth=10, min_samples_leaf=10,\n",
            "                       random_state=64), 'estimator__criterion': 'entropy', 'estimator__max_depth': 3, 'estimator__min_samples_leaf': 10, 'estimator__splitter': 'best'}, Mean Test Score: 0.8436875\n",
            "Parameters: {'estimator': DecisionTreeClassifier(criterion='entropy', max_depth=10, min_samples_leaf=10,\n",
            "                       random_state=64), 'estimator__criterion': 'entropy', 'estimator__max_depth': 4, 'estimator__min_samples_leaf': 4, 'estimator__splitter': 'random'}, Mean Test Score: 0.82625\n",
            "Parameters: {'estimator': DecisionTreeClassifier(criterion='entropy', max_depth=10, min_samples_leaf=10,\n",
            "                       random_state=64), 'estimator__criterion': 'entropy', 'estimator__max_depth': 4, 'estimator__min_samples_leaf': 4, 'estimator__splitter': 'best'}, Mean Test Score: 0.8434999999999999\n",
            "Parameters: {'estimator': DecisionTreeClassifier(criterion='entropy', max_depth=10, min_samples_leaf=10,\n",
            "                       random_state=64), 'estimator__criterion': 'entropy', 'estimator__max_depth': 4, 'estimator__min_samples_leaf': 6, 'estimator__splitter': 'random'}, Mean Test Score: 0.82625\n",
            "Parameters: {'estimator': DecisionTreeClassifier(criterion='entropy', max_depth=10, min_samples_leaf=10,\n",
            "                       random_state=64), 'estimator__criterion': 'entropy', 'estimator__max_depth': 4, 'estimator__min_samples_leaf': 6, 'estimator__splitter': 'best'}, Mean Test Score: 0.843375\n",
            "Parameters: {'estimator': DecisionTreeClassifier(criterion='entropy', max_depth=10, min_samples_leaf=10,\n",
            "                       random_state=64), 'estimator__criterion': 'entropy', 'estimator__max_depth': 4, 'estimator__min_samples_leaf': 8, 'estimator__splitter': 'random'}, Mean Test Score: 0.8259374999999999\n",
            "Parameters: {'estimator': DecisionTreeClassifier(criterion='entropy', max_depth=10, min_samples_leaf=10,\n",
            "                       random_state=64), 'estimator__criterion': 'entropy', 'estimator__max_depth': 4, 'estimator__min_samples_leaf': 8, 'estimator__splitter': 'best'}, Mean Test Score: 0.8436875\n",
            "Parameters: {'estimator': DecisionTreeClassifier(criterion='entropy', max_depth=10, min_samples_leaf=10,\n",
            "                       random_state=64), 'estimator__criterion': 'entropy', 'estimator__max_depth': 4, 'estimator__min_samples_leaf': 10, 'estimator__splitter': 'random'}, Mean Test Score: 0.8259374999999999\n",
            "Parameters: {'estimator': DecisionTreeClassifier(criterion='entropy', max_depth=10, min_samples_leaf=10,\n",
            "                       random_state=64), 'estimator__criterion': 'entropy', 'estimator__max_depth': 4, 'estimator__min_samples_leaf': 10, 'estimator__splitter': 'best'}, Mean Test Score: 0.8436875\n",
            "Parameters: {'estimator': DecisionTreeClassifier(criterion='entropy', max_depth=10, min_samples_leaf=10,\n",
            "                       random_state=64), 'estimator__criterion': 'entropy', 'estimator__max_depth': 5, 'estimator__min_samples_leaf': 4, 'estimator__splitter': 'random'}, Mean Test Score: 0.8265624999999999\n",
            "Parameters: {'estimator': DecisionTreeClassifier(criterion='entropy', max_depth=10, min_samples_leaf=10,\n",
            "                       random_state=64), 'estimator__criterion': 'entropy', 'estimator__max_depth': 5, 'estimator__min_samples_leaf': 4, 'estimator__splitter': 'best'}, Mean Test Score: 0.8475625\n",
            "Parameters: {'estimator': DecisionTreeClassifier(criterion='entropy', max_depth=10, min_samples_leaf=10,\n",
            "                       random_state=64), 'estimator__criterion': 'entropy', 'estimator__max_depth': 5, 'estimator__min_samples_leaf': 6, 'estimator__splitter': 'random'}, Mean Test Score: 0.8265625000000001\n",
            "Parameters: {'estimator': DecisionTreeClassifier(criterion='entropy', max_depth=10, min_samples_leaf=10,\n",
            "                       random_state=64), 'estimator__criterion': 'entropy', 'estimator__max_depth': 5, 'estimator__min_samples_leaf': 6, 'estimator__splitter': 'best'}, Mean Test Score: 0.847875\n",
            "Parameters: {'estimator': DecisionTreeClassifier(criterion='entropy', max_depth=10, min_samples_leaf=10,\n",
            "                       random_state=64), 'estimator__criterion': 'entropy', 'estimator__max_depth': 5, 'estimator__min_samples_leaf': 8, 'estimator__splitter': 'random'}, Mean Test Score: 0.8260625\n",
            "Parameters: {'estimator': DecisionTreeClassifier(criterion='entropy', max_depth=10, min_samples_leaf=10,\n",
            "                       random_state=64), 'estimator__criterion': 'entropy', 'estimator__max_depth': 5, 'estimator__min_samples_leaf': 8, 'estimator__splitter': 'best'}, Mean Test Score: 0.848125\n",
            "Parameters: {'estimator': DecisionTreeClassifier(criterion='entropy', max_depth=10, min_samples_leaf=10,\n",
            "                       random_state=64), 'estimator__criterion': 'entropy', 'estimator__max_depth': 5, 'estimator__min_samples_leaf': 10, 'estimator__splitter': 'random'}, Mean Test Score: 0.826875\n",
            "Parameters: {'estimator': DecisionTreeClassifier(criterion='entropy', max_depth=10, min_samples_leaf=10,\n",
            "                       random_state=64), 'estimator__criterion': 'entropy', 'estimator__max_depth': 5, 'estimator__min_samples_leaf': 10, 'estimator__splitter': 'best'}, Mean Test Score: 0.8480625\n",
            "Parameters: {'estimator': DecisionTreeClassifier(criterion='entropy', max_depth=10, min_samples_leaf=10,\n",
            "                       random_state=64), 'estimator__criterion': 'entropy', 'estimator__max_depth': 6, 'estimator__min_samples_leaf': 4, 'estimator__splitter': 'random'}, Mean Test Score: 0.8315\n",
            "Parameters: {'estimator': DecisionTreeClassifier(criterion='entropy', max_depth=10, min_samples_leaf=10,\n",
            "                       random_state=64), 'estimator__criterion': 'entropy', 'estimator__max_depth': 6, 'estimator__min_samples_leaf': 4, 'estimator__splitter': 'best'}, Mean Test Score: 0.85325\n",
            "Parameters: {'estimator': DecisionTreeClassifier(criterion='entropy', max_depth=10, min_samples_leaf=10,\n",
            "                       random_state=64), 'estimator__criterion': 'entropy', 'estimator__max_depth': 6, 'estimator__min_samples_leaf': 6, 'estimator__splitter': 'random'}, Mean Test Score: 0.8306250000000001\n",
            "Parameters: {'estimator': DecisionTreeClassifier(criterion='entropy', max_depth=10, min_samples_leaf=10,\n",
            "                       random_state=64), 'estimator__criterion': 'entropy', 'estimator__max_depth': 6, 'estimator__min_samples_leaf': 6, 'estimator__splitter': 'best'}, Mean Test Score: 0.8531249999999999\n",
            "Parameters: {'estimator': DecisionTreeClassifier(criterion='entropy', max_depth=10, min_samples_leaf=10,\n",
            "                       random_state=64), 'estimator__criterion': 'entropy', 'estimator__max_depth': 6, 'estimator__min_samples_leaf': 8, 'estimator__splitter': 'random'}, Mean Test Score: 0.8335\n",
            "Parameters: {'estimator': DecisionTreeClassifier(criterion='entropy', max_depth=10, min_samples_leaf=10,\n",
            "                       random_state=64), 'estimator__criterion': 'entropy', 'estimator__max_depth': 6, 'estimator__min_samples_leaf': 8, 'estimator__splitter': 'best'}, Mean Test Score: 0.853\n",
            "Parameters: {'estimator': DecisionTreeClassifier(criterion='entropy', max_depth=10, min_samples_leaf=10,\n",
            "                       random_state=64), 'estimator__criterion': 'entropy', 'estimator__max_depth': 6, 'estimator__min_samples_leaf': 10, 'estimator__splitter': 'random'}, Mean Test Score: 0.8295625\n",
            "Parameters: {'estimator': DecisionTreeClassifier(criterion='entropy', max_depth=10, min_samples_leaf=10,\n",
            "                       random_state=64), 'estimator__criterion': 'entropy', 'estimator__max_depth': 6, 'estimator__min_samples_leaf': 10, 'estimator__splitter': 'best'}, Mean Test Score: 0.852625\n",
            "Parameters: {'estimator': DecisionTreeClassifier(criterion='entropy', max_depth=10, min_samples_leaf=10,\n",
            "                       random_state=64), 'estimator__criterion': 'entropy', 'estimator__max_depth': 10, 'estimator__min_samples_leaf': 4, 'estimator__splitter': 'random'}, Mean Test Score: 0.8380625\n",
            "Parameters: {'estimator': DecisionTreeClassifier(criterion='entropy', max_depth=10, min_samples_leaf=10,\n",
            "                       random_state=64), 'estimator__criterion': 'entropy', 'estimator__max_depth': 10, 'estimator__min_samples_leaf': 4, 'estimator__splitter': 'best'}, Mean Test Score: 0.852\n",
            "Parameters: {'estimator': DecisionTreeClassifier(criterion='entropy', max_depth=10, min_samples_leaf=10,\n",
            "                       random_state=64), 'estimator__criterion': 'entropy', 'estimator__max_depth': 10, 'estimator__min_samples_leaf': 6, 'estimator__splitter': 'random'}, Mean Test Score: 0.8415625\n",
            "Parameters: {'estimator': DecisionTreeClassifier(criterion='entropy', max_depth=10, min_samples_leaf=10,\n",
            "                       random_state=64), 'estimator__criterion': 'entropy', 'estimator__max_depth': 10, 'estimator__min_samples_leaf': 6, 'estimator__splitter': 'best'}, Mean Test Score: 0.8524375\n",
            "Parameters: {'estimator': DecisionTreeClassifier(criterion='entropy', max_depth=10, min_samples_leaf=10,\n",
            "                       random_state=64), 'estimator__criterion': 'entropy', 'estimator__max_depth': 10, 'estimator__min_samples_leaf': 8, 'estimator__splitter': 'random'}, Mean Test Score: 0.8369375\n",
            "Parameters: {'estimator': DecisionTreeClassifier(criterion='entropy', max_depth=10, min_samples_leaf=10,\n",
            "                       random_state=64), 'estimator__criterion': 'entropy', 'estimator__max_depth': 10, 'estimator__min_samples_leaf': 8, 'estimator__splitter': 'best'}, Mean Test Score: 0.8538125\n",
            "Parameters: {'estimator': DecisionTreeClassifier(criterion='entropy', max_depth=10, min_samples_leaf=10,\n",
            "                       random_state=64), 'estimator__criterion': 'entropy', 'estimator__max_depth': 10, 'estimator__min_samples_leaf': 10, 'estimator__splitter': 'random'}, Mean Test Score: 0.8383125\n",
            "Parameters: {'estimator': DecisionTreeClassifier(criterion='entropy', max_depth=10, min_samples_leaf=10,\n",
            "                       random_state=64), 'estimator__criterion': 'entropy', 'estimator__max_depth': 10, 'estimator__min_samples_leaf': 10, 'estimator__splitter': 'best'}, Mean Test Score: 0.8543749999999999\n",
            "Parameters: {'estimator': DecisionTreeClassifier(criterion='entropy', max_depth=10, min_samples_leaf=10,\n",
            "                       random_state=64), 'estimator__criterion': 'gini', 'estimator__max_depth': 3, 'estimator__min_samples_leaf': 4, 'estimator__splitter': 'random'}, Mean Test Score: 0.8176874999999999\n",
            "Parameters: {'estimator': DecisionTreeClassifier(criterion='entropy', max_depth=10, min_samples_leaf=10,\n",
            "                       random_state=64), 'estimator__criterion': 'gini', 'estimator__max_depth': 3, 'estimator__min_samples_leaf': 4, 'estimator__splitter': 'best'}, Mean Test Score: 0.843125\n",
            "Parameters: {'estimator': DecisionTreeClassifier(criterion='entropy', max_depth=10, min_samples_leaf=10,\n",
            "                       random_state=64), 'estimator__criterion': 'gini', 'estimator__max_depth': 3, 'estimator__min_samples_leaf': 6, 'estimator__splitter': 'random'}, Mean Test Score: 0.8176874999999999\n",
            "Parameters: {'estimator': DecisionTreeClassifier(criterion='entropy', max_depth=10, min_samples_leaf=10,\n",
            "                       random_state=64), 'estimator__criterion': 'gini', 'estimator__max_depth': 3, 'estimator__min_samples_leaf': 6, 'estimator__splitter': 'best'}, Mean Test Score: 0.843375\n",
            "Parameters: {'estimator': DecisionTreeClassifier(criterion='entropy', max_depth=10, min_samples_leaf=10,\n",
            "                       random_state=64), 'estimator__criterion': 'gini', 'estimator__max_depth': 3, 'estimator__min_samples_leaf': 8, 'estimator__splitter': 'random'}, Mean Test Score: 0.8176874999999999\n",
            "Parameters: {'estimator': DecisionTreeClassifier(criterion='entropy', max_depth=10, min_samples_leaf=10,\n",
            "                       random_state=64), 'estimator__criterion': 'gini', 'estimator__max_depth': 3, 'estimator__min_samples_leaf': 8, 'estimator__splitter': 'best'}, Mean Test Score: 0.843375\n",
            "Parameters: {'estimator': DecisionTreeClassifier(criterion='entropy', max_depth=10, min_samples_leaf=10,\n",
            "                       random_state=64), 'estimator__criterion': 'gini', 'estimator__max_depth': 3, 'estimator__min_samples_leaf': 10, 'estimator__splitter': 'random'}, Mean Test Score: 0.8176874999999999\n",
            "Parameters: {'estimator': DecisionTreeClassifier(criterion='entropy', max_depth=10, min_samples_leaf=10,\n",
            "                       random_state=64), 'estimator__criterion': 'gini', 'estimator__max_depth': 3, 'estimator__min_samples_leaf': 10, 'estimator__splitter': 'best'}, Mean Test Score: 0.843375\n",
            "Parameters: {'estimator': DecisionTreeClassifier(criterion='entropy', max_depth=10, min_samples_leaf=10,\n",
            "                       random_state=64), 'estimator__criterion': 'gini', 'estimator__max_depth': 4, 'estimator__min_samples_leaf': 4, 'estimator__splitter': 'random'}, Mean Test Score: 0.825375\n",
            "Parameters: {'estimator': DecisionTreeClassifier(criterion='entropy', max_depth=10, min_samples_leaf=10,\n",
            "                       random_state=64), 'estimator__criterion': 'gini', 'estimator__max_depth': 4, 'estimator__min_samples_leaf': 4, 'estimator__splitter': 'best'}, Mean Test Score: 0.8446249999999998\n",
            "Parameters: {'estimator': DecisionTreeClassifier(criterion='entropy', max_depth=10, min_samples_leaf=10,\n",
            "                       random_state=64), 'estimator__criterion': 'gini', 'estimator__max_depth': 4, 'estimator__min_samples_leaf': 6, 'estimator__splitter': 'random'}, Mean Test Score: 0.825625\n",
            "Parameters: {'estimator': DecisionTreeClassifier(criterion='entropy', max_depth=10, min_samples_leaf=10,\n",
            "                       random_state=64), 'estimator__criterion': 'gini', 'estimator__max_depth': 4, 'estimator__min_samples_leaf': 6, 'estimator__splitter': 'best'}, Mean Test Score: 0.8446249999999998\n",
            "Parameters: {'estimator': DecisionTreeClassifier(criterion='entropy', max_depth=10, min_samples_leaf=10,\n",
            "                       random_state=64), 'estimator__criterion': 'gini', 'estimator__max_depth': 4, 'estimator__min_samples_leaf': 8, 'estimator__splitter': 'random'}, Mean Test Score: 0.8255\n",
            "Parameters: {'estimator': DecisionTreeClassifier(criterion='entropy', max_depth=10, min_samples_leaf=10,\n",
            "                       random_state=64), 'estimator__criterion': 'gini', 'estimator__max_depth': 4, 'estimator__min_samples_leaf': 8, 'estimator__splitter': 'best'}, Mean Test Score: 0.8448749999999998\n",
            "Parameters: {'estimator': DecisionTreeClassifier(criterion='entropy', max_depth=10, min_samples_leaf=10,\n",
            "                       random_state=64), 'estimator__criterion': 'gini', 'estimator__max_depth': 4, 'estimator__min_samples_leaf': 10, 'estimator__splitter': 'random'}, Mean Test Score: 0.8283125\n",
            "Parameters: {'estimator': DecisionTreeClassifier(criterion='entropy', max_depth=10, min_samples_leaf=10,\n",
            "                       random_state=64), 'estimator__criterion': 'gini', 'estimator__max_depth': 4, 'estimator__min_samples_leaf': 10, 'estimator__splitter': 'best'}, Mean Test Score: 0.8446875\n",
            "Parameters: {'estimator': DecisionTreeClassifier(criterion='entropy', max_depth=10, min_samples_leaf=10,\n",
            "                       random_state=64), 'estimator__criterion': 'gini', 'estimator__max_depth': 5, 'estimator__min_samples_leaf': 4, 'estimator__splitter': 'random'}, Mean Test Score: 0.8266875\n",
            "Parameters: {'estimator': DecisionTreeClassifier(criterion='entropy', max_depth=10, min_samples_leaf=10,\n",
            "                       random_state=64), 'estimator__criterion': 'gini', 'estimator__max_depth': 5, 'estimator__min_samples_leaf': 4, 'estimator__splitter': 'best'}, Mean Test Score: 0.85075\n",
            "Parameters: {'estimator': DecisionTreeClassifier(criterion='entropy', max_depth=10, min_samples_leaf=10,\n",
            "                       random_state=64), 'estimator__criterion': 'gini', 'estimator__max_depth': 5, 'estimator__min_samples_leaf': 6, 'estimator__splitter': 'random'}, Mean Test Score: 0.8309375\n",
            "Parameters: {'estimator': DecisionTreeClassifier(criterion='entropy', max_depth=10, min_samples_leaf=10,\n",
            "                       random_state=64), 'estimator__criterion': 'gini', 'estimator__max_depth': 5, 'estimator__min_samples_leaf': 6, 'estimator__splitter': 'best'}, Mean Test Score: 0.851\n",
            "Parameters: {'estimator': DecisionTreeClassifier(criterion='entropy', max_depth=10, min_samples_leaf=10,\n",
            "                       random_state=64), 'estimator__criterion': 'gini', 'estimator__max_depth': 5, 'estimator__min_samples_leaf': 8, 'estimator__splitter': 'random'}, Mean Test Score: 0.8284999999999999\n",
            "Parameters: {'estimator': DecisionTreeClassifier(criterion='entropy', max_depth=10, min_samples_leaf=10,\n",
            "                       random_state=64), 'estimator__criterion': 'gini', 'estimator__max_depth': 5, 'estimator__min_samples_leaf': 8, 'estimator__splitter': 'best'}, Mean Test Score: 0.8513124999999999\n",
            "Parameters: {'estimator': DecisionTreeClassifier(criterion='entropy', max_depth=10, min_samples_leaf=10,\n",
            "                       random_state=64), 'estimator__criterion': 'gini', 'estimator__max_depth': 5, 'estimator__min_samples_leaf': 10, 'estimator__splitter': 'random'}, Mean Test Score: 0.82775\n",
            "Parameters: {'estimator': DecisionTreeClassifier(criterion='entropy', max_depth=10, min_samples_leaf=10,\n",
            "                       random_state=64), 'estimator__criterion': 'gini', 'estimator__max_depth': 5, 'estimator__min_samples_leaf': 10, 'estimator__splitter': 'best'}, Mean Test Score: 0.8514999999999999\n",
            "Parameters: {'estimator': DecisionTreeClassifier(criterion='entropy', max_depth=10, min_samples_leaf=10,\n",
            "                       random_state=64), 'estimator__criterion': 'gini', 'estimator__max_depth': 6, 'estimator__min_samples_leaf': 4, 'estimator__splitter': 'random'}, Mean Test Score: 0.8329375\n",
            "Parameters: {'estimator': DecisionTreeClassifier(criterion='entropy', max_depth=10, min_samples_leaf=10,\n",
            "                       random_state=64), 'estimator__criterion': 'gini', 'estimator__max_depth': 6, 'estimator__min_samples_leaf': 4, 'estimator__splitter': 'best'}, Mean Test Score: 0.8536875\n",
            "Parameters: {'estimator': DecisionTreeClassifier(criterion='entropy', max_depth=10, min_samples_leaf=10,\n",
            "                       random_state=64), 'estimator__criterion': 'gini', 'estimator__max_depth': 6, 'estimator__min_samples_leaf': 6, 'estimator__splitter': 'random'}, Mean Test Score: 0.8334375\n",
            "Parameters: {'estimator': DecisionTreeClassifier(criterion='entropy', max_depth=10, min_samples_leaf=10,\n",
            "                       random_state=64), 'estimator__criterion': 'gini', 'estimator__max_depth': 6, 'estimator__min_samples_leaf': 6, 'estimator__splitter': 'best'}, Mean Test Score: 0.8540625\n",
            "Parameters: {'estimator': DecisionTreeClassifier(criterion='entropy', max_depth=10, min_samples_leaf=10,\n",
            "                       random_state=64), 'estimator__criterion': 'gini', 'estimator__max_depth': 6, 'estimator__min_samples_leaf': 8, 'estimator__splitter': 'random'}, Mean Test Score: 0.8344374999999999\n",
            "Parameters: {'estimator': DecisionTreeClassifier(criterion='entropy', max_depth=10, min_samples_leaf=10,\n",
            "                       random_state=64), 'estimator__criterion': 'gini', 'estimator__max_depth': 6, 'estimator__min_samples_leaf': 8, 'estimator__splitter': 'best'}, Mean Test Score: 0.8538749999999999\n",
            "Parameters: {'estimator': DecisionTreeClassifier(criterion='entropy', max_depth=10, min_samples_leaf=10,\n",
            "                       random_state=64), 'estimator__criterion': 'gini', 'estimator__max_depth': 6, 'estimator__min_samples_leaf': 10, 'estimator__splitter': 'random'}, Mean Test Score: 0.8350625\n",
            "Parameters: {'estimator': DecisionTreeClassifier(criterion='entropy', max_depth=10, min_samples_leaf=10,\n",
            "                       random_state=64), 'estimator__criterion': 'gini', 'estimator__max_depth': 6, 'estimator__min_samples_leaf': 10, 'estimator__splitter': 'best'}, Mean Test Score: 0.8541875\n",
            "Parameters: {'estimator': DecisionTreeClassifier(criterion='entropy', max_depth=10, min_samples_leaf=10,\n",
            "                       random_state=64), 'estimator__criterion': 'gini', 'estimator__max_depth': 10, 'estimator__min_samples_leaf': 4, 'estimator__splitter': 'random'}, Mean Test Score: 0.837125\n",
            "Parameters: {'estimator': DecisionTreeClassifier(criterion='entropy', max_depth=10, min_samples_leaf=10,\n",
            "                       random_state=64), 'estimator__criterion': 'gini', 'estimator__max_depth': 10, 'estimator__min_samples_leaf': 4, 'estimator__splitter': 'best'}, Mean Test Score: 0.85125\n",
            "Parameters: {'estimator': DecisionTreeClassifier(criterion='entropy', max_depth=10, min_samples_leaf=10,\n",
            "                       random_state=64), 'estimator__criterion': 'gini', 'estimator__max_depth': 10, 'estimator__min_samples_leaf': 6, 'estimator__splitter': 'random'}, Mean Test Score: 0.8383124999999999\n",
            "Parameters: {'estimator': DecisionTreeClassifier(criterion='entropy', max_depth=10, min_samples_leaf=10,\n",
            "                       random_state=64), 'estimator__criterion': 'gini', 'estimator__max_depth': 10, 'estimator__min_samples_leaf': 6, 'estimator__splitter': 'best'}, Mean Test Score: 0.8524375\n",
            "Parameters: {'estimator': DecisionTreeClassifier(criterion='entropy', max_depth=10, min_samples_leaf=10,\n",
            "                       random_state=64), 'estimator__criterion': 'gini', 'estimator__max_depth': 10, 'estimator__min_samples_leaf': 8, 'estimator__splitter': 'random'}, Mean Test Score: 0.8453124999999999\n",
            "Parameters: {'estimator': DecisionTreeClassifier(criterion='entropy', max_depth=10, min_samples_leaf=10,\n",
            "                       random_state=64), 'estimator__criterion': 'gini', 'estimator__max_depth': 10, 'estimator__min_samples_leaf': 8, 'estimator__splitter': 'best'}, Mean Test Score: 0.85425\n",
            "Parameters: {'estimator': DecisionTreeClassifier(criterion='entropy', max_depth=10, min_samples_leaf=10,\n",
            "                       random_state=64), 'estimator__criterion': 'gini', 'estimator__max_depth': 10, 'estimator__min_samples_leaf': 10, 'estimator__splitter': 'random'}, Mean Test Score: 0.8359375000000001\n",
            "Parameters: {'estimator': DecisionTreeClassifier(criterion='entropy', max_depth=10, min_samples_leaf=10,\n",
            "                       random_state=64), 'estimator__criterion': 'gini', 'estimator__max_depth': 10, 'estimator__min_samples_leaf': 10, 'estimator__splitter': 'best'}, Mean Test Score: 0.8538749999999999\n"
          ]
        }
      ]
    }
  ]
}